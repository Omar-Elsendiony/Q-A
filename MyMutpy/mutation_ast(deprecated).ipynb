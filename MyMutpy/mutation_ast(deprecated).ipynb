{
 "cells": [
  {
   "cell_type": "code",
   "execution_count": 2,
   "metadata": {},
   "outputs": [],
   "source": [
    "import ast\n",
    "import astunparse"
   ]
  },
  {
   "cell_type": "code",
   "execution_count": 4,
   "metadata": {},
   "outputs": [
    {
     "name": "stdout",
     "output_type": "stream",
     "text": [
      "['def func', 'y ', ' x ', ' z', '', ' return u']\n"
     ]
    }
   ],
   "source": [
    "# from typing import List\n",
    "# import itertools\n",
    "\n",
    "# def findTypeLine(line):\n",
    "#     tokensArrSplit = [',', '(', ')',\":\"] # may result in empty element in list\n",
    "#     def flatten(lst):\n",
    "#         return list(itertools.chain.from_iterable(flatten(item) if isinstance(item, list) else [item] for item in lst))\n",
    "\n",
    "#     def splitMe(code: List | str, tokensArrSplit: List, index:int):\n",
    "#         if (index == len(tokensArrSplit)): return code\n",
    "#         listCodeTokens = []\n",
    "#         if (type(code) is list):\n",
    "#             for (i, c) in enumerate(code):\n",
    "#                 if (c == \"\"): continue\n",
    "#                 splitted = c.split(tokensArrSplit[index])\n",
    "#                 # print(splitted)\n",
    "#                 if (not splitted): continue\n",
    "#                 listCodeTokens.append(splitted)\n",
    "#             listCodeTokens  = flatten(listCodeTokens)\n",
    "#             return splitMe(listCodeTokens, tokensArrSplit, index + 1)\n",
    "#         else:\n",
    "#             listCodeTokens = code.split(tokensArrSplit[index])\n",
    "#             return splitMe(listCodeTokens, tokensArrSplit, index + 1)\n",
    "    \n",
    "#     testFunc = \"def func(y , x , z): return 2 + 3 * 5\"\n",
    "#     print(splitMe(testFunc, tokensArrSplit, 0))\n",
    "\n",
    "# findTypeLine(\"p\")\n",
    "\n"
   ]
  },
  {
   "cell_type": "code",
   "execution_count": 17,
   "metadata": {},
   "outputs": [
    {
     "name": "stdout",
     "output_type": "stream",
     "text": [
      "grape banana orange peach pineapple orange kiwi strawberry pear apple kiwi apple pineapple strawberry pear grape pear pear strawberry grape banana melon grape melon pear peach pineapple grape kiwi banana grape melon melon kiwi melon peach pear strawberry apple melon strawberry strawberry melon grape apple grape banana pineapple peach strawberry grape pear pineapple pineapple pear apple melon apple banana pineapple melon pineapple grape banana pineapple pineapple banana pineapple pear grape banana pineapple apple peach melon orange orange pineapple pear pear strawberry grape melon orange apple grape grape grape grape strawberry kiwi apple pear melon apple apple peach strawberry banana melon melon peach strawberry grape strawberry pear pear pear melon kiwi pear pineapple strawberry orange pineapple kiwi grape pineapple orange melon peach orange pineapple apple peach banana pear strawberry banana banana peach kiwi melon orange banana banana pear pineapple apple grape strawberry pineapple strawberry strawberry pear strawberry melon banana strawberry banana pear grape kiwi strawberry orange orange melon pear peach kiwi banana peach apple pear kiwi pineapple kiwi peach apple banana apple grape pear melon pineapple pear apple pineapple banana peach peach grape pear apple grape peach orange kiwi grape banana strawberry grape pineapple orange grape apple peach peach pineapple pear apple banana apple melon pear apple apple strawberry apple grape peach apple orange peach grape peach melon strawberry pear kiwi peach orange apple apple pineapple apple pineapple grape pear orange banana melon kiwi melon grape melon kiwi melon grape apple grape kiwi peach orange peach pineapple strawberry grape pear peach kiwi kiwi kiwi peach banana peach pear pear strawberry apple strawberry apple pineapple strawberry orange banana orange melon kiwi apple kiwi banana kiwi apple strawberry strawberry strawberry melon strawberry pear banana pear orange pineapple grape pear grape pineapple grape melon peach banana grape kiwi banana melon orange grape pineapple peach kiwi grape melon apple pear kiwi orange kiwi peach melon apple kiwi orange apple pineapple peach orange apple banana peach melon peach melon grape peach banana pear pineapple peach orange peach banana orange kiwi orange pear peach orange orange orange kiwi melon apple grape apple pineapple peach orange peach orange kiwi strawberry melon apple pear orange orange pear orange peach strawberry grape apple banana melon pineapple grape kiwi grape pineapple strawberry peach kiwi orange peach strawberry pineapple melon orange kiwi pineapple banana strawberry strawberry melon orange grape orange melon peach melon strawberry pear kiwi banana grape apple peach pineapple pear melon strawberry orange banana pineapple apple pear melon banana melon pear pear grape strawberry strawberry pear grape strawberry pear banana strawberry grape kiwi pineapple pear grape melon peach strawberry banana orange peach kiwi grape grape pineapple banana pear peach peach apple pineapple peach banana banana grape strawberry kiwi pineapple banana pear banana apple peach pear peach banana grape orange grape banana pineapple peach peach grape apple pineapple peach banana melon melon pear pineapple grape melon grape orange kiwi strawberry kiwi banana kiwi banana strawberry grape pear pineapple grape pineapple banana kiwi grape pineapple melon apple kiwi pineapple melon pineapple apple grape melon kiwi apple banana apple banana pineapple orange pear kiwi banana pineapple pineapple banana orange banana banana peach orange peach pear banana apple banana apple grape apple strawberry banana pear strawberry orange pineapple melon apple banana apple peach peach pineapple apple peach orange pear peach grape strawberry pineapple melon banana banana peach banana pear melon apple banana apple kiwi peach kiwi pineapple strawberry pear pear strawberry pineapple kiwi strawberry strawberry pineapple strawberry melon banana banana kiwi pineapple orange orange kiwi pineapple apple banana peach melon apple pineapple orange apple apple grape pineapple kiwi peach banana pear strawberry strawberry peach melon kiwi melon melon grape grape strawberry banana pineapple melon peach apple melon banana melon apple grape grape kiwi grape pineapple orange pear banana apple orange apple pear melon orange banana pear kiwi peach banana melon pear grape banana banana grape banana strawberry orange pear melon grape strawberry pineapple peach kiwi pear banana banana strawberry banana strawberry apple kiwi strawberry orange banana apple melon orange pear pineapple apple pear banana pineapple kiwi grape strawberry kiwi orange melon apple banana peach peach peach pear banana apple peach melon peach banana kiwi melon banana pear kiwi pineapple grape banana peach pineapple apple pear kiwi pineapple pineapple melon strawberry banana pear orange orange pear pear kiwi apple pineapple melon banana banana strawberry pineapple pineapple kiwi peach strawberry pineapple apple pineapple strawberry strawberry pear banana strawberry banana grape kiwi pineapple melon grape peach pear pineapple pineapple pear orange orange kiwi pear melon grape pineapple peach pineapple kiwi pineapple peach pineapple pear grape pear pear kiwi kiwi orange banana strawberry peach peach strawberry peach banana peach pineapple strawberry strawberry orange banana melon strawberry strawberry strawberry banana pear banana pear apple melon peach grape apple kiwi banana strawberry melon apple pineapple melon banana peach banana apple pineapple orange melon grape kiwi orange orange orange orange grape orange grape apple orange kiwi banana banana apple apple pineapple grape peach pineapple strawberry orange kiwi strawberry orange melon apple kiwi grape grape peach orange peach pineapple pineapple grape kiwi pear pear pear apple pear orange banana orange orange banana grape strawberry melon peach kiwi kiwi melon kiwi pineapple banana peach peach pear apple pear peach banana kiwi kiwi strawberry orange kiwi grape grape pineapple pineapple peach pineapple banana melon melon melon kiwi apple melon pineapple pear kiwi apple strawberry strawberry kiwi grape pineapple orange strawberry pineapple kiwi pineapple apple grape kiwi orange peach pineapple melon pineapple kiwi grape banana peach pear strawberry pineapple pear strawberry strawberry strawberry orange melon banana pear kiwi grape melon grape kiwi grape pineapple kiwi strawberry melon orange kiwi apple apple banana melon banana strawberry pineapple grape grape apple pear pear strawberry peach apple pineapple strawberry grape orange melon banana pineapple peach grape grape grape kiwi melon orange peach orange pear apple apple strawberry apple kiwi peach melon peach banana banana pear pear peach melon orange orange peach grape orange orange banana pineapple melon pear kiwi banana banana pear apple kiwi orange banana pear orange\n"
     ]
    }
   ],
   "source": [
    "\n",
    "# import random\n",
    "# import string\n",
    "\n",
    "# # Define a list of words\n",
    "# words = ['apple', 'banana', 'orange', 'grape', 'kiwi', 'pineapple', 'strawberry', 'melon', 'peach', 'pear']\n",
    "\n",
    "# # Generate 100 random words separated by spaces\n",
    "# random_words = ' '.join(random.choices(words, k=1000))\n",
    "# print(random_words)"
   ]
  },
  {
   "cell_type": "code",
   "execution_count": 54,
   "metadata": {},
   "outputs": [
    {
     "name": "stdout",
     "output_type": "stream",
     "text": [
      "0.000514984130859375\n",
      "0.0\n",
      "True\n"
     ]
    }
   ],
   "source": [
    "# # test split timing\n",
    "# def omarSplit(string: str, splitToken: str):\n",
    "#     lst = []\n",
    "#     ln = len(string)\n",
    "#     i = 0\n",
    "#     temp = \"\"\n",
    "#     while (i < ln):\n",
    "#         if (string[i] == splitToken):\n",
    "#             lst.append(temp)\n",
    "#             temp = \"\"\n",
    "#         else:\n",
    "#             temp += string[i]\n",
    "#         i += 1\n",
    "#     else:\n",
    "#         lst.append(temp)\n",
    "\n",
    "#     return lst\n",
    "# import time\n",
    "\n",
    "# exp = \"a b c d e f g h i j k l m n o p q r s t u v w x y z\"\n",
    "# exp = random_words\n",
    "# start = time.time()\n",
    "# m = omarSplit(exp, \" \")\n",
    "# print(time.time() - start)\n",
    "\n",
    "# start = time.time()\n",
    "# m2 = exp.split(\" \")\n",
    "# print(time.time() - start)\n",
    "\n",
    "# print(m == m2)"
   ]
  },
  {
   "cell_type": "code",
   "execution_count": 56,
   "metadata": {},
   "outputs": [],
   "source": [
    "cd = \"\"\"\n",
    "import random\n",
    "\n",
    "# Generate a list of 10 random numbers between 1 and 100\n",
    "random_numbers = [random.randint(1, 100) for _ in range(10 + 1)]\n",
    "\n",
    "# Print the unsorted list\n",
    "print(\"Unsorted numbers:\", random_numbers)\n",
    "\n",
    "# Sort the list\n",
    "random_numbers.sort()\n",
    "\n",
    "# Print the sorted list\n",
    "print(\"Sorted numbers:\", random_numbers)\n",
    "\"\"\""
   ]
  },
  {
   "cell_type": "code",
   "execution_count": 68,
   "metadata": {},
   "outputs": [],
   "source": [
    "def segmentLine(line):\n",
    "    segmentors = {' ', '(', ')', '[', ']', '{', '}', ':', ',', '='}\n",
    "    i = 0\n",
    "    ln = len(line)\n",
    "    lst = []\n",
    "    st = set()\n",
    "    temp = \"\"\n",
    "    while(i < ln):\n",
    "        if (line[i] == \" \"): # I do not need spaces\n",
    "            if (i - 1 != 0 and line[i - 1] != \" \"):\n",
    "                lst.append(temp)\n",
    "                st.add(temp)\n",
    "                temp = \"\"\n",
    "            i += 1\n",
    "            continue\n",
    "        elif (line[i] == \"\\n\"): # break loop has to be added in the scope as we are considering only one line and remove the outer else, however, Ignore for now\n",
    "            if (temp != \"\"):\n",
    "                lst.append(temp)\n",
    "                st.add(temp)\n",
    "                temp = \"\"\n",
    "        elif (line[i] == \"\\t\"): # Ignore tabs\n",
    "            i += 1\n",
    "            continue\n",
    "        elif (line[i] == \"#\"): # Ignore comments\n",
    "            while (line[i] != \"\\n\"):\n",
    "                i += 1\n",
    "        elif (line[i] in segmentors):\n",
    "            if (temp != \"\"):\n",
    "                lst.append(temp)\n",
    "                st.add(temp)\n",
    "                temp = \"\"\n",
    "            lst.append(line[i])\n",
    "            st.add(temp)\n",
    "        elif (line[i] == \"-\"): # Check if it is a unary sub\n",
    "            if (i + 1 < ln and line[i + 1].isdigit()):\n",
    "                temp += line[i]\n",
    "            else:\n",
    "                if (temp != \"\"):\n",
    "                    lst.append(temp) #add the previous accumulated\n",
    "                    st.add(temp)\n",
    "                lst.append(line[i]) # add the current\n",
    "                st.add(line[i])\n",
    "                temp = \"\"\n",
    "\n",
    "        else:\n",
    "            temp += line[i]\n",
    "        i += 1\n",
    "    else:\n",
    "        if (temp != \"\"):\n",
    "            lst.append(temp)\n",
    "            st.add(temp)\n",
    "    return lst, st\n",
    "\n",
    "\n",
    "segmentLst, segmentSet = segmentLine(cd)"
   ]
  },
  {
   "cell_type": "code",
   "execution_count": 69,
   "metadata": {},
   "outputs": [
    {
     "name": "stdout",
     "output_type": "stream",
     "text": [
      "{'', 'numbers', 'print', 'random', '1', 'random_numbers', 'range', 'for', '+', 'in', '\"', '\"Unsorted', '100', '\"Sorted', '_', 'random_numbers.sort', 'random.randint', 'import', '10'}\n"
     ]
    }
   ],
   "source": [
    "print(segmentSet)"
   ]
  },
  {
   "cell_type": "code",
   "execution_count": 70,
   "metadata": {},
   "outputs": [
    {
     "name": "stdout",
     "output_type": "stream",
     "text": [
      "importrandomrandom_numbers=[random.randint(1,100)for_inrange(10+1)]print(\"Unsortednumbers:\",random_numbers)random_numbers.sort()print(\"Sortednumbers:\",random_numbers)\n"
     ]
    }
   ],
   "source": [
    "joinedSegmentedLst = \"\".join(segmentLst)\n",
    "print(joinedSegmentedLst)"
   ]
  },
  {
   "cell_type": "code",
   "execution_count": 1,
   "metadata": {},
   "outputs": [
    {
     "ename": "NameError",
     "evalue": "name 'segmentSet' is not defined",
     "output_type": "error",
     "traceback": [
      "\u001b[1;31m---------------------------------------------------------------------------\u001b[0m",
      "\u001b[1;31mNameError\u001b[0m                                 Traceback (most recent call last)",
      "Cell \u001b[1;32mIn[1], line 37\u001b[0m\n\u001b[0;32m     33\u001b[0m     weights \u001b[38;5;241m=\u001b[39m [\u001b[38;5;241m1\u001b[39m] \u001b[38;5;241m*\u001b[39m \u001b[38;5;28mlen\u001b[39m(lstMutations) \u001b[38;5;66;03m# the weights are all equal for now\u001b[39;00m\n\u001b[0;32m     35\u001b[0m     \u001b[38;5;28;01mreturn\u001b[39;00m lstMutations, weights\n\u001b[1;32m---> 37\u001b[0m mutationsCanBeApplied(\u001b[43msegmentSet\u001b[49m)\n",
      "\u001b[1;31mNameError\u001b[0m: name 'segmentSet' is not defined"
     ]
    }
   ],
   "source": [
    "def mutationsCanBeApplied(setTokens: set):\n",
    "    \"\"\"\n",
    "    Iterate over the set of segmented parts in the faulty location and insert the mutations that can be applied\n",
    "    Args: \n",
    "        setTokens: set of tokens in the faulty location\n",
    "    Returns:\n",
    "        list of mutations that can be applied\n",
    "    \"\"\"\n",
    "    lstMutations = [] # list of mutations that can be applied\n",
    "    if '+' in setTokens: lstMutations.append(('Bin', 'ADD')) # the only mutations that are encompassed in a list to accomodate the operation name\n",
    "    if '-' in setTokens: lstMutations.append(('Bin', 'SUB'))\n",
    "    if '*' in setTokens: lstMutations.append('Mul')\n",
    "    if '/' in setTokens: lstMutations.append('Div')\n",
    "    if '%' in setTokens: lstMutations.append('Mod')\n",
    "    if '**' in setTokens: lstMutations.append('Pow')\n",
    "    # if '//' in setTokens: lstMutations.append('AR')\n",
    "    # if '==' in setTokens: lstMutations.append('CR')\n",
    "    # if '!=' in setTokens: lstMutations.append('CR')\n",
    "    # if '<' in setTokens: lstMutations.append('CR')\n",
    "    # if '>' in setTokens: lstMutations.append('CR')\n",
    "    # if '<=' in setTokens: lstMutations.append('CR')\n",
    "    # if '>=' in setTokens: lstMutations.append('CR')\n",
    "    # if 'and' in setTokens: lstMutations.append('CR')\n",
    "    # if 'or' in setTokens: lstMutations.append('CR')\n",
    "    # if 'not' in setTokens: lstMutations.append('CR')\n",
    "    # if 'is' in setTokens: lstMutations.append('CR')\n",
    "    # if 'in' in setTokens: lstMutations.append('CR')\n",
    "    # if 'not in' in setTokens: lstMutations.append('CR')\n",
    "    # if 'is not' in setTokens: lstMutations.append('CR')\n",
    "    # if '()' in setTokens: lstMutations.append('MR')\n",
    "    # if '[]' in setTokens: lstMutations.append('MR')\n",
    "    # if '{}' in setTokens: lstMutations.append('MR')\n",
    "    \n",
    "    weights = [1] * len(lstMutations) # the weights are all equal for now\n",
    "\n",
    "    return lstMutations, weights\n",
    "\n",
    "mutationsCanBeApplied(segmentSet)"
   ]
  },
  {
   "cell_type": "code",
   "execution_count": 5,
   "metadata": {},
   "outputs": [
    {
     "name": "stdout",
     "output_type": "stream",
     "text": [
      "data['a'] = 2\n",
      "b = 3\n",
      "c = a + 4\n",
      "Module(\n",
      "    body=[\n",
      "        Assign(\n",
      "            targets=[\n",
      "                Subscript(\n",
      "                    value=Name(id='data', ctx=Load()),\n",
      "                    slice=Constant(value='a'),\n",
      "                    ctx=Store())],\n",
      "            value=Constant(value=2)),\n",
      "        Assign(\n",
      "            targets=[\n",
      "                Name(id='b', ctx=Store())],\n",
      "            value=Constant(value=3)),\n",
      "        Assign(\n",
      "            targets=[\n",
      "                Name(id='c', ctx=Store())],\n",
      "            value=BinOp(\n",
      "                left=Name(id='a', ctx=Load()),\n",
      "                op=Add(),\n",
      "                right=Constant(value=4)))],\n",
      "    type_ignores=[])\n"
     ]
    }
   ],
   "source": [
    "s = astunparse.to_source(code)\n",
    "print(s)\n",
    "a  = (ast.parse(s))\n",
    "print(ast.dump(a, indent=4))"
   ]
  },
  {
   "cell_type": "code",
   "execution_count": 6,
   "metadata": {},
   "outputs": [
    {
     "name": "stdout",
     "output_type": "stream",
     "text": [
      "a = 1\n",
      "b = 2\n",
      "c = a - 3\n",
      "m = 5 + 4\n"
     ]
    }
   ],
   "source": [
    "# every visitor class has its implementation of visitor and its visit_name;\n",
    "# this way each class has its own implementation of the visitor and the visit_name\n",
    "\n",
    "class BinOpMutate(ast.NodeTransformer):\n",
    "    def __init__(self, target_node_lineno):\n",
    "        self.target_node_lineno = target_node_lineno\n",
    "        self.changedAnOperator = False\n",
    "\n",
    "    def visit_BinOp(self, node):\n",
    "        if node.lineno == self.target_node_lineno and not self.changedAnOperator:  # However if two operations are on the same line, it will change both\n",
    "            self.changedAnOperator = True\n",
    "            return ast.BinOp(left=self.visit(node.left), op=ast.Sub(), right=self.visit(node.right))\n",
    "        else:\n",
    "            # If it's not the target node, continue visiting other nodes without modifications\n",
    "            return self.generic_visit(node)\n",
    "\n",
    "code = ast.parse(\"a = 1\\nb = 2\\nc = a + 3;m = 5 + 4\") # this code has the following attributes: Num (1, 2, 3), Name (a, b), Assign, BinOp ( a+ 3)\n",
    "\n",
    "res = BinOpMutate(target_node_lineno=3).visit(code)\n",
    "print(astunparse.to_source(res))"
   ]
  },
  {
   "cell_type": "code",
   "execution_count": 78,
   "metadata": {},
   "outputs": [],
   "source": [
    "%load_ext autoreload\n",
    "%autoreload 2\n",
    "\n",
    "import mutationClasses\n",
    "import ast\n",
    "import astunparse"
   ]
  },
  {
   "cell_type": "code",
   "execution_count": 13,
   "metadata": {},
   "outputs": [
    {
     "name": "stdout",
     "output_type": "stream",
     "text": [
      "Module(\n",
      "    body=[\n",
      "        Assign(\n",
      "            targets=[\n",
      "                Name(id='a', ctx=Store())],\n",
      "            value=BinOp(\n",
      "                left=Constant(value=1),\n",
      "                op=Add(),\n",
      "                right=Constant(value=2)))],\n",
      "    type_ignores=[])\n",
      "\n",
      "if len(S) < 26:\n",
      "    for i in m[::-1]:\n",
      "        a = 1 - 2\n",
      "        if i not in S:\n",
      "            S.append(i)\n",
      "            break\n",
      "    print(''.join(S))\n",
      "else:\n",
      "    print(''.join(S))\n"
     ]
    }
   ],
   "source": [
    "codeString = \"\"\"\n",
    "if len(S)<26:\n",
    "    for i in m[::-1]:\n",
    "        a = 1 + 2\n",
    "        if i not in S:\n",
    "            S.append(i)\n",
    "            break\n",
    "    print(''.join(S))\n",
    "else:\n",
    "    print(''.join(S))\n",
    "\"\"\"\n",
    "code = ast.parse(codeString)\n",
    "codeStringSplitted = codeString.split(\"\\n\")\n",
    "testParse = codeStringSplitted[3]\n",
    "testAst = ast.parse(testParse.lstrip())\n",
    "print(ast.dump(testAst, indent=4))\n",
    "\n",
    "# print(code)\n",
    "# binOpMutate = mutationClasses.BinOpMutate(target_node_lineno=3, code=code)\n",
    "code =  mutationClasses.BinOpMutate(target_node_lineno=4, code=code).visitC()\n",
    "\n",
    "# res =  mutationClasses.BinOpMutate(target_node_lineno=4).visitC(code)\n",
    "print(astunparse.to_source(code))"
   ]
  }
 ],
 "metadata": {
  "kernelspec": {
   "display_name": "Python 3",
   "language": "python",
   "name": "python3"
  },
  "language_info": {
   "codemirror_mode": {
    "name": "ipython",
    "version": 3
   },
   "file_extension": ".py",
   "mimetype": "text/x-python",
   "name": "python",
   "nbconvert_exporter": "python",
   "pygments_lexer": "ipython3",
   "version": "3.10.10"
  }
 },
 "nbformat": 4,
 "nbformat_minor": 2
}
