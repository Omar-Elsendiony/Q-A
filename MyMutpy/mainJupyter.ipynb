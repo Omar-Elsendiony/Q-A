{
 "cells": [
  {
   "cell_type": "code",
   "execution_count": 84,
   "metadata": {},
   "outputs": [
    {
     "name": "stdout",
     "output_type": "stream",
     "text": [
      "The autoreload extension is already loaded. To reload it, use:\n",
      "  %reload_ext autoreload\n"
     ]
    }
   ],
   "source": [
    "%load_ext autoreload\n",
    "%autoreload 2"
   ]
  },
  {
   "cell_type": "code",
   "execution_count": 134,
   "metadata": {},
   "outputs": [
    {
     "name": "stdout",
     "output_type": "stream",
     "text": [
      "s = 1 + 2\n",
      "s = 1 + 2\n",
      "The mutation has already been done\n",
      "The End 1\n",
      "0.003628969192504883\n",
      "False\n",
      "s = 1 + 2\n",
      "s = 1 + 2\n",
      "s = 1 + 2\n",
      "s = 1 + 2\n",
      "{'ARR': <class 'operators.arithmetic.BinaryOperatorReplacement'>, 'ARD': <class 'operators.arithmetic.ArithmeticOperatorDeletion'>}\n"
     ]
    }
   ],
   "source": [
    "import base\n",
    "import ast\n",
    "from operators import *\n",
    "import operators\n",
    "import astunparse\n",
    "import utils\n",
    "import time\n",
    "\n",
    "def build_name_to_operator_map():\n",
    "    result = {}\n",
    "    for operator in operators.standard_operators | operators.experimental_operators:\n",
    "        result[operator.name()] = operator\n",
    "        # result[operator.long_name()] = operator\n",
    "    return result\n",
    "\n",
    "\n",
    "import time\n",
    "start = time.time()\n",
    "code = \"\"\"s = 1 + 2;\n",
    "s = 1 + 2\"\"\"\n",
    "ast_node = ast.parse(code)\n",
    "print(astunparse.to_source(ast_node))\n",
    "copied = copyMutate().visit(ast_node)\n",
    "# copy.deepcopy(ast_node)\n",
    "mutant = (BinaryOperatorReplacement(target_node_lineno = 1, code = ast_node)).visitC()\n",
    "mutant = ast.fix_missing_locations(mutant) # after mutation, we need to fix the missing locations\n",
    "# mutant = (BinaryOperatorReplacement(target_node_lineno= 1, code = mutant, operator='SUB')).visitC()\n",
    "# print(ast.dump(mutant, indent=4))\n",
    "ast_node = copyMutate().visit(copied)\n",
    "span = time.time() - start\n",
    "print(span)\n",
    "print(ast_node is copied)\n",
    "print(astunparse.to_source(copied))\n",
    "print(astunparse.to_source(ast_node))\n",
    "\n",
    "\n",
    "# again = ArithmeticOperatorReplacement.printMutatedSet()\n",
    "\n",
    "res = build_name_to_operator_map()\n",
    "\n",
    "print(res)\n"
   ]
  },
  {
   "cell_type": "code",
   "execution_count": 10,
   "metadata": {},
   "outputs": [
    {
     "name": "stdout",
     "output_type": "stream",
     "text": [
      "\n",
      "for i in range(10):\n",
      "    print(i)\n",
      "\n",
      "\n",
      "\n",
      "\n",
      "\n",
      "\n",
      "if a == 85776474:\n",
      "    print('a is 85776474')\n",
      "\n",
      "a = 1\n"
     ]
    }
   ],
   "source": [
    "# testing removing a statement\n",
    "\n",
    "code=\"\"\"\n",
    "for i in range(10):\n",
    "    print(i)\n",
    "\n",
    "if a == 1:\n",
    "    print(\"a is 1\")\n",
    "else:\n",
    "    print(\"a is not 1\")\n",
    "\n",
    "if a == 85776474:\n",
    "    print(\"a is 85776474\") \n",
    "\n",
    "a = 1\n",
    "\"\"\"\n",
    "\n",
    "class temp(ast.NodeTransformer):\n",
    "    def visit_If(self, node):\n",
    "        if node.lineno == 5:\n",
    "            return None\n",
    "        else:\n",
    "            return node\n",
    "\n",
    "ast_node = ast.parse(code)\n",
    "m = temp().visit(ast_node)\n",
    "res = astunparse.to_source(m)\n",
    "print(res)"
   ]
  },
  {
   "cell_type": "code",
   "execution_count": 83,
   "metadata": {},
   "outputs": [
    {
     "name": "stdout",
     "output_type": "stream",
     "text": [
      "The original elements before shallow copying\n",
      "1 2 [3, 5] 4 \n",
      "The original elements after shallow copying\n",
      "1 2 [7, 7] 4 "
     ]
    }
   ],
   "source": [
    "# copy test\n",
    "import copy\n",
    "li1 = [1, 2, [3,5], 4]\n",
    "li2 = copy.copy(li1)\n",
    "print (\"The original elements before shallow copying\")\n",
    "for i in range(0,len(li1)):\n",
    "\tprint (li1[i],end=\" \")\n",
    "\n",
    "print(\"\\r\")\n",
    "li2[2][0] = 7\n",
    "li2[2][1] = 7\n",
    "li2[1] = 7\n",
    "print (\"The original elements after shallow copying\")\n",
    "for i in range(0,len( li1)):\n",
    "\tprint (li1[i],end=\" \")\n"
   ]
  }
 ],
 "metadata": {
  "kernelspec": {
   "display_name": "Python 3",
   "language": "python",
   "name": "python3"
  },
  "language_info": {
   "codemirror_mode": {
    "name": "ipython",
    "version": 3
   },
   "file_extension": ".py",
   "mimetype": "text/x-python",
   "name": "python",
   "nbconvert_exporter": "python",
   "pygments_lexer": "ipython3",
   "version": "3.10.10"
  }
 },
 "nbformat": 4,
 "nbformat_minor": 2
}
