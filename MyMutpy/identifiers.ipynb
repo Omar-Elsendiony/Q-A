{
 "cells": [
  {
   "cell_type": "code",
   "execution_count": 16,
   "metadata": {},
   "outputs": [
    {
     "name": "stdout",
     "output_type": "stream",
     "text": [
      "{'x', 'y', 'a'}\n"
     ]
    }
   ],
   "source": [
    "# test getting the identifiers of all the functions in a file\n",
    "import ast\n",
    "\n",
    "fn = \"\"\"\n",
    "def b(rs):\n",
    "    return rs\n",
    "def foo():\n",
    "    a = []\n",
    "    x = 1\n",
    "    y = 2\n",
    "    b(x)\n",
    "    return x + y\n",
    "\n",
    "\"\"\"\n",
    "def parentify(tree):\n",
    "    tree.parent = None\n",
    "    for node in ast.walk(tree):\n",
    "        for child in ast.iter_child_nodes(node):\n",
    "            child.parent = node\n",
    "\n",
    "\n",
    "\n",
    "class IdentifierVisitor(ast.NodeVisitor):\n",
    "    def __init__(self):\n",
    "        self.assignmentIdentifiers = set()\n",
    "        self.functionIdentifiers = set()\n",
    "\n",
    "    def visit_Name(self, node):\n",
    "        if (node.id == 's'):\n",
    "            print(node.parent.__class__.__name__)\n",
    "        # print(node.parent.__class__.__name__)\n",
    "        if isinstance(node.parent, ast.Assign):\n",
    "            self.assignmentIdentifiers.add(node.id)\n",
    "        elif isinstance(node.parent, ast.Call):\n",
    "            self.functionIdentifiers.add(node.id)\n",
    "        # self.identifiers.add(node.id)\n",
    "\n",
    "    def get_identifiers(self):\n",
    "        return self.assignmentIdentifiers | self.functionIdentifiers\n",
    "\n",
    "\n",
    "tree = ast.parse(fn)\n",
    "parentify(tree)\n",
    "visitor = IdentifierVisitor()\n",
    "visitor.visit(tree)\n",
    "print(visitor.get_identifiers())"
   ]
  },
  {
   "cell_type": "code",
   "execution_count": 20,
   "metadata": {},
   "outputs": [
    {
     "name": "stdout",
     "output_type": "stream",
     "text": [
      "['5', '4', '3']\n",
      "['0.1', '0.1', '0.1']\n"
     ]
    }
   ],
   "source": [
    "import csv\n",
    "\n",
    "filename = 'O:\\DriveFiles\\GP_Projects\\Bug-Repair\\FauxPyReport_Q-A_sbfl_statement_2024_04_28_22_54_49_084332\\Scores_Tarantula.csv'\n",
    "lines = []\n",
    "scores = []\n",
    "\n",
    "with open(filename, 'r') as file:\n",
    "    reader = csv.reader(file)\n",
    "    next(reader)  # Skip the header row\n",
    "    for row in reader:\n",
    "        if len(row) >= 2:\n",
    "            # get only the line number \n",
    "            lineno = row[0].split('::')[1]\n",
    "            lines.append(lineno)\n",
    "            scores.append(row[1])\n",
    "\n",
    "print(lines)\n",
    "print(scores)\n"
   ]
  },
  {
   "cell_type": "code",
   "execution_count": 5,
   "metadata": {},
   "outputs": [
    {
     "name": "stdout",
     "output_type": "stream",
     "text": [
      "The folder 'FauxPyReport_MyMutpy_sbfl_statement_2024_04_29_02_44_21_282361' has been deleted.\n"
     ]
    }
   ],
   "source": [
    "import os\n",
    "import shutil\n",
    "\n",
    "folder_path = 'O:/DriveFiles/GP_Projects/Bug-Repair/Q-A/'\n",
    "\n",
    "# Get a list of all folders in the directory\n",
    "folders = [f for f in os.listdir(folder_path) if os.path.isdir(os.path.join(folder_path, f))]\n",
    "\n",
    "# Find the folder that starts with 'FauxPy'\n",
    "fauxpy_folder = next((f for f in folders if f.startswith('FauxPy')), None)\n",
    "\n",
    "# Delete the folder if it exists\n",
    "if fauxpy_folder:\n",
    "    shutil.rmtree(os.path.join(folder_path, fauxpy_folder))\n",
    "    print(f\"The folder '{fauxpy_folder}' has been deleted.\")\n",
    "else:\n",
    "    print(\"No folder starting with 'FauxPy' found.\")\n"
   ]
  },
  {
   "cell_type": "code",
   "execution_count": 28,
   "metadata": {},
   "outputs": [
    {
     "name": "stdout",
     "output_type": "stream",
     "text": [
      "The directory 'O:\\DriveFiles\\GP_Projects\\Bug-Repair\\Q-A\\MyMutpy/testcases/FaultLocalization' has been created.\n"
     ]
    }
   ],
   "source": [
    "import os\n",
    "\n",
    "def create_directory(directory_path):\n",
    "    if not os.path.exists(directory_path):\n",
    "        os.makedirs(directory_path)\n",
    "        print(f\"The directory '{directory_path}' has been created.\")\n",
    "    else:\n",
    "        print(f\"The directory '{directory_path}' already exists.\")\n",
    "\n",
    "# Example usage:\n",
    "directory_path = 'O:\\DriveFiles\\GP_Projects\\Bug-Repair\\Q-A\\MyMutpy/testcases/FaultLocalization'\n",
    "create_directory(directory_path)\n",
    "\n",
    "# directory_path = 'O:\\DriveFiles\\GP_Projects\\Bug-Repair\\Q-A\\MyMutpy/testcases/src'\n",
    "# create_directory(directory_path)\n"
   ]
  },
  {
   "cell_type": "code",
   "execution_count": 30,
   "metadata": {},
   "outputs": [
    {
     "name": "stdout",
     "output_type": "stream",
     "text": [
      "File '1.txt' copied from 'O:\\DriveFiles\\GP_Projects\\Bug-Repair\\Q-A\\MyMutpy/testcases\\BuggyPrograms' to 'O:\\DriveFiles\\GP_Projects\\Bug-Repair\\Q-A\\MyMutpy/testcases/FaultLocalization'.\n"
     ]
    }
   ],
   "source": [
    "import shutil\n",
    "file_id = 1\n",
    "\n",
    "source_folder = f'O:\\DriveFiles\\GP_Projects\\Bug-Repair\\Q-A\\MyMutpy/testcases\\BuggyPrograms'\n",
    "destination_folder = f'{directory_path}'\n",
    "file_name = f'{file_id}.txt'\n",
    "\n",
    "# Construct the source and destination file paths\n",
    "source_file_path = f'{source_folder}/{file_name}'\n",
    "destination_file_path = f'{destination_folder}/source_code.py'\n",
    "\n",
    "# Copy the file from the source folder to the destination folder\n",
    "shutil.copy(source_file_path, destination_file_path)\n",
    "\n",
    "print(f\"File '{file_name}' copied from '{source_folder}' to '{destination_folder}'.\")\n",
    "\n",
    "source_file_path = destination_file_path"
   ]
  },
  {
   "cell_type": "code",
   "execution_count": 48,
   "metadata": {},
   "outputs": [
    {
     "name": "stdout",
     "output_type": "stream",
     "text": [
      "from src import *\n",
      "\n",
      "def test_0():\n",
      "    pass\n",
      "    inputs = (1, 2)\n",
      "    assert add(*inputs) == 3\n",
      "\n",
      "def test_1():\n",
      "    pass\n",
      "    inputs = (3, 4)\n",
      "    assert add(*inputs) == 7\n",
      "\n",
      "def test_2():\n",
      "    pass\n",
      "    inputs = (5, 6)\n",
      "    assert add(*inputs) == 11\n"
     ]
    }
   ],
   "source": [
    "pytest_file = \"\"\n",
    "\n",
    "module_ast = ast.parse(pytest_file)\n",
    "import_str = \"from src import *\"\n",
    "import_node = ast.parse(import_str).body[0]\n",
    "\n",
    "# Add the import statement to the beginning of the AST\n",
    "module_ast.body.insert(0, import_node)\n",
    "\n",
    "inputs = [[1, 2], [3, 4], [5, 6]]\n",
    "outputs = [3, 7, 11]\n",
    "function_name = \"add\"\n",
    "# function ast\n",
    "for i in range(0, 3):\n",
    "    fn = f\"\"\"def test_{i}(): pass\"\"\"\n",
    "    fn_ast = ast.parse(fn).body[0]\n",
    "    input_str = f\"inputs = \"\n",
    "    assert_str = f\"assert \"\n",
    "    input_curr = inputs[i]\n",
    "    for input in input_curr:\n",
    "        if (input == inputs[-1]):\n",
    "            input_str += f\"{input}\"\n",
    "        else:\n",
    "            input_str += f\"{input},\"\n",
    "        # input_node = ast.parse(input_str).body[0]\n",
    "    assert_str += f\"{function_name}(*inputs) == {outputs[i]}\"\n",
    "    input_node = ast.parse(input_str).body[0]\n",
    "    assert_node = ast.parse(assert_str).body[0]\n",
    "    # fn_ast.body.pop()\n",
    "\n",
    "    fn_ast.body.append(input_node)\n",
    "    fn_ast.body.append(assert_node)\n",
    "    # print(ast.unparse(module_ast))\n",
    "\n",
    "    module_ast.body.append(fn_ast)\n",
    "\n",
    "print(ast.unparse(module_ast))\n",
    "# print(ast.dump(module_ast, indent=4))"
   ]
  },
  {
   "cell_type": "code",
   "execution_count": 60,
   "metadata": {},
   "outputs": [
    {
     "name": "stdout",
     "output_type": "stream",
     "text": [
      "5\n"
     ]
    }
   ],
   "source": [
    "import random\n",
    "maxRand = 100\n",
    "k = 0\n",
    "for i in range(0, 50):\n",
    "    prob = random.randint(1, maxRand) / maxRand\n",
    "    if (prob > 0.9):  # Do not forget weights\n",
    "        k += 1\n",
    "print(k)"
   ]
  },
  {
   "cell_type": "code",
   "execution_count": 2,
   "metadata": {},
   "outputs": [
    {
     "data": {
      "text/plain": [
       "CompletedProcess(args=['python', '-m', 'pytest', 'O:\\\\DriveFiles\\\\GP_Projects\\\\Bug-Repair\\\\Q-A\\\\MyMutpy\\\\FaultLocalization/test/test_1.py', '--src', 'O:\\\\DriveFiles\\\\GP_Projects\\\\Bug-Repair\\\\Q-A\\\\MyMutpy\\\\FaultLocalization/test/src.py', '--family', 'sbfl', '--granularity', 'statement', '--top-n', '14'], returncode=0, stderr=b'')"
      ]
     },
     "execution_count": 2,
     "metadata": {},
     "output_type": "execute_result"
    }
   ],
   "source": [
    "import subprocess\n",
    "from subprocess import PIPE\n",
    "test_path = \"O:\\DriveFiles\\GP_Projects\\Bug-Repair\\Q-A\\MyMutpy\\FaultLocalization/test/test_1.py\"\n",
    "src_path = \"O:\\DriveFiles\\GP_Projects\\Bug-Repair\\Q-A\\MyMutpy\\FaultLocalization/test/src.py\"\n",
    "# python -m pytest .\\MyMutpy\\FaultLocalization\\test\\test_1.py   --src .\\MyMutpy\\FaultLocalization\\test\\src.py  --family sbfl  --granularity statement --top-n 14\n",
    "subprocess.run([\"python\", \"-m\", \"pytest\", f\"{test_path}\", \"--src\", f\"{src_path}\", \"--family\", \"sbfl\", \"--granularity\", \"statement\", \"--top-n\" , \"14\"], stderr=subprocess.PIPE)"
   ]
  }
 ],
 "metadata": {
  "kernelspec": {
   "display_name": "Python 3",
   "language": "python",
   "name": "python3"
  },
  "language_info": {
   "codemirror_mode": {
    "name": "ipython",
    "version": 3
   },
   "file_extension": ".py",
   "mimetype": "text/x-python",
   "name": "python",
   "nbconvert_exporter": "python",
   "pygments_lexer": "ipython3",
   "version": "3.10.10"
  }
 },
 "nbformat": 4,
 "nbformat_minor": 2
}
