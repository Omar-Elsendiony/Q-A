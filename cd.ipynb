{
 "cells": [
  {
   "cell_type": "code",
   "execution_count": 1,
   "metadata": {},
   "outputs": [
    {
     "ename": "ModuleNotFoundError",
     "evalue": "No module named 'tkinter'",
     "output_type": "error",
     "traceback": [
      "\u001b[0;31m---------------------------------------------------------------------------\u001b[0m",
      "\u001b[0;31mModuleNotFoundError\u001b[0m                       Traceback (most recent call last)",
      "Cell \u001b[0;32mIn[1], line 2\u001b[0m\n\u001b[1;32m      1\u001b[0m \u001b[38;5;66;03m##################### CODE DIFFERENCE UTILITY #####################\u001b[39;00m\n\u001b[0;32m----> 2\u001b[0m \u001b[38;5;28;01mfrom\u001b[39;00m \u001b[38;5;21;01mturtle\u001b[39;00m \u001b[38;5;28;01mimport\u001b[39;00m up\n\u001b[1;32m      3\u001b[0m \u001b[38;5;28;01mimport\u001b[39;00m \u001b[38;5;21;01mcode_diff\u001b[39;00m \u001b[38;5;28;01mas\u001b[39;00m \u001b[38;5;21;01mcd\u001b[39;00m\n\u001b[1;32m      5\u001b[0m \u001b[38;5;28;01mfrom\u001b[39;00m \u001b[38;5;21;01mcode_diff\u001b[39;00m\u001b[38;5;21;01m.\u001b[39;00m\u001b[38;5;21;01mgumtree\u001b[39;00m \u001b[38;5;28;01mimport\u001b[39;00m ops\n",
      "File \u001b[0;32m/usr/lib/python3.10/turtle.py:107\u001b[0m\n\u001b[1;32m    103\u001b[0m _ver \u001b[38;5;241m=\u001b[39m \u001b[38;5;124m\"\u001b[39m\u001b[38;5;124mturtle 1.1b- - for Python 3.1   -  4. 5. 2009\u001b[39m\u001b[38;5;124m\"\u001b[39m\n\u001b[1;32m    105\u001b[0m \u001b[38;5;66;03m# print(_ver)\u001b[39;00m\n\u001b[0;32m--> 107\u001b[0m \u001b[38;5;28;01mimport\u001b[39;00m \u001b[38;5;21;01mtkinter\u001b[39;00m \u001b[38;5;28;01mas\u001b[39;00m \u001b[38;5;21;01mTK\u001b[39;00m\n\u001b[1;32m    108\u001b[0m \u001b[38;5;28;01mimport\u001b[39;00m \u001b[38;5;21;01mtypes\u001b[39;00m\n\u001b[1;32m    109\u001b[0m \u001b[38;5;28;01mimport\u001b[39;00m \u001b[38;5;21;01mmath\u001b[39;00m\n",
      "\u001b[0;31mModuleNotFoundError\u001b[0m: No module named 'tkinter'"
     ]
    }
   ],
   "source": [
    "##################### CODE DIFFERENCE UTILITY #####################\n",
    "from turtle import up\n",
    "import code_diff as cd\n",
    "\n",
    "from code_diff.gumtree import ops\n",
    "\n",
    "def _subtrees(script):\n",
    "    subtrees = {}\n",
    "    for action in script:\n",
    "        if not isinstance(action, (ops.Insert, ops.Move)): continue\n",
    "        target, node, position = action.target_node, action.node, action.position\n",
    "\n",
    "        if isinstance(action, ops.Insert):\n",
    "            _, text = node\n",
    "            insert_content = text if text is not None else action.insert_id\n",
    "            if isinstance(insert_content, int):\n",
    "                continue\n",
    "            subtrees[action.insert_id] = (insert_content)\n",
    "            # target_id = target.node_id\n",
    "            # if target_id not in subtrees: subtrees[target_id] = []\n",
    "            # else: subtrees[target_id] = []\n",
    "            # subtrees[target_id].insert(position, insert_content)\n",
    "        elif isinstance(action, ops.Move):\n",
    "            insert_content = node\n",
    "            # subtrees[str(action.move_id)] = (insert_content)\n",
    "\n",
    "        # if hasattr(target, \"node_id\"):\n",
    "        #     target_id = target.node_id\n",
    "        #     if target_id not in subtrees: subtrees[target_id] = []\n",
    "        #     else: subtrees[target_id] = []\n",
    "        #     subtrees[target_id].insert(position, insert_content)\n",
    "    \n",
    "    return subtrees\n",
    "\n",
    "def _serialize_tree(subtrees, node_id):\n",
    "    result = []\n",
    "    stack  = [node_id]\n",
    "\n",
    "    while len(stack) > 0:\n",
    "        element = stack.pop(0)\n",
    "        if isinstance(element, int):\n",
    "            # element = str(element)\n",
    "            elem = subtrees.get(element, [])\n",
    "            if (elem != []):\n",
    "                result.append(elem)\n",
    "            else:\n",
    "                stack = subtrees.get(element, []) + stack\n",
    "        else:\n",
    "            result.append(element)\n",
    "\n",
    "    return result\n",
    "\n",
    "def flatten_script(script):\n",
    "    result_script = []\n",
    "    subtrees = _subtrees(script)\n",
    "\n",
    "    for action in script:\n",
    "        if isinstance(action, ops.Insert):\n",
    "            # if not hasattr(action.target_node, \"node_id\"): continue # Ignore because we flatten\n",
    "            new_node = _serialize_tree(subtrees, action.insert_id)\n",
    "            result_script.append(ops.Insert(action.target_node, new_node, position = action.position, insert_id=action.insert_id))\n",
    "        elif isinstance(action, ops.Move) and hasattr(action.target_node, \"node_id\"):\n",
    "            result_script.append(ops.Delete(action.node))\n",
    "        else:\n",
    "            result_script.append(action)\n",
    "\n",
    "    return result_script\n",
    "\n",
    "def synthesize_rewrite_script(script):\n",
    "    # Flatten the script: Build and parse the subtrees that are inserted or moved\n",
    "    flat_script = flatten_script(script)\n",
    "\n",
    "    # Generate new actions of the form (replace_span, token_seq)\n",
    "    # You can transform the source by replacing each span with the token sequence \n",
    "    result = []\n",
    "    for action in flat_script:\n",
    "        target_node = action.target_node\n",
    "        if isinstance(action, ops.Insert):\n",
    "            # if action.position == len(target_node.children):\n",
    "            target = target_node\n",
    "            while (target.children == []):\n",
    "                target = target.parent\n",
    "            # if (target_node.children == []): \n",
    "            #     predecessor = target_node.parent\n",
    "            #     (start_line, start_pos), (end_line, end_pos) = predecessor.position[1], predecessor.position[1]\n",
    "            # else:\n",
    "            predecessor = target\n",
    "            (start_line, start_pos), (end_line, end_pos) = predecessor.position[1], predecessor.position[1]\n",
    "            \n",
    "            # else:\n",
    "            #     if (target_node.children == []): # what I want is the line number only not column offset\n",
    "            #         predecessor = target_node.parent\n",
    "            #         (start_line, start_pos), (end_line, end_pos) = predecessor.position[1], predecessor.position[1]\n",
    "            #     else:\n",
    "            #         predecessor = target_node.children[action.position]\n",
    "            #         (start_line, start_pos), (end_line, end_pos) = predecessor.position[1], predecessor.position[1]\n",
    "            if (action.node == []): continue\n",
    "            parent = target_node.parent\n",
    "            while parent and parent.__class__.__name__ != 'ASTNode':\n",
    "                # print(parent.__class__.__name__)\n",
    "                parent = parent.parent\n",
    "\n",
    "            # print(parent.type)\n",
    "            insertOperation = f'[Insert]: [{target_node.type}] {action.node}: parent [{parent.type}]'\n",
    "            # print(target_node.__class__.__name__)\n",
    "            result.append(((start_line, start_pos, end_line, end_pos), [insertOperation]))\n",
    "        elif isinstance(action, ops.Update):\n",
    "            (start_line, start_pos), (end_line, end_pos) = target_node.position\n",
    "            updateOperation = f'[Update]: [{(target_node).type}] from [{target_node.text}] to [{action.value}]'\n",
    "\n",
    "            result.append(((start_line, start_pos, end_line, end_pos), [updateOperation]))\n",
    "        elif isinstance(action, ops.Delete):\n",
    "            (start_line, start_pos), (end_line, end_pos) = target_node.position\n",
    "            deleteOperation = f'[Delete]: [{(target_node).type}] [{target_node.parent.type}]'\n",
    "            result.append(((start_line, start_pos, end_line, end_pos), [deleteOperation]))\n",
    "    return result\n",
    "\n",
    "###################################################################################\n"
   ]
  },
  {
   "cell_type": "code",
   "execution_count": null,
   "metadata": {},
   "outputs": [
    {
     "name": "stdout",
     "output_type": "stream",
     "text": [
      "db_generation = row and row [ 0 ] or - 1\n",
      "db_generation = not row and - 1 or row [ 0 ]\n",
      "-------------------------------------\n",
      "[\"[Insert]: [boolean_operator] ['or']: parent [assignment]\"]\n",
      "['[Delete]: [and] [boolean_operator]']\n",
      "[\"[Insert]: [boolean_operator] ['- 1']: parent [boolean_operator]\"]\n",
      "[\"[Insert]: [not_operator] ['not']: parent [boolean_operator]\"]\n",
      "['[Delete]: [identifier] [boolean_operator]']\n",
      "['[Delete]: [or] [boolean_operator]']\n",
      "['[Delete]: [unary_operator] [boolean_operator]']\n"
     ]
    }
   ],
   "source": [
    "output = cd.difference(\n",
    "    '''\n",
    "        expected = datetime . datetime ( 1970 , 1 , 1 , 1 , 0 , 23 , 0 , datefmt . localtz )\n",
    "    ''',\n",
    "    '''\n",
    "        expected = datetime . datetime . fromtimestamp ( 23 , datefmt . localtz )\n",
    "    ''',\n",
    "lang = \"python\")\n",
    "\n",
    "\n",
    "\n",
    "s = output.edit_script()\n",
    "# s = synthesize_rewrite_script(s)\n",
    "# print((s))\n",
    "\n",
    "# Open the file in write mode\n",
    "# with open('O:\\DriveFiles\\GP_Projects\\Bug-Repair\\Q-A\\MyMutpy\\output.txt', 'w') as file:\n",
    "#     for action in s:\n",
    "#         (start_line, start_pos, end_line, end_pos), new_content = action\n",
    "#         file.write(f\"{start_line} {start_pos} {end_line} {end_pos} {new_content}\\n\")\n",
    "\n",
    "import json\n",
    "\n",
    "def read_json_file(file_path):\n",
    "    with open(file_path, 'r') as f:\n",
    "        line_content = [json.loads(line) for line in f.readlines()]\n",
    "    return line_content\n",
    "data = read_json_file('O:\\DriveFiles\\GP_Projects\\ctssb_data_1M\\ctssb_data_1M/file-0.jsonl/file-0.jsonl')\n",
    "\n",
    "\n",
    "import ast\n",
    "\n",
    "bef = data[10][\"before\"]\n",
    "aft = data[10][\"after\"]\n",
    "\n",
    "print(bef)\n",
    "print(aft)\n",
    "# print(data[1][\"comodified\"])\n",
    "# print(data[41][\"edit_script\"])\n",
    "# print(data[631][\"likely_bug\"])\n",
    "\n",
    "# s = ast.dump(ast.parse(data[31][\"after\"]), indent=4)\n",
    "# print(s)\n",
    "print(\"-------------------------------------\")\n",
    "b = bef\n",
    "a = aft\n",
    "\n",
    "diff = cd.difference(b, a, lang=\"python\")\n",
    "# print(diff.edit_script())\n",
    "actions = synthesize_rewrite_script(diff.edit_script())\n",
    "for action in actions:\n",
    "    print(action[1])\n",
    "\n",
    "\n",
    "# print(ast.dump(ast.parse(b), indent=4))"
   ]
  },
  {
   "cell_type": "code",
   "execution_count": 20,
   "metadata": {},
   "outputs": [
    {
     "name": "stdout",
     "output_type": "stream",
     "text": [
      "The graph nodes are  <class 'list'> ['n4', 'n6', 'n8', 'n10', 'n14']\n",
      "List of edges: <class 'dict'> {('n4', 'n8'): 2, ('n4', 'n6'): 10, ('n4', 'n10'): 7, ('n6', 'n8'): 4, ('n6', 'n14'): 4, ('n6', 'n4'): 10, ('n8', 'n4'): 2, ('n8', 'n6'): 4, ('n8', 'n10'): 6, ('n8', 'n14'): 5, ('n10', 'n8'): 6, ('n10', 'n4'): 7, ('n14', 'n6'): 4, ('n14', 'n8'): 5}\n",
      "Example of function Get_Out_Nodes with node n6 ['n8', 'n14', 'n4']\n",
      "Example of function Get_Out_Edges with node n6 {('n6', 'n8'): 4, ('n6', 'n14'): 4, ('n6', 'n4'): 10}\n"
     ]
    },
    {
     "data": {
      "image/png": "[encoded data removed]",
      "text/plain": [
       "<Figure size 1000x1000 with 1 Axes>"
      ]
     },
     "metadata": {},
     "output_type": "display_data"
    }
   ],
   "source": [
    "from tkinter import font\n",
    "import networkx as nx\n",
    "import matplotlib.pyplot as plt\n",
    "import math\n",
    "#-------------------------------------------------------helper functions from previous lab------------------------------------------------------------------#\n",
    "def Init_Graph(Nodes):\n",
    "    #takes nodes in the list format , for example [1,3,5,7,9] and initializes a directed graph\n",
    "    G = nx.MultiDiGraph()\n",
    "    G.add_nodes_from(Nodes)\n",
    "    return G\n",
    "def Add_Node(G,Node):\n",
    "    #takes an initialized graph and a node and adds the node to the graph\n",
    "    G.add_node(Node)\n",
    "\n",
    "def Add_Edges(G,Edge, Weight=1):\n",
    "    #takes an initialized graph \n",
    "    #and an edge or edge list in the list of tubles(start,end) form, for example [(1,5), (7,9), (1,9)]\n",
    "    #and a shared weigh, by default 1\n",
    "    G.add_edges_from(Edge, weight=Weight)\n",
    "\n",
    "def Get_Nodes(G):\n",
    "    #returns the list of nodes\n",
    "    return list(G.nodes)\n",
    "\n",
    "def Get_Edges(G):\n",
    "    #returns a dictionary of Edges and their weights\n",
    "    #for example:{(1, 5): 3, (1, 9): 3, (7, 9): 3}\n",
    "    edge_labels=dict([((u,v,),d['weight'])\n",
    "                 for u,v,d in G.edges(data=True)])\n",
    "    return edge_labels\n",
    "\n",
    "def Get_Out_Nodes(G,Node):\n",
    "    #return a list of all the directly connected nodes out from a given node, for example [3,5]\n",
    "    #the directly connected nodes [A,B] , mean that there is an edge starts from 'A' and ends at 'B'\n",
    "    #i.e the incoming nodes towards 'Node' are not listed here\n",
    "    #if there isnt any, the list will be empty []\n",
    "    return list(G.adj[Node])\n",
    "\n",
    "def Get_Out_Edges(G,Node):\n",
    "     #return a dictionary of all the directly connected edges out from a given node and their weights\n",
    "    nodeslist=Get_Out_Nodes(G,Node)\n",
    "    edgesdic={}\n",
    "    edge_labels=Get_Edges(G)\n",
    "    for item in nodeslist:\n",
    "        edgesdic[((Node,item))]=edge_labels[(Node,item)]\n",
    "    return edgesdic\n",
    "\n",
    "def Print_Graph(G,red_edges=[]):\n",
    "    #takes a graph and a list of red edges\n",
    "    plt.figure(figsize=(10,10))\n",
    "    edge_colors = ['black' if not edge in red_edges else 'red' for edge in G.edges()]\n",
    "    pos = nx.planar_layout(G, 14)\n",
    "    nx.draw_networkx_nodes(G, pos, node_size= 10)\n",
    "    nx.draw_networkx_labels(G, pos,font_weight='bold', font_size=3)\n",
    "    edge_labels=dict([((u,v,),d['weight']) for u,v,d in G.edges(data=True)])\n",
    "    nx.draw_networkx_edge_labels(G,pos,edge_labels=edge_labels)\n",
    "    nx.draw(G,pos, with_labels=True, font_weight='bold',edge_color=edge_colors,arrowsize=10,node_color='#3bd1c7', node_size=500, font_size=6, font_color='black')\n",
    "    plt.savefig(\"filename.png\")\n",
    "\n",
    "def construct_graph_example():\n",
    "    G1=Init_Graph(['n4','n6','n8','n10','n14'])\n",
    "    # Add_Node(G1,'jyjyry4')\n",
    "    Add_Edges(G1,[('n8','n4'),('n4','n8')],2)\n",
    "    Add_Edges(G1,[('n6','n8'),('n8','n6'), ('n6','n14'),('n14','n6')],4)\n",
    "    Add_Edges(G1,[('n8','n10'),('n10','n8')],6)\n",
    "    Add_Edges(G1,[('n8','n14'),('n14','n8')],5)\n",
    "    Add_Edges(G1,[('n6','n4'),('n4','n6')],10)\n",
    "    Add_Edges(G1,[('n4','n10'),('n10','n4')],7)\n",
    "    Print_Graph(G1)\n",
    "    print(\"The graph nodes are \", type(Get_Nodes(G1)), Get_Nodes(G1))\n",
    "    print(\"List of edges:\", type(Get_Edges(G1)),Get_Edges(G1))\n",
    "    print(\"Example of function Get_Out_Nodes with node n6\", Get_Out_Nodes(G1,'n6'))\n",
    "    print(\"Example of function Get_Out_Edges with node n6\",Get_Out_Edges(G1,'n6'))\n",
    "    return G1\n",
    "G1=construct_graph_example()"
   ]
  },
  {
   "cell_type": "code",
   "execution_count": 17,
   "metadata": {},
   "outputs": [
    {
     "ename": "NameError",
     "evalue": "name 'Init_Graph' is not defined",
     "output_type": "error",
     "traceback": [
      "\u001b[1;31m---------------------------------------------------------------------------\u001b[0m",
      "\u001b[1;31mNameError\u001b[0m                                 Traceback (most recent call last)",
      "Cell \u001b[1;32mIn[17], line 8\u001b[0m\n\u001b[0;32m      5\u001b[0m     matches \u001b[38;5;241m=\u001b[39m re\u001b[38;5;241m.\u001b[39mfindall(pattern, text)\n\u001b[0;32m      6\u001b[0m     \u001b[38;5;28;01mreturn\u001b[39;00m matches\n\u001b[1;32m----> 8\u001b[0m G1 \u001b[38;5;241m=\u001b[39m \u001b[43mInit_Graph\u001b[49m([])\n\u001b[0;32m      9\u001b[0m \u001b[38;5;28;01mfor\u001b[39;00m action \u001b[38;5;129;01min\u001b[39;00m actions:\n\u001b[0;32m     10\u001b[0m     singleEdit \u001b[38;5;241m=\u001b[39m get_within_square_brackets(action[\u001b[38;5;241m1\u001b[39m][\u001b[38;5;241m0\u001b[39m])\n",
      "\u001b[1;31mNameError\u001b[0m: name 'Init_Graph' is not defined"
     ]
    }
   ],
   "source": [
    "import re\n",
    "# print(actions)\n",
    "def get_within_square_brackets(text):\n",
    "    pattern = r'\\[(.*?)\\]'\n",
    "    matches = re.findall(pattern, text)\n",
    "    return matches\n",
    "\n",
    "G1 = Init_Graph([])\n",
    "for action in actions:\n",
    "    singleEdit = get_within_square_brackets(action[1][0])\n",
    "    print(singleEdit)\n",
    "    executedAction = singleEdit[0]\n",
    "    G1.add_node(singleEdit[0])\n",
    "\n",
    "    if (executedAction == 'Insert'):\n",
    "        \n",
    "        G1.add_node(singleEdit[1])\n",
    "        G1.add_edge(singleEdit[0], singleEdit[1], weight=singleEdit[2])\n",
    "        # G1.add_node(singleEdit[3])\n",
    "        # Add_Edges(G1, [(singleEdit[0], singleEdit[1])], singleEdit[2])\n",
    "    elif (executedAction == 'Delete'):\n",
    "        G1.add_node(singleEdit[2])\n",
    "        # G1.add_node(singleEdit[3])\n",
    "        Add_Edges(G1, [(singleEdit[0], singleEdit[2])], singleEdit[1])\n",
    "    elif (executedAction == 'Update'):\n",
    "        print(\"WEEEEEEEEEEEEEEEEeeeeeeeeeeeeeeeeeee\")\n",
    "        G1.add_node(singleEdit[2])\n",
    "        # G1.add_node(singleEdit[3])\n",
    "        Add_Edges(G1, [(singleEdit[0], singleEdit[2])], singleEdit[1])\n",
    "\n",
    "Print_Graph(G1)\n",
    "print(G1.graph)\n"
   ]
  },
  {
   "cell_type": "markdown",
   "metadata": {},
   "source": [
    "# Bleu"
   ]
  },
  {
   "cell_type": "code",
   "execution_count": 13,
   "metadata": {},
   "outputs": [
    {
     "name": "stdout",
     "output_type": "stream",
     "text": [
      "0.22727272727272727\n"
     ]
    }
   ],
   "source": [
    "from nltk.translate.bleu_score import sentence_bleu\n",
    "reference = data[111][\"before\"].split()\n",
    "# reference = [['this', 'is', 'a', 'test'], ['this', 'is' 'test']]\n",
    "# candidate = ['this', 'is', 'a', 'gteet']\n",
    "candidate = data[111][\"after\"].split()\n",
    "score = sentence_bleu(reference, candidate, weights= [1])\n",
    "print(score)"
   ]
  },
  {
   "cell_type": "code",
   "execution_count": 17,
   "metadata": {},
   "outputs": [
    {
     "name": "stdout",
     "output_type": "stream",
     "text": [
      "except\n",
      "not\n",
      "for\n"
     ]
    }
   ],
   "source": [
    "from keyword import iskeyword\n",
    "\n",
    "\n",
    "string_test = \"except XMPPError : log . debug ( 'Could not retrieve vCard for %s' % jid )\"\n",
    "\n",
    "keyword_index = 0\n",
    "attribute_index = 0\n",
    "\n",
    "splitted = string_test.split()\n",
    "for i, s in enumerate(splitted):\n",
    "    if iskeyword(s):\n",
    "        splitted[i]\n",
    "        print(s)"
   ]
  },
  {
   "cell_type": "code",
   "execution_count": 31,
   "metadata": {},
   "outputs": [
    {
     "name": "stdout",
     "output_type": "stream",
     "text": [
      "['except', 'XMPPError', ':', 'log', '.', 'debug', '(', \"'Could\", 'not', 'retrieve', 'vCard', 'for', '%', 's', \"'\", '%', 'jid', ')']\n"
     ]
    }
   ],
   "source": [
    "import code_tokenize as ctok\n",
    "# from tokenizer import tokenize\n",
    "from nltk.tokenize import word_tokenize  \n",
    "tok = word_tokenize(string_test)\n",
    "# res = tokenize(string_test)\n",
    "# res2 = []\n",
    "# for r in res:\n",
    "#     print(r.txt)\n",
    "#     res2.append(r)\n",
    "# res3 = \" \".join(res2)\n",
    "res = \" \".join(tok)\n",
    "print(tok)"
   ]
  },
  {
   "cell_type": "code",
   "execution_count": 16,
   "metadata": {},
   "outputs": [
    {
     "name": "stdout",
     "output_type": "stream",
     "text": [
      "2\n"
     ]
    }
   ],
   "source": [
    "from inspect import currentframe, getframeinfo\n",
    "frameinfo = getframeinfo(currentframe()); locals()['a7a'] = (frameinfo.lineno); print(locals())\n",
    "print((locals()['a7a']))"
   ]
  },
  {
   "cell_type": "code",
   "execution_count": 12,
   "metadata": {},
   "outputs": [
    {
     "name": "stdout",
     "output_type": "stream",
     "text": [
      "2\n"
     ]
    }
   ],
   "source": [
    "print(locals()['a7a'].lineno)"
   ]
  }
 ],
 "metadata": {
  "kernelspec": {
   "display_name": "Python 3",
   "language": "python",
   "name": "python3"
  },
  "language_info": {
   "codemirror_mode": {
    "name": "ipython",
    "version": 3
   },
   "file_extension": ".py",
   "mimetype": "text/x-python",
   "name": "python",
   "nbconvert_exporter": "python",
   "pygments_lexer": "ipython3",
   "version": "3.10.12"
  }
 },
 "nbformat": 4,
 "nbformat_minor": 2
}
