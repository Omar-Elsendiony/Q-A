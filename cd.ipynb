{
 "cells": [
  {
   "cell_type": "code",
   "execution_count": 3,
   "metadata": {},
   "outputs": [],
   "source": [
    "##################### CODE DIFFERENCE UTILITY #####################\n",
    "import code_diff as cd\n",
    "\n",
    "from code_diff.gumtree import ops\n",
    "\n",
    "def _subtrees(script):\n",
    "    subtrees = {}\n",
    "    for action in script:\n",
    "        if not isinstance(action, (ops.Insert, ops.Move)): continue\n",
    "        target, node, position = action.target_node, action.node, action.position\n",
    "\n",
    "        if isinstance(action, ops.Insert):\n",
    "            _, text = node\n",
    "            insert_content = text if text is not None else action.insert_id\n",
    "            if isinstance(insert_content, int):\n",
    "                continue\n",
    "            subtrees[action.insert_id] = (insert_content)\n",
    "            # target_id = target.node_id\n",
    "            # if target_id not in subtrees: subtrees[target_id] = []\n",
    "            # else: subtrees[target_id] = []\n",
    "            # subtrees[target_id].insert(position, insert_content)\n",
    "        elif isinstance(action, ops.Move):\n",
    "            insert_content = node\n",
    "            # subtrees[str(action.move_id)] = (insert_content)\n",
    "\n",
    "        # if hasattr(target, \"node_id\"):\n",
    "        #     target_id = target.node_id\n",
    "        #     if target_id not in subtrees: subtrees[target_id] = []\n",
    "        #     else: subtrees[target_id] = []\n",
    "        #     subtrees[target_id].insert(position, insert_content)\n",
    "    \n",
    "    return subtrees\n",
    "\n",
    "def _serialize_tree(subtrees, node_id):\n",
    "    result = []\n",
    "    stack  = [node_id]\n",
    "\n",
    "    while len(stack) > 0:\n",
    "        element = stack.pop(0)\n",
    "        if isinstance(element, int):\n",
    "            # element = str(element)\n",
    "            elem = subtrees.get(element, [])\n",
    "            if (elem != []):\n",
    "                result.append(elem)\n",
    "            else:\n",
    "                stack = subtrees.get(element, []) + stack\n",
    "        else:\n",
    "            result.append(element)\n",
    "\n",
    "    return result\n",
    "\n",
    "def flatten_script(script):\n",
    "    result_script = []\n",
    "    subtrees = _subtrees(script)\n",
    "\n",
    "    for action in script:\n",
    "        if isinstance(action, ops.Insert):\n",
    "            # if not hasattr(action.target_node, \"node_id\"): continue # Ignore because we flatten\n",
    "            new_node = _serialize_tree(subtrees, action.insert_id)\n",
    "            result_script.append(ops.Insert(action.target_node, new_node, position = action.position, insert_id=action.insert_id))\n",
    "        elif isinstance(action, ops.Move) and hasattr(action.target_node, \"node_id\"):\n",
    "            result_script.append(ops.Delete(action.node))\n",
    "        else:\n",
    "            result_script.append(action)\n",
    "\n",
    "    return result_script\n",
    "\n",
    "\n",
    "def synthesize_rewrite_script(script):\n",
    "    # Flatten the script: Build and parse the subtrees that are inserted or moved\n",
    "    flat_script = flatten_script(script)\n",
    "    # Generate new actions of the form (replace_span, token_seq)\n",
    "    # You can transform the source by replacing each span with the token sequence \n",
    "    result = []\n",
    "    for action in flat_script:\n",
    "        target_node = action.target_node\n",
    "        if isinstance(action, ops.Insert):\n",
    "            # if action.position == len(target_node.children):\n",
    "            target = target_node\n",
    "            while (target.children == []):\n",
    "                target = target.parent\n",
    "            # if (target_node.children == []): \n",
    "            #     predecessor = target_node.parent\n",
    "            #     (start_line, start_pos), (end_line, end_pos) = predecessor.position[1], predecessor.position[1]\n",
    "            # else:\n",
    "            predecessor = target\n",
    "            (start_line, start_pos), (end_line, end_pos) = predecessor.position[1], predecessor.position[1]\n",
    "            \n",
    "            # else:\n",
    "            #     if (target_node.children == []): # what I want is the line number only not column offset\n",
    "            #         predecessor = target_node.parent\n",
    "            #         (start_line, start_pos), (end_line, end_pos) = predecessor.position[1], predecessor.position[1]\n",
    "            #     else:\n",
    "            #         predecessor = target_node.children[action.position]\n",
    "            #         (start_line, start_pos), (end_line, end_pos) = predecessor.position[1], predecessor.position[1]\n",
    "            if (action.node == []): continue\n",
    "            parent = target_node.parent\n",
    "            while parent and parent.__class__.__name__ != 'ASTNode':\n",
    "                # print(parent.__class__.__name__)\n",
    "                parent = parent.parent\n",
    "\n",
    "            # print(parent.type)\n",
    "            insertOperation = f'[Insert]: [{target_node.type}] {action.node}: parent [{parent.type}]'\n",
    "            # print(target_node.__class__.__name__)\n",
    "            result.append(((start_line, start_pos, end_line, end_pos), [insertOperation]))\n",
    "        elif isinstance(action, ops.Update):\n",
    "            (start_line, start_pos), (end_line, end_pos) = target_node.position\n",
    "            updateOperation = f'[Update]: [{(target_node).type}] from [{target_node.text}] to [{action.value}]'\n",
    "\n",
    "            result.append(((start_line, start_pos, end_line, end_pos), [updateOperation]))\n",
    "        elif isinstance(action, ops.Delete):\n",
    "            (start_line, start_pos), (end_line, end_pos) = target_node.position\n",
    "            deleteOperation = f'[Delete]: [{(target_node).type}] [{target_node.parent.type}]'\n",
    "            result.append(((start_line, start_pos, end_line, end_pos), [deleteOperation]))\n",
    "    return result\n",
    "\n",
    "###################################################################################\n"
   ]
  },
  {
   "cell_type": "code",
   "execution_count": 7,
   "metadata": {},
   "outputs": [
    {
     "name": "stderr",
     "output_type": "stream",
     "text": [
      "/usr/local/lib/python3.11/dist-packages/tree_sitter/__init__.py:36: FutureWarning: Language.build_library is deprecated. Use the new bindings instead.\n",
      "  warn(\"{} is deprecated. Use {} instead.\".format(old, new), FutureWarning)\n"
     ]
    },
    {
     "ename": "FileNotFoundError",
     "evalue": "[Errno 2] No such file or directory: 'vendor/tree-sitter-go/src/parser.c'",
     "output_type": "error",
     "traceback": [
      "\u001b[0;31m---------------------------------------------------------------------------\u001b[0m",
      "\u001b[0;31mFileNotFoundError\u001b[0m                         Traceback (most recent call last)",
      "Cell \u001b[0;32mIn[7], line 3\u001b[0m\n\u001b[1;32m      1\u001b[0m \u001b[38;5;28;01mfrom\u001b[39;00m \u001b[38;5;21;01mtree_sitter\u001b[39;00m \u001b[38;5;28;01mimport\u001b[39;00m Language, Parser\n\u001b[0;32m----> 3\u001b[0m \u001b[43mLanguage\u001b[49m\u001b[38;5;241;43m.\u001b[39;49m\u001b[43mbuild_library\u001b[49m\u001b[43m(\u001b[49m\n\u001b[1;32m      4\u001b[0m \u001b[43m  \u001b[49m\u001b[38;5;66;43;03m# Store the library in the `build` directory\u001b[39;49;00m\n\u001b[1;32m      5\u001b[0m \u001b[43m  \u001b[49m\u001b[38;5;124;43m'\u001b[39;49m\u001b[38;5;124;43mbuild/my-languages.so\u001b[39;49m\u001b[38;5;124;43m'\u001b[39;49m\u001b[43m,\u001b[49m\n\u001b[1;32m      6\u001b[0m \n\u001b[1;32m      7\u001b[0m \u001b[43m  \u001b[49m\u001b[38;5;66;43;03m# Include one or more languages\u001b[39;49;00m\n\u001b[1;32m      8\u001b[0m \u001b[43m  \u001b[49m\u001b[43m[\u001b[49m\n\u001b[1;32m      9\u001b[0m \u001b[43m    \u001b[49m\u001b[38;5;124;43m'\u001b[39;49m\u001b[38;5;124;43mvendor/tree-sitter-go\u001b[39;49m\u001b[38;5;124;43m'\u001b[39;49m\u001b[43m,\u001b[49m\n\u001b[1;32m     10\u001b[0m \u001b[43m    \u001b[49m\u001b[38;5;124;43m'\u001b[39;49m\u001b[38;5;124;43mvendor/tree-sitter-javascript\u001b[39;49m\u001b[38;5;124;43m'\u001b[39;49m\u001b[43m,\u001b[49m\n\u001b[1;32m     11\u001b[0m \u001b[43m    \u001b[49m\u001b[38;5;124;43m'\u001b[39;49m\u001b[38;5;124;43mvendor/tree-sitter-python\u001b[39;49m\u001b[38;5;124;43m'\u001b[39;49m\n\u001b[1;32m     12\u001b[0m \u001b[43m  \u001b[49m\u001b[43m]\u001b[49m\n\u001b[1;32m     13\u001b[0m \u001b[43m)\u001b[49m\n",
      "File \u001b[0;32m/usr/local/lib/python3.11/dist-packages/tree_sitter/__init__.py:81\u001b[0m, in \u001b[0;36mLanguage.build_library\u001b[0;34m(output_path, repo_paths)\u001b[0m\n\u001b[1;32m     79\u001b[0m     \u001b[38;5;28;01melif\u001b[39;00m path\u001b[38;5;241m.\u001b[39mexists(path\u001b[38;5;241m.\u001b[39mjoin(src_path, \u001b[38;5;124m\"\u001b[39m\u001b[38;5;124mscanner.c\u001b[39m\u001b[38;5;124m\"\u001b[39m)):\n\u001b[1;32m     80\u001b[0m         source_paths\u001b[38;5;241m.\u001b[39mappend(path\u001b[38;5;241m.\u001b[39mjoin(src_path, \u001b[38;5;124m\"\u001b[39m\u001b[38;5;124mscanner.c\u001b[39m\u001b[38;5;124m\"\u001b[39m))\n\u001b[0;32m---> 81\u001b[0m source_mtimes \u001b[38;5;241m=\u001b[39m [path\u001b[38;5;241m.\u001b[39mgetmtime(\u001b[38;5;18m__file__\u001b[39m)] \u001b[38;5;241m+\u001b[39m \u001b[43m[\u001b[49m\u001b[43mpath\u001b[49m\u001b[38;5;241;43m.\u001b[39;49m\u001b[43mgetmtime\u001b[49m\u001b[43m(\u001b[49m\u001b[43mpath_\u001b[49m\u001b[43m)\u001b[49m\u001b[43m \u001b[49m\u001b[38;5;28;43;01mfor\u001b[39;49;00m\u001b[43m \u001b[49m\u001b[43mpath_\u001b[49m\u001b[43m \u001b[49m\u001b[38;5;129;43;01min\u001b[39;49;00m\u001b[43m \u001b[49m\u001b[43msource_paths\u001b[49m\u001b[43m]\u001b[49m\n\u001b[1;32m     83\u001b[0m \u001b[38;5;28;01mif\u001b[39;00m \u001b[38;5;28mmax\u001b[39m(source_mtimes) \u001b[38;5;241m<\u001b[39m\u001b[38;5;241m=\u001b[39m output_mtime:\n\u001b[1;32m     84\u001b[0m     \u001b[38;5;28;01mreturn\u001b[39;00m \u001b[38;5;28;01mFalse\u001b[39;00m\n",
      "File \u001b[0;32m/usr/local/lib/python3.11/dist-packages/tree_sitter/__init__.py:81\u001b[0m, in \u001b[0;36m<listcomp>\u001b[0;34m(.0)\u001b[0m\n\u001b[1;32m     79\u001b[0m     \u001b[38;5;28;01melif\u001b[39;00m path\u001b[38;5;241m.\u001b[39mexists(path\u001b[38;5;241m.\u001b[39mjoin(src_path, \u001b[38;5;124m\"\u001b[39m\u001b[38;5;124mscanner.c\u001b[39m\u001b[38;5;124m\"\u001b[39m)):\n\u001b[1;32m     80\u001b[0m         source_paths\u001b[38;5;241m.\u001b[39mappend(path\u001b[38;5;241m.\u001b[39mjoin(src_path, \u001b[38;5;124m\"\u001b[39m\u001b[38;5;124mscanner.c\u001b[39m\u001b[38;5;124m\"\u001b[39m))\n\u001b[0;32m---> 81\u001b[0m source_mtimes \u001b[38;5;241m=\u001b[39m [path\u001b[38;5;241m.\u001b[39mgetmtime(\u001b[38;5;18m__file__\u001b[39m)] \u001b[38;5;241m+\u001b[39m [\u001b[43mpath\u001b[49m\u001b[38;5;241;43m.\u001b[39;49m\u001b[43mgetmtime\u001b[49m\u001b[43m(\u001b[49m\u001b[43mpath_\u001b[49m\u001b[43m)\u001b[49m \u001b[38;5;28;01mfor\u001b[39;00m path_ \u001b[38;5;129;01min\u001b[39;00m source_paths]\n\u001b[1;32m     83\u001b[0m \u001b[38;5;28;01mif\u001b[39;00m \u001b[38;5;28mmax\u001b[39m(source_mtimes) \u001b[38;5;241m<\u001b[39m\u001b[38;5;241m=\u001b[39m output_mtime:\n\u001b[1;32m     84\u001b[0m     \u001b[38;5;28;01mreturn\u001b[39;00m \u001b[38;5;28;01mFalse\u001b[39;00m\n",
      "File \u001b[0;32m<frozen genericpath>:55\u001b[0m, in \u001b[0;36mgetmtime\u001b[0;34m(filename)\u001b[0m\n",
      "\u001b[0;31mFileNotFoundError\u001b[0m: [Errno 2] No such file or directory: 'vendor/tree-sitter-go/src/parser.c'"
     ]
    }
   ],
   "source": [
    "# from tree_sitter import Language, Parser\n",
    "\n",
    "# Language.build_library(\n",
    "#   # Store the library in the `build` directory\n",
    "#   'build/my-languages.so',\n",
    "\n",
    "#   # Include one or more languages\n",
    "#   [\n",
    "#     'vendor/tree-sitter-go',\n",
    "#     'vendor/tree-sitter-javascript',\n",
    "#     'vendor/tree-sitter-python'\n",
    "#   ]\n",
    "# )"
   ]
  },
  {
   "cell_type": "code",
   "execution_count": 5,
   "metadata": {},
   "outputs": [
    {
     "name": "stdout",
     "output_type": "stream",
     "text": [
      "java\n",
      "ojhhhhg\n",
      "java\n",
      "ojhhhhg\n"
     ]
    },
    {
     "name": "stderr",
     "output_type": "stream",
     "text": [
      "/usr/local/lib/python3.11/dist-packages/tree_sitter/__init__.py:36: FutureWarning: Language(path, name) is deprecated. Use Language(ptr, name) instead.\n",
      "  warn(\"{} is deprecated. Use {} instead.\".format(old, new), FutureWarning)\n"
     ]
    },
    {
     "ename": "FileNotFoundError",
     "evalue": "[Errno 2] No such file or directory: 'ctssb_data_1M/ctssb_data_1M/file-0.jsonl/file-0.jsonl'",
     "output_type": "error",
     "traceback": [
      "\u001b[0;31m---------------------------------------------------------------------------\u001b[0m",
      "\u001b[0;31mFileNotFoundError\u001b[0m                         Traceback (most recent call last)",
      "Cell \u001b[0;32mIn[5], line 28\u001b[0m\n\u001b[1;32m     26\u001b[0m         line_content \u001b[38;5;241m=\u001b[39m [json\u001b[38;5;241m.\u001b[39mloads(line) \u001b[38;5;28;01mfor\u001b[39;00m line \u001b[38;5;129;01min\u001b[39;00m f\u001b[38;5;241m.\u001b[39mreadlines()]\n\u001b[1;32m     27\u001b[0m     \u001b[38;5;28;01mreturn\u001b[39;00m line_content\n\u001b[0;32m---> 28\u001b[0m data \u001b[38;5;241m=\u001b[39m \u001b[43mread_json_file\u001b[49m\u001b[43m(\u001b[49m\u001b[38;5;124;43m'\u001b[39;49m\u001b[38;5;124;43mctssb_data_1M/ctssb_data_1M/file-0.jsonl/file-0.jsonl\u001b[39;49m\u001b[38;5;124;43m'\u001b[39;49m\u001b[43m)\u001b[49m\n\u001b[1;32m     31\u001b[0m \u001b[38;5;28;01mimport\u001b[39;00m \u001b[38;5;21;01mast\u001b[39;00m\n\u001b[1;32m     33\u001b[0m bef \u001b[38;5;241m=\u001b[39m data[\u001b[38;5;241m10\u001b[39m][\u001b[38;5;124m\"\u001b[39m\u001b[38;5;124mbefore\u001b[39m\u001b[38;5;124m\"\u001b[39m]\n",
      "Cell \u001b[0;32mIn[5], line 25\u001b[0m, in \u001b[0;36mread_json_file\u001b[0;34m(file_path)\u001b[0m\n\u001b[1;32m     24\u001b[0m \u001b[38;5;28;01mdef\u001b[39;00m \u001b[38;5;21mread_json_file\u001b[39m(file_path):\n\u001b[0;32m---> 25\u001b[0m     \u001b[38;5;28;01mwith\u001b[39;00m \u001b[38;5;28;43mopen\u001b[39;49m\u001b[43m(\u001b[49m\u001b[43mfile_path\u001b[49m\u001b[43m,\u001b[49m\u001b[43m \u001b[49m\u001b[38;5;124;43m'\u001b[39;49m\u001b[38;5;124;43mr\u001b[39;49m\u001b[38;5;124;43m'\u001b[39;49m\u001b[43m)\u001b[49m \u001b[38;5;28;01mas\u001b[39;00m f:\n\u001b[1;32m     26\u001b[0m         line_content \u001b[38;5;241m=\u001b[39m [json\u001b[38;5;241m.\u001b[39mloads(line) \u001b[38;5;28;01mfor\u001b[39;00m line \u001b[38;5;129;01min\u001b[39;00m f\u001b[38;5;241m.\u001b[39mreadlines()]\n\u001b[1;32m     27\u001b[0m     \u001b[38;5;28;01mreturn\u001b[39;00m line_content\n",
      "File \u001b[0;32m/usr/local/lib/python3.11/dist-packages/IPython/core/interactiveshell.py:324\u001b[0m, in \u001b[0;36m_modified_open\u001b[0;34m(file, *args, **kwargs)\u001b[0m\n\u001b[1;32m    317\u001b[0m \u001b[38;5;28;01mif\u001b[39;00m file \u001b[38;5;129;01min\u001b[39;00m {\u001b[38;5;241m0\u001b[39m, \u001b[38;5;241m1\u001b[39m, \u001b[38;5;241m2\u001b[39m}:\n\u001b[1;32m    318\u001b[0m     \u001b[38;5;28;01mraise\u001b[39;00m \u001b[38;5;167;01mValueError\u001b[39;00m(\n\u001b[1;32m    319\u001b[0m         \u001b[38;5;124mf\u001b[39m\u001b[38;5;124m\"\u001b[39m\u001b[38;5;124mIPython won\u001b[39m\u001b[38;5;124m'\u001b[39m\u001b[38;5;124mt let you open fd=\u001b[39m\u001b[38;5;132;01m{\u001b[39;00mfile\u001b[38;5;132;01m}\u001b[39;00m\u001b[38;5;124m by default \u001b[39m\u001b[38;5;124m\"\u001b[39m\n\u001b[1;32m    320\u001b[0m         \u001b[38;5;124m\"\u001b[39m\u001b[38;5;124mas it is likely to crash IPython. If you know what you are doing, \u001b[39m\u001b[38;5;124m\"\u001b[39m\n\u001b[1;32m    321\u001b[0m         \u001b[38;5;124m\"\u001b[39m\u001b[38;5;124myou can use builtins\u001b[39m\u001b[38;5;124m'\u001b[39m\u001b[38;5;124m open.\u001b[39m\u001b[38;5;124m\"\u001b[39m\n\u001b[1;32m    322\u001b[0m     )\n\u001b[0;32m--> 324\u001b[0m \u001b[38;5;28;01mreturn\u001b[39;00m \u001b[43mio_open\u001b[49m\u001b[43m(\u001b[49m\u001b[43mfile\u001b[49m\u001b[43m,\u001b[49m\u001b[43m \u001b[49m\u001b[38;5;241;43m*\u001b[39;49m\u001b[43margs\u001b[49m\u001b[43m,\u001b[49m\u001b[43m \u001b[49m\u001b[38;5;241;43m*\u001b[39;49m\u001b[38;5;241;43m*\u001b[39;49m\u001b[43mkwargs\u001b[49m\u001b[43m)\u001b[49m\n",
      "\u001b[0;31mFileNotFoundError\u001b[0m: [Errno 2] No such file or directory: 'ctssb_data_1M/ctssb_data_1M/file-0.jsonl/file-0.jsonl'"
     ]
    }
   ],
   "source": [
    "output = cd.difference(\n",
    "    '''\n",
    "        expected = datetime . datetime ( 1970 , 1 , 1 , 1 , 0 , 23 , 0 , datefmt . localtz )\n",
    "    ''',\n",
    "    '''\n",
    "        expected = datetime . datetime . fromtimestamp ( 23 , datefmt . localtz )\n",
    "    ''',\n",
    "lang = \"java\")\n",
    "\n",
    "\n",
    "\n",
    "s = output.edit_script()\n",
    "# s = synthesize_rewrite_script(s)\n",
    "# print((s))\n",
    "\n",
    "# Open the file in write mode\n",
    "# with open('O:\\DriveFiles\\GP_Projects\\Bug-Repair\\Q-A\\MyMutpy\\output.txt', 'w') as file:\n",
    "#     for action in s:\n",
    "#         (start_line, start_pos, end_line, end_pos), new_content = action\n",
    "#         file.write(f\"{start_line} {start_pos} {end_line} {end_pos} {new_content}\\n\")\n",
    "\n",
    "import json\n",
    "\n",
    "def read_json_file(file_path):\n",
    "    with open(file_path, 'r') as f:\n",
    "        line_content = [json.loads(line) for line in f.readlines()]\n",
    "    return line_content\n",
    "data = read_json_file('ctssb_data_1M/ctssb_data_1M/file-0.jsonl/file-0.jsonl')\n",
    "\n",
    "\n",
    "import ast\n",
    "\n",
    "bef = data[10][\"before\"]\n",
    "aft = data[10][\"after\"]\n",
    "\n",
    "print(bef)\n",
    "print(aft)\n",
    "# print(data[1][\"comodified\"])\n",
    "# print(data[41][\"edit_script\"])\n",
    "# print(data[631][\"likely_bug\"])\n",
    "\n",
    "# s = ast.dump(ast.parse(data[31][\"after\"]), indent=4)\n",
    "# print(s)\n",
    "print(\"-------------------------------------\")\n",
    "b = bef\n",
    "a = aft\n",
    "\n",
    "diff = cd.difference(b, a, lang=\"python\")\n",
    "# print(diff.edit_script())\n",
    "actions = synthesize_rewrite_script(diff.edit_script())\n",
    "for action in actions:\n",
    "    print(action[1])\n",
    "\n",
    "\n",
    "# print(ast.dump(ast.parse(b), indent=4))"
   ]
  },
  {
   "cell_type": "code",
   "execution_count": 6,
   "metadata": {},
   "outputs": [
    {
     "ename": "TypeError",
     "evalue": "'_AxesStack' object is not callable",
     "output_type": "error",
     "traceback": [
      "\u001b[0;31m---------------------------------------------------------------------------\u001b[0m",
      "\u001b[0;31mTypeError\u001b[0m                                 Traceback (most recent call last)",
      "Cell \u001b[0;32mIn[6], line 75\u001b[0m\n\u001b[1;32m     73\u001b[0m     \u001b[38;5;28mprint\u001b[39m(\u001b[38;5;124m\"\u001b[39m\u001b[38;5;124mExample of function Get_Out_Edges with node n6\u001b[39m\u001b[38;5;124m\"\u001b[39m,Get_Out_Edges(G1,\u001b[38;5;124m'\u001b[39m\u001b[38;5;124mn6\u001b[39m\u001b[38;5;124m'\u001b[39m))\n\u001b[1;32m     74\u001b[0m     \u001b[38;5;28;01mreturn\u001b[39;00m G1\n\u001b[0;32m---> 75\u001b[0m G1\u001b[38;5;241m=\u001b[39m\u001b[43mconstruct_graph_example\u001b[49m\u001b[43m(\u001b[49m\u001b[43m)\u001b[49m\n",
      "Cell \u001b[0;32mIn[6], line 69\u001b[0m, in \u001b[0;36mconstruct_graph_example\u001b[0;34m()\u001b[0m\n\u001b[1;32m     67\u001b[0m Add_Edges(G1,[(\u001b[38;5;124m'\u001b[39m\u001b[38;5;124mn6\u001b[39m\u001b[38;5;124m'\u001b[39m,\u001b[38;5;124m'\u001b[39m\u001b[38;5;124mn4\u001b[39m\u001b[38;5;124m'\u001b[39m),(\u001b[38;5;124m'\u001b[39m\u001b[38;5;124mn4\u001b[39m\u001b[38;5;124m'\u001b[39m,\u001b[38;5;124m'\u001b[39m\u001b[38;5;124mn6\u001b[39m\u001b[38;5;124m'\u001b[39m)],\u001b[38;5;241m10\u001b[39m)\n\u001b[1;32m     68\u001b[0m Add_Edges(G1,[(\u001b[38;5;124m'\u001b[39m\u001b[38;5;124mn4\u001b[39m\u001b[38;5;124m'\u001b[39m,\u001b[38;5;124m'\u001b[39m\u001b[38;5;124mn10\u001b[39m\u001b[38;5;124m'\u001b[39m),(\u001b[38;5;124m'\u001b[39m\u001b[38;5;124mn10\u001b[39m\u001b[38;5;124m'\u001b[39m,\u001b[38;5;124m'\u001b[39m\u001b[38;5;124mn4\u001b[39m\u001b[38;5;124m'\u001b[39m)],\u001b[38;5;241m7\u001b[39m)\n\u001b[0;32m---> 69\u001b[0m \u001b[43mPrint_Graph\u001b[49m\u001b[43m(\u001b[49m\u001b[43mG1\u001b[49m\u001b[43m)\u001b[49m\n\u001b[1;32m     70\u001b[0m \u001b[38;5;28mprint\u001b[39m(\u001b[38;5;124m\"\u001b[39m\u001b[38;5;124mThe graph nodes are \u001b[39m\u001b[38;5;124m\"\u001b[39m, \u001b[38;5;28mtype\u001b[39m(Get_Nodes(G1)), Get_Nodes(G1))\n\u001b[1;32m     71\u001b[0m \u001b[38;5;28mprint\u001b[39m(\u001b[38;5;124m\"\u001b[39m\u001b[38;5;124mList of edges:\u001b[39m\u001b[38;5;124m\"\u001b[39m, \u001b[38;5;28mtype\u001b[39m(Get_Edges(G1)),Get_Edges(G1))\n",
      "Cell \u001b[0;32mIn[6], line 56\u001b[0m, in \u001b[0;36mPrint_Graph\u001b[0;34m(G)\u001b[0m\n\u001b[1;32m     54\u001b[0m edge_labels\u001b[38;5;241m=\u001b[39m\u001b[38;5;28mdict\u001b[39m([((u,v,),d[\u001b[38;5;124m'\u001b[39m\u001b[38;5;124mweight\u001b[39m\u001b[38;5;124m'\u001b[39m]) \u001b[38;5;28;01mfor\u001b[39;00m u,v,d \u001b[38;5;129;01min\u001b[39;00m G\u001b[38;5;241m.\u001b[39medges(data\u001b[38;5;241m=\u001b[39m\u001b[38;5;28;01mTrue\u001b[39;00m)])\n\u001b[1;32m     55\u001b[0m nx\u001b[38;5;241m.\u001b[39mdraw_networkx_edge_labels(G,pos,edge_labels\u001b[38;5;241m=\u001b[39medge_labels)\n\u001b[0;32m---> 56\u001b[0m \u001b[43mnx\u001b[49m\u001b[38;5;241;43m.\u001b[39;49m\u001b[43mdraw\u001b[49m\u001b[43m(\u001b[49m\u001b[43mG\u001b[49m\u001b[43m,\u001b[49m\u001b[43mpos\u001b[49m\u001b[43m,\u001b[49m\u001b[43m \u001b[49m\u001b[43mwith_labels\u001b[49m\u001b[38;5;241;43m=\u001b[39;49m\u001b[38;5;28;43;01mTrue\u001b[39;49;00m\u001b[43m,\u001b[49m\u001b[43m \u001b[49m\u001b[43mfont_weight\u001b[49m\u001b[38;5;241;43m=\u001b[39;49m\u001b[38;5;124;43m'\u001b[39;49m\u001b[38;5;124;43mbold\u001b[39;49m\u001b[38;5;124;43m'\u001b[39;49m\u001b[43m,\u001b[49m\u001b[43medge_color\u001b[49m\u001b[38;5;241;43m=\u001b[39;49m\u001b[38;5;124;43m'\u001b[39;49m\u001b[38;5;124;43mblack\u001b[39;49m\u001b[38;5;124;43m'\u001b[39;49m\u001b[43m,\u001b[49m\u001b[43marrowsize\u001b[49m\u001b[38;5;241;43m=\u001b[39;49m\u001b[38;5;241;43m10\u001b[39;49m\u001b[43m,\u001b[49m\n\u001b[1;32m     57\u001b[0m \u001b[43m        \u001b[49m\u001b[43mnode_color\u001b[49m\u001b[38;5;241;43m=\u001b[39;49m\u001b[38;5;124;43m'\u001b[39;49m\u001b[38;5;124;43m#3bd1c7\u001b[39;49m\u001b[38;5;124;43m'\u001b[39;49m\u001b[43m,\u001b[49m\u001b[43m \u001b[49m\u001b[43mnode_size\u001b[49m\u001b[38;5;241;43m=\u001b[39;49m\u001b[38;5;241;43m500\u001b[39;49m\u001b[43m,\u001b[49m\u001b[43m \u001b[49m\u001b[43mfont_size\u001b[49m\u001b[38;5;241;43m=\u001b[39;49m\u001b[38;5;241;43m6\u001b[39;49m\u001b[43m,\u001b[49m\u001b[43m \u001b[49m\u001b[43mfont_color\u001b[49m\u001b[38;5;241;43m=\u001b[39;49m\u001b[38;5;124;43m'\u001b[39;49m\u001b[38;5;124;43mblack\u001b[39;49m\u001b[38;5;124;43m'\u001b[39;49m\u001b[43m,\u001b[49m\u001b[43m \u001b[49m\u001b[43mconnectionstyle\u001b[49m\u001b[38;5;241;43m=\u001b[39;49m\u001b[38;5;124;43m\"\u001b[39;49m\u001b[38;5;124;43marc3,rad=0.1\u001b[39;49m\u001b[38;5;124;43m\"\u001b[39;49m\u001b[43m)\u001b[49m\n",
      "File \u001b[0;32m/usr/local/lib/python3.11/dist-packages/networkx/drawing/nx_pylab.py:113\u001b[0m, in \u001b[0;36mdraw\u001b[0;34m(G, pos, ax, **kwds)\u001b[0m\n\u001b[1;32m    111\u001b[0m cf\u001b[38;5;241m.\u001b[39mset_facecolor(\u001b[38;5;124m\"\u001b[39m\u001b[38;5;124mw\u001b[39m\u001b[38;5;124m\"\u001b[39m)\n\u001b[1;32m    112\u001b[0m \u001b[38;5;28;01mif\u001b[39;00m ax \u001b[38;5;129;01mis\u001b[39;00m \u001b[38;5;28;01mNone\u001b[39;00m:\n\u001b[0;32m--> 113\u001b[0m     \u001b[38;5;28;01mif\u001b[39;00m \u001b[43mcf\u001b[49m\u001b[38;5;241;43m.\u001b[39;49m\u001b[43m_axstack\u001b[49m\u001b[43m(\u001b[49m\u001b[43m)\u001b[49m \u001b[38;5;129;01mis\u001b[39;00m \u001b[38;5;28;01mNone\u001b[39;00m:\n\u001b[1;32m    114\u001b[0m         ax \u001b[38;5;241m=\u001b[39m cf\u001b[38;5;241m.\u001b[39madd_axes((\u001b[38;5;241m0\u001b[39m, \u001b[38;5;241m0\u001b[39m, \u001b[38;5;241m1\u001b[39m, \u001b[38;5;241m1\u001b[39m))\n\u001b[1;32m    115\u001b[0m     \u001b[38;5;28;01melse\u001b[39;00m:\n",
      "\u001b[0;31mTypeError\u001b[0m: '_AxesStack' object is not callable"
     ]
    },
    {
     "data": {
      "image/png": "[encoded data removed]",
      "text/plain": [
       "<Figure size 1000x1000 with 1 Axes>"
      ]
     },
     "metadata": {},
     "output_type": "display_data"
    }
   ],
   "source": [
    "import networkx as nx\n",
    "import matplotlib.pyplot as plt\n",
    "#-------------------------------------------------------helper functions from previous lab------------------------------------------------------------------#\n",
    "def Init_Graph(Nodes):\n",
    "    #takes nodes in the list format , for example [1,3,5,7,9] and initializes a directed graph\n",
    "    G = nx.MultiDiGraph()\n",
    "    G.add_nodes_from(Nodes)\n",
    "    return G\n",
    "def Add_Node(G,Node):\n",
    "    #takes an initialized graph and a node and adds the node to the graph\n",
    "    G.add_node(Node)\n",
    "\n",
    "def Add_Edges(G,Edge, Weight=1):\n",
    "    #takes an initialized graph \n",
    "    #and an edge or edge list in the list of tubles(start,end) form, for example [(1,5), (7,9), (1,9)]\n",
    "    #and a shared weigh, by default 1\n",
    "    G.add_edges_from(Edge, weight=Weight)\n",
    "\n",
    "def Get_Nodes(G):\n",
    "    #returns the list of nodes\n",
    "    return list(G.nodes)\n",
    "\n",
    "def Get_Edges(G):\n",
    "    #returns a dictionary of Edges and their weights\n",
    "    #for example:{(1, 5): 3, (1, 9): 3, (7, 9): 3}\n",
    "    for u,v,d in G.edges(data=True):\n",
    "        print(u,v,d)\n",
    "    edge_labels=dict([((u,v,),d['weight'])\n",
    "                 for u,v,d in G.edges(data=True)])\n",
    "    return edge_labels\n",
    "\n",
    "def Get_Out_Nodes(G,Node):\n",
    "    #return a list of all the directly connected nodes out from a given node, for example [3,5]\n",
    "    #the directly connected nodes [A,B] , mean that there is an edge starts from 'A' and ends at 'B'\n",
    "    #i.e the incoming nodes towards 'Node' are not listed here\n",
    "    #if there isnt any, the list will be empty []\n",
    "    return list(G.adj[Node])\n",
    "\n",
    "def Get_Out_Edges(G,Node):\n",
    "     #return a dictionary of all the directly connected edges out from a given node and their weights\n",
    "    nodeslist=Get_Out_Nodes(G,Node)\n",
    "    edgesdic={}\n",
    "    edge_labels=Get_Edges(G)\n",
    "    for item in nodeslist:\n",
    "        edgesdic[((Node,item))]=edge_labels[(Node,item)]\n",
    "    return edgesdic\n",
    "\n",
    "def Print_Graph(G):\n",
    "    #takes a graph and a list of red edges\n",
    "    plt.figure(figsize=(10,10))\n",
    "    pos = nx.planar_layout(G, 14)\n",
    "    nx.draw_networkx_nodes(G, pos, node_size= 10)\n",
    "    nx.draw_networkx_labels(G, pos,font_weight='bold', font_size=3)\n",
    "    edge_labels=dict([((u,v,),d['weight']) for u,v,d in G.edges(data=True)])\n",
    "    nx.draw_networkx_edge_labels(G,pos,edge_labels=edge_labels)\n",
    "    nx.draw(G,pos, with_labels=True, font_weight='bold',edge_color='black',arrowsize=10,\n",
    "            node_color='#3bd1c7', node_size=500, font_size=6, font_color='black', connectionstyle=\"arc3,rad=0.1\")\n",
    "    # plt.savefig(\"filename.png\")\n",
    "\n",
    "def construct_graph_example():\n",
    "    G1=Init_Graph(['n4','n6','n8','n10','n14'])\n",
    "    # Add_Node(G1,'jyjyry4')\n",
    "    Add_Edges(G1,[('n8','n4'),('n4','n8')],2)\n",
    "    Add_Edges(G1,[('n6','n8'),('n8','n6'), ('n6','n14'),('n14','n6')],4)\n",
    "    Add_Edges(G1,[('n8','n10'),('n10','n8')],6)\n",
    "    Add_Edges(G1,[('n8','n14'),('n14','n8')],5)\n",
    "    Add_Edges(G1,[('n6','n4'),('n4','n6')],10)\n",
    "    Add_Edges(G1,[('n4','n10'),('n10','n4')],7)\n",
    "    Print_Graph(G1)\n",
    "    print(\"The graph nodes are \", type(Get_Nodes(G1)), Get_Nodes(G1))\n",
    "    print(\"List of edges:\", type(Get_Edges(G1)),Get_Edges(G1))\n",
    "    print(\"Example of function Get_Out_Nodes with node n6\", Get_Out_Nodes(G1,'n6'))\n",
    "    print(\"Example of function Get_Out_Edges with node n6\",Get_Out_Edges(G1,'n6'))\n",
    "    return G1\n",
    "G1=construct_graph_example()"
   ]
  },
  {
   "cell_type": "code",
   "execution_count": null,
   "metadata": {},
   "outputs": [
    {
     "name": "stderr",
     "output_type": "stream",
     "text": [
      "14728.37s - pydevd: Sending message related to process being replaced timed-out after 5 seconds\n"
     ]
    },
    {
     "name": "stdout",
     "output_type": "stream",
     "text": [
      "Collecting git+https://github.com/VenkateshwaranB/stellargraph.git\n",
      "  Cloning https://github.com/VenkateshwaranB/stellargraph.git to /tmp/pip-req-build-fjzzap_p\n",
      "  Running command git clone --filter=blob:none --quiet https://github.com/VenkateshwaranB/stellargraph.git /tmp/pip-req-build-fjzzap_p\n",
      "  Resolved https://github.com/VenkateshwaranB/stellargraph.git to commit efa1f847109a4ba490e7a5105646a20ee09a3243\n",
      "  Preparing metadata (setup.py) ... \u001b[?25ldone\n",
      "\u001b[?25hRequirement already satisfied: matplotlib>=2.2 in /usr/local/lib/python3.10/dist-packages (from stellargraph==1.3.0b0) (3.8.4)\n",
      "Requirement already satisfied: networkx>=2.2 in /usr/local/lib/python3.10/dist-packages (from stellargraph==1.3.0b0) (2.8.8)\n",
      "Requirement already satisfied: numpy>=1.14 in /usr/local/lib/python3.10/dist-packages (from stellargraph==1.3.0b0) (1.26.4)\n",
      "Collecting pandas>=0.24\n",
      "  Downloading pandas-2.2.2-cp310-cp310-manylinux_2_17_x86_64.manylinux2014_x86_64.whl (13.0 MB)\n",
      "\u001b[2K     \u001b[90m━━━━━━━━━━━━━━━━━━━━━━━━━━━━━━━━━━━━━━━━\u001b[0m \u001b[32m13.0/13.0 MB\u001b[0m \u001b[31m2.2 MB/s\u001b[0m eta \u001b[36m0:00:00\u001b[0m00:01\u001b[0m00:01\u001b[0mm\n",
      "\u001b[?25hCollecting scikit_learn>=0.20\n",
      "  Downloading scikit_learn-1.4.2-cp310-cp310-manylinux_2_17_x86_64.manylinux2014_x86_64.whl (12.1 MB)\n",
      "\u001b[2K     \u001b[90m━━━━━━━━━━━━━━━━━━━━━━━━━━━━━━━━━━━━━━━━\u001b[0m \u001b[32m12.1/12.1 MB\u001b[0m \u001b[31m2.2 MB/s\u001b[0m eta \u001b[36m0:00:00\u001b[0m00:01\u001b[0m00:01\u001b[0m\n",
      "\u001b[?25hRequirement already satisfied: scipy>=1.1.0 in /usr/local/lib/python3.10/dist-packages (from stellargraph==1.3.0b0) (1.10.1)\n",
      "Requirement already satisfied: tensorflow>=2.1.0 in /usr/local/lib/python3.10/dist-packages (from stellargraph==1.3.0b0) (2.11.0)\n",
      "Requirement already satisfied: fonttools>=4.22.0 in /usr/local/lib/python3.10/dist-packages (from matplotlib>=2.2->stellargraph==1.3.0b0) (4.51.0)\n",
      "Requirement already satisfied: pillow>=8 in /usr/local/lib/python3.10/dist-packages (from matplotlib>=2.2->stellargraph==1.3.0b0) (10.3.0)\n",
      "Requirement already satisfied: contourpy>=1.0.1 in /usr/local/lib/python3.10/dist-packages (from matplotlib>=2.2->stellargraph==1.3.0b0) (1.2.1)\n",
      "Requirement already satisfied: pyparsing>=2.3.1 in /usr/local/lib/python3.10/dist-packages (from matplotlib>=2.2->stellargraph==1.3.0b0) (3.1.2)\n",
      "Requirement already satisfied: cycler>=0.10 in /usr/local/lib/python3.10/dist-packages (from matplotlib>=2.2->stellargraph==1.3.0b0) (0.12.1)\n",
      "Requirement already satisfied: packaging>=20.0 in /usr/local/lib/python3.10/dist-packages (from matplotlib>=2.2->stellargraph==1.3.0b0) (23.2)\n",
      "Requirement already satisfied: kiwisolver>=1.3.1 in /usr/local/lib/python3.10/dist-packages (from matplotlib>=2.2->stellargraph==1.3.0b0) (1.4.5)\n",
      "Requirement already satisfied: python-dateutil>=2.7 in /root/.local/lib/python3.10/site-packages (from matplotlib>=2.2->stellargraph==1.3.0b0) (2.9.0.post0)\n",
      "Collecting pytz>=2020.1\n",
      "  Downloading pytz-2024.1-py2.py3-none-any.whl (505 kB)\n",
      "\u001b[2K     \u001b[90m━━━━━━━━━━━━━━━━━━━━━━━━━━━━━━━━━━━━━━━\u001b[0m \u001b[32m505.5/505.5 KB\u001b[0m \u001b[31m1.1 MB/s\u001b[0m eta \u001b[36m0:00:00\u001b[0m00:01\u001b[0m00:01\u001b[0m\n",
      "\u001b[?25hCollecting tzdata>=2022.7\n",
      "  Downloading tzdata-2024.1-py2.py3-none-any.whl (345 kB)\n",
      "\u001b[2K     \u001b[90m━━━━━━━━━━━━━━━━━━━━━━━━━━━━━━━━━━━━━━━\u001b[0m \u001b[32m345.4/345.4 KB\u001b[0m \u001b[31m1.4 MB/s\u001b[0m eta \u001b[36m0:00:00\u001b[0m00:01\u001b[0m00:01\u001b[0m\n",
      "\u001b[?25hRequirement already satisfied: joblib>=1.2.0 in /usr/local/lib/python3.10/dist-packages (from scikit_learn>=0.20->stellargraph==1.3.0b0) (1.4.2)\n",
      "Collecting threadpoolctl>=2.0.0\n",
      "  Downloading threadpoolctl-3.5.0-py3-none-any.whl (18 kB)\n",
      "Requirement already satisfied: tensorboard<2.12,>=2.11 in /usr/local/lib/python3.10/dist-packages (from tensorflow>=2.1.0->stellargraph==1.3.0b0) (2.11.2)\n",
      "Requirement already satisfied: libclang>=13.0.0 in /usr/local/lib/python3.10/dist-packages (from tensorflow>=2.1.0->stellargraph==1.3.0b0) (18.1.1)\n",
      "Requirement already satisfied: keras<2.12,>=2.11.0 in /usr/local/lib/python3.10/dist-packages (from tensorflow>=2.1.0->stellargraph==1.3.0b0) (2.11.0)\n",
      "Requirement already satisfied: typing-extensions>=3.6.6 in /usr/local/lib/python3.10/dist-packages (from tensorflow>=2.1.0->stellargraph==1.3.0b0) (4.9.0)\n",
      "Requirement already satisfied: gast<=0.4.0,>=0.2.1 in /usr/local/lib/python3.10/dist-packages (from tensorflow>=2.1.0->stellargraph==1.3.0b0) (0.4.0)\n",
      "Requirement already satisfied: h5py>=2.9.0 in /usr/local/lib/python3.10/dist-packages (from tensorflow>=2.1.0->stellargraph==1.3.0b0) (3.11.0)\n",
      "Requirement already satisfied: setuptools in /usr/lib/python3/dist-packages (from tensorflow>=2.1.0->stellargraph==1.3.0b0) (59.6.0)\n",
      "Requirement already satisfied: protobuf<3.20,>=3.9.2 in /usr/local/lib/python3.10/dist-packages (from tensorflow>=2.1.0->stellargraph==1.3.0b0) (3.19.6)\n",
      "Requirement already satisfied: absl-py>=1.0.0 in /usr/local/lib/python3.10/dist-packages (from tensorflow>=2.1.0->stellargraph==1.3.0b0) (2.1.0)\n",
      "Requirement already satisfied: termcolor>=1.1.0 in /usr/local/lib/python3.10/dist-packages (from tensorflow>=2.1.0->stellargraph==1.3.0b0) (2.4.0)\n",
      "Requirement already satisfied: tensorflow-io-gcs-filesystem>=0.23.1 in /usr/local/lib/python3.10/dist-packages (from tensorflow>=2.1.0->stellargraph==1.3.0b0) (0.37.0)\n",
      "Requirement already satisfied: tensorflow-estimator<2.12,>=2.11.0 in /usr/local/lib/python3.10/dist-packages (from tensorflow>=2.1.0->stellargraph==1.3.0b0) (2.11.0)\n",
      "Requirement already satisfied: grpcio<2.0,>=1.24.3 in /usr/local/lib/python3.10/dist-packages (from tensorflow>=2.1.0->stellargraph==1.3.0b0) (1.63.0)\n",
      "Requirement already satisfied: flatbuffers>=2.0 in /usr/local/lib/python3.10/dist-packages (from tensorflow>=2.1.0->stellargraph==1.3.0b0) (24.3.25)\n",
      "Requirement already satisfied: wrapt>=1.11.0 in /usr/local/lib/python3.10/dist-packages (from tensorflow>=2.1.0->stellargraph==1.3.0b0) (1.16.0)\n",
      "Requirement already satisfied: google-pasta>=0.1.1 in /usr/local/lib/python3.10/dist-packages (from tensorflow>=2.1.0->stellargraph==1.3.0b0) (0.2.0)\n",
      "Requirement already satisfied: opt-einsum>=2.3.2 in /usr/local/lib/python3.10/dist-packages (from tensorflow>=2.1.0->stellargraph==1.3.0b0) (3.3.0)\n",
      "Requirement already satisfied: six>=1.12.0 in /usr/local/lib/python3.10/dist-packages (from tensorflow>=2.1.0->stellargraph==1.3.0b0) (1.14.0)\n",
      "Requirement already satisfied: astunparse>=1.6.0 in /usr/local/lib/python3.10/dist-packages (from tensorflow>=2.1.0->stellargraph==1.3.0b0) (1.6.3)\n",
      "Requirement already satisfied: wheel<1.0,>=0.23.0 in /usr/lib/python3/dist-packages (from astunparse>=1.6.0->tensorflow>=2.1.0->stellargraph==1.3.0b0) (0.37.1)\n",
      "Requirement already satisfied: google-auth-oauthlib<0.5,>=0.4.1 in /usr/local/lib/python3.10/dist-packages (from tensorboard<2.12,>=2.11->tensorflow>=2.1.0->stellargraph==1.3.0b0) (0.4.6)\n",
      "Requirement already satisfied: tensorboard-data-server<0.7.0,>=0.6.0 in /usr/local/lib/python3.10/dist-packages (from tensorboard<2.12,>=2.11->tensorflow>=2.1.0->stellargraph==1.3.0b0) (0.6.1)\n",
      "Requirement already satisfied: tensorboard-plugin-wit>=1.6.0 in /usr/local/lib/python3.10/dist-packages (from tensorboard<2.12,>=2.11->tensorflow>=2.1.0->stellargraph==1.3.0b0) (1.8.1)\n",
      "Requirement already satisfied: google-auth<3,>=1.6.3 in /usr/local/lib/python3.10/dist-packages (from tensorboard<2.12,>=2.11->tensorflow>=2.1.0->stellargraph==1.3.0b0) (2.29.0)\n",
      "Requirement already satisfied: markdown>=2.6.8 in /usr/local/lib/python3.10/dist-packages (from tensorboard<2.12,>=2.11->tensorflow>=2.1.0->stellargraph==1.3.0b0) (3.6)\n",
      "Requirement already satisfied: requests<3,>=2.21.0 in /usr/local/lib/python3.10/dist-packages (from tensorboard<2.12,>=2.11->tensorflow>=2.1.0->stellargraph==1.3.0b0) (2.31.0)\n",
      "Requirement already satisfied: werkzeug>=1.0.1 in /usr/local/lib/python3.10/dist-packages (from tensorboard<2.12,>=2.11->tensorflow>=2.1.0->stellargraph==1.3.0b0) (2.1.1)\n",
      "Requirement already satisfied: rsa<5,>=3.1.4 in /usr/local/lib/python3.10/dist-packages (from google-auth<3,>=1.6.3->tensorboard<2.12,>=2.11->tensorflow>=2.1.0->stellargraph==1.3.0b0) (4.9)\n",
      "Requirement already satisfied: cachetools<6.0,>=2.0.0 in /usr/local/lib/python3.10/dist-packages (from google-auth<3,>=1.6.3->tensorboard<2.12,>=2.11->tensorflow>=2.1.0->stellargraph==1.3.0b0) (5.3.3)\n",
      "Requirement already satisfied: pyasn1-modules>=0.2.1 in /usr/local/lib/python3.10/dist-packages (from google-auth<3,>=1.6.3->tensorboard<2.12,>=2.11->tensorflow>=2.1.0->stellargraph==1.3.0b0) (0.4.0)\n",
      "Requirement already satisfied: requests-oauthlib>=0.7.0 in /usr/local/lib/python3.10/dist-packages (from google-auth-oauthlib<0.5,>=0.4.1->tensorboard<2.12,>=2.11->tensorflow>=2.1.0->stellargraph==1.3.0b0) (2.0.0)\n",
      "Requirement already satisfied: certifi>=2017.4.17 in /usr/local/lib/python3.10/dist-packages (from requests<3,>=2.21.0->tensorboard<2.12,>=2.11->tensorflow>=2.1.0->stellargraph==1.3.0b0) (2024.2.2)\n",
      "Requirement already satisfied: idna<4,>=2.5 in /usr/local/lib/python3.10/dist-packages (from requests<3,>=2.21.0->tensorboard<2.12,>=2.11->tensorflow>=2.1.0->stellargraph==1.3.0b0) (3.6)\n",
      "Requirement already satisfied: urllib3<3,>=1.21.1 in /usr/local/lib/python3.10/dist-packages (from requests<3,>=2.21.0->tensorboard<2.12,>=2.11->tensorflow>=2.1.0->stellargraph==1.3.0b0) (2.2.1)\n",
      "Requirement already satisfied: charset-normalizer<4,>=2 in /usr/local/lib/python3.10/dist-packages (from requests<3,>=2.21.0->tensorboard<2.12,>=2.11->tensorflow>=2.1.0->stellargraph==1.3.0b0) (3.3.2)\n",
      "Requirement already satisfied: pyasn1<0.7.0,>=0.4.6 in /usr/local/lib/python3.10/dist-packages (from pyasn1-modules>=0.2.1->google-auth<3,>=1.6.3->tensorboard<2.12,>=2.11->tensorflow>=2.1.0->stellargraph==1.3.0b0) (0.6.0)\n",
      "Requirement already satisfied: oauthlib>=3.0.0 in /usr/lib/python3/dist-packages (from requests-oauthlib>=0.7.0->google-auth-oauthlib<0.5,>=0.4.1->tensorboard<2.12,>=2.11->tensorflow>=2.1.0->stellargraph==1.3.0b0) (3.2.0)\n",
      "Building wheels for collected packages: stellargraph\n",
      "  Building wheel for stellargraph (setup.py) ... \u001b[?25ldone\n",
      "\u001b[?25h  Created wheel for stellargraph: filename=stellargraph-1.3.0b0-py3-none-any.whl size=431873 sha256=e9fabaec1f8a0faec369b0788044209cfe8ee0a3b955be6d1031cd004aa756c8\n",
      "  Stored in directory: /tmp/pip-ephem-wheel-cache-ntqa3xf9/wheels/f3/06/0f/089f69af27d308a1830638f855b6c5755311d8ffc451de9980\n",
      "Successfully built stellargraph\n",
      "Installing collected packages: pytz, tzdata, threadpoolctl, scikit_learn, pandas, stellargraph\n",
      "Successfully installed pandas-2.2.2 pytz-2024.1 scikit_learn-1.4.2 stellargraph-1.3.0b0 threadpoolctl-3.5.0 tzdata-2024.1\n",
      "\u001b[33mWARNING: Running pip as the 'root' user can result in broken permissions and conflicting behaviour with the system package manager. It is recommended to use a virtual environment instead: https://pip.pypa.io/warnings/venv\u001b[0m\u001b[33m\n",
      "\u001b[0m"
     ]
    }
   ],
   "source": [
    "# !pip install git+https://github.com/VenkateshwaranB/stellargraph.git"
   ]
  },
  {
   "cell_type": "code",
   "execution_count": null,
   "metadata": {},
   "outputs": [
    {
     "name": "stderr",
     "output_type": "stream",
     "text": [
      "2024-05-06 05:00:41.622079: I tensorflow/core/platform/cpu_feature_guard.cc:193] This TensorFlow binary is optimized with oneAPI Deep Neural Network Library (oneDNN) to use the following CPU instructions in performance-critical operations:  AVX2 FMA\n",
      "To enable them in other operations, rebuild TensorFlow with the appropriate compiler flags.\n",
      "2024-05-06 05:00:43.424964: W tensorflow/compiler/xla/stream_executor/platform/default/dso_loader.cc:64] Could not load dynamic library 'libcudart.so.11.0'; dlerror: libcudart.so.11.0: cannot open shared object file: No such file or directory\n",
      "2024-05-06 05:00:43.425292: I tensorflow/compiler/xla/stream_executor/cuda/cudart_stub.cc:29] Ignore above cudart dlerror if you do not have a GPU set up on your machine.\n",
      "2024-05-06 05:00:58.151671: W tensorflow/compiler/xla/stream_executor/platform/default/dso_loader.cc:64] Could not load dynamic library 'libnvinfer.so.7'; dlerror: libnvinfer.so.7: cannot open shared object file: No such file or directory\n",
      "2024-05-06 05:00:58.153242: W tensorflow/compiler/xla/stream_executor/platform/default/dso_loader.cc:64] Could not load dynamic library 'libnvinfer_plugin.so.7'; dlerror: libnvinfer_plugin.so.7: cannot open shared object file: No such file or directory\n",
      "2024-05-06 05:00:58.153265: W tensorflow/compiler/tf2tensorrt/utils/py_utils.cc:38] TF-TRT Warning: Cannot dlopen some TensorRT libraries. If you would like to use Nvidia GPU with TensorRT, please make sure the missing libraries mentioned above are installed properly.\n",
      "2024-05-06 05:01:07.090586: W tensorflow/compiler/xla/stream_executor/platform/default/dso_loader.cc:64] Could not load dynamic library 'libcuda.so.1'; dlerror: libcuda.so.1: cannot open shared object file: No such file or directory\n",
      "2024-05-06 05:01:07.093252: W tensorflow/compiler/xla/stream_executor/cuda/cuda_driver.cc:265] failed call to cuInit: UNKNOWN ERROR (303)\n",
      "2024-05-06 05:01:07.093993: I tensorflow/compiler/xla/stream_executor/cuda/cuda_diagnostics.cc:156] kernel driver does not appear to be running on this host (omarLaptop): /proc/driver/nvidia/version does not exist\n",
      "2024-05-06 05:01:07.106800: I tensorflow/core/platform/cpu_feature_guard.cc:193] This TensorFlow binary is optimized with oneAPI Deep Neural Network Library (oneDNN) to use the following CPU instructions in performance-critical operations:  AVX2 FMA\n",
      "To enable them in other operations, rebuild TensorFlow with the appropriate compiler flags.\n"
     ]
    },
    {
     "name": "stdout",
     "output_type": "stream",
     "text": [
      "100%|██████████| 2/2 [00:05<00:00,  2.64s/it]\n"
     ]
    },
    {
     "data": {
      "text/plain": [
       "array([[-0.03356139, -0.00661832,  0.12465242, ..., -0.01132983,\n",
       "        -0.0908731 ,  0.01156453],\n",
       "       [-0.03702914, -0.0272414 ,  0.12824215, ...,  0.        ,\n",
       "         0.        ,  0.        ]])"
      ]
     },
     "execution_count": 28,
     "metadata": {},
     "output_type": "execute_result"
    }
   ],
   "source": [
    "from graph_embeddings.algorithms import StackedNode2Vec\n",
    "\n",
    "g1 = nx.DiGraph()\n",
    "g2 = nx.DiGraph()\n",
    "g1.add_edges_from([(\"A\", \"B\"), (\"B\", \"C\"), (\"C\", \"B\"), (\"B\", \"E\")])\n",
    "g2.add_edges_from([(\"A\", \"B\"), (\"B\", \"D\"), (\"D\", \"C\"), (\"C\", \"D\")])\n",
    "\n",
    "graphs = [g1, g2]\n",
    "embedding_model = StackedNode2Vec()\n",
    "embedding_model.fit(graphs)\n",
    "\n",
    "embedding_model.get_embeddings()  # ndarray with shape (2, 5, 128) - graphs, nodes, embedding_size\n",
    "embedding_model.get_dense_embeddings()  # ndarray with shape (2, 640) - graphs, nodes*embedding_size"
   ]
  },
  {
   "cell_type": "code",
   "execution_count": null,
   "metadata": {},
   "outputs": [],
   "source": [
    "def get_weight_string(string):\n",
    "    weight = 0\n",
    "    for s in string:\n",
    "        weight += ord(s)\n",
    "    return weight"
   ]
  },
  {
   "cell_type": "code",
   "execution_count": null,
   "metadata": {},
   "outputs": [],
   "source": []
  },
  {
   "cell_type": "code",
   "execution_count": null,
   "metadata": {},
   "outputs": [
    {
     "name": "stdout",
     "output_type": "stream",
     "text": [
      "[(1, 2, 0), (1, 2, 1), (1, 2, 2)]\n",
      "100%|██████████| 2/2 [00:02<00:00,  1.40s/it]\n"
     ]
    },
    {
     "data": {
      "text/plain": [
       "<graph_embeddings.algorithms.node2vec.StackedNode2Vec at 0x7fcbd9f79e10>"
      ]
     },
     "execution_count": 7,
     "metadata": {},
     "output_type": "execute_result"
    }
   ],
   "source": [
    "import networkx as nx\n",
    "from graph_embeddings.algorithms import StackedNode2Vec\n",
    "\n",
    "\n",
    "G=nx.MultiDiGraph()\n",
    "\n",
    "G1 = nx.MultiDiGraph()\n",
    "G1.add_edge(1,2,weight=1)\n",
    "\n",
    "G.add_edge(1,2,weight=1)\n",
    "G.add_edge(1,2,weight=2)\n",
    "G.add_edge(1,2,weight=3)\n",
    "# G.add_edge(2,3,weight=0)\n",
    "# G.add_edge(2,3,weight=1)\n",
    "# G.add_edge(2,3,weight=2)\n",
    "# G.add_edge(3,4,weight=0)\n",
    "# G.add_edge(3,5,weight=1)\n",
    "# G.add_edge(3,6,weight=2)\n",
    "# G.add_edges_from([(4, 5, dict(weight=282)), (4, 5, dict(weight=37))])\n",
    "# Print_Graph(G)\n",
    "print(G.edges)\n",
    "# print(\"All edges with key 2:\",\n",
    "#       [(i, j, k)   for i, j, k in G.edges if k == 2])\n",
    "# print(\"All nodes connected to edges with key 2:\",\n",
    "#       set( [n for i, j, k in G.edges if k == 2  for n in [i, j]] ))\n",
    "# Get_Edges(G)\n",
    "\n",
    "graphs = [G, G]\n",
    "embedding_model = StackedNode2Vec()\n",
    "embedding_model.fit(graphs)\n",
    "\n",
    "#For Example:\n",
    "#edges with key=2\n",
    "#(1,2)\n",
    "#(2,3)\n",
    "#(3,6)\n",
    "#Nodes linked to edges with key=2\n",
    "#1,2,3,6\n"
   ]
  },
  {
   "cell_type": "code",
   "execution_count": null,
   "metadata": {},
   "outputs": [
    {
     "name": "stdout",
     "output_type": "stream",
     "text": [
      "  0%|          | 0/1 [00:00<?, ?it/s]"
     ]
    },
    {
     "name": "stdout",
     "output_type": "stream",
     "text": [
      "100%|██████████| 1/1 [00:00<00:00,  1.66it/s]\n",
      "100%|██████████| 1/1 [00:00<00:00,  1.87it/s]\n"
     ]
    }
   ],
   "source": [
    "G3 = embedding_model.fit([G])\n",
    "G4 = embedding_model.fit([G1])"
   ]
  },
  {
   "cell_type": "code",
   "execution_count": null,
   "metadata": {},
   "outputs": [
    {
     "name": "stdout",
     "output_type": "stream",
     "text": [
      "1\n"
     ]
    }
   ],
   "source": [
    "print(len(G4.get_embeddings()))"
   ]
  },
  {
   "cell_type": "code",
   "execution_count": null,
   "metadata": {},
   "outputs": [
    {
     "name": "stdout",
     "output_type": "stream",
     "text": [
      "[0.]\n"
     ]
    }
   ],
   "source": [
    "distance = np.linalg.norm(G1.get_dense_embeddings() - G2.get_dense_embeddings(), axis=1)\n",
    "print(distance)"
   ]
  },
  {
   "cell_type": "code",
   "execution_count": null,
   "metadata": {},
   "outputs": [
    {
     "data": {
      "text/plain": [
       "512"
      ]
     },
     "execution_count": 9,
     "metadata": {},
     "output_type": "execute_result"
    }
   ],
   "source": [
    "np.size(embedding_model.get_dense_embeddings())"
   ]
  },
  {
   "cell_type": "code",
   "execution_count": null,
   "metadata": {},
   "outputs": [
    {
     "data": {
      "text/plain": [
       "(2, 256)"
      ]
     },
     "execution_count": 8,
     "metadata": {},
     "output_type": "execute_result"
    }
   ],
   "source": [
    "np.shape(embedding_model.get_dense_embeddings())"
   ]
  },
  {
   "cell_type": "code",
   "execution_count": null,
   "metadata": {},
   "outputs": [
    {
     "name": "stdout",
     "output_type": "stream",
     "text": [
      "[0. 0.]\n"
     ]
    }
   ],
   "source": [
    "import numpy as np\n",
    "\n",
    "# centroids = np.array([[3,44],[5,15]])\n",
    "# dataPoints = np.array([[2,4],[17,4],[45,2],[45,7],[16,32],[32,14],[20,56],[68,33]])\n",
    "e = embedding_model.get_dense_embeddings()\n",
    "distance = np.linalg.norm(e - np.array(e), axis=1)\n",
    "print(distance)\n",
    "# def size(vector):\n",
    "#     return np.sqrt(sum(x**2 for x in vector))\n",
    "\n",
    "# def distance(vector1, vector2):\n",
    "#     return size(vector1 - vector2)\n",
    "\n",
    "# def distances(array1, array2):\n",
    "#     return [distance(vector1, vector2) for vector2 in array2 for vector1 in array1]\n",
    "\n",
    "# print(distances(e, e))"
   ]
  },
  {
   "cell_type": "code",
   "execution_count": null,
   "metadata": {},
   "outputs": [
    {
     "name": "stdout",
     "output_type": "stream",
     "text": [
      "Delete boolean_operator {'weight': 'boolean_operator'}\n",
      "Delete and {'weight': 'boolean_operator'}\n",
      "Delete identifier {'weight': 'boolean_operator'}\n",
      "Delete or {'weight': 'boolean_operator'}\n",
      "Delete unary_operator {'weight': 'boolean_operator'}\n",
      "Insert boolean_operator {'weight': \"'or'\"}\n",
      "Insert boolean_operator {'weight': \"'- 1'\"}\n",
      "Insert not_operator {'weight': \"'not'\"}\n"
     ]
    },
    {
     "data": {
      "text/plain": [
       "{('Delete', 'boolean_operator'): 'boolean_operator',\n",
       " ('Delete', 'and'): 'boolean_operator',\n",
       " ('Delete', 'identifier'): 'boolean_operator',\n",
       " ('Delete', 'or'): 'boolean_operator',\n",
       " ('Delete', 'unary_operator'): 'boolean_operator',\n",
       " ('Insert', 'boolean_operator'): \"'- 1'\",\n",
       " ('Insert', 'not_operator'): \"'not'\"}"
      ]
     },
     "execution_count": 26,
     "metadata": {},
     "output_type": "execute_result"
    },
    {
     "data": {
      "image/png": "[encoded data removed]",
      "text/plain": [
       "<Figure size 1000x1000 with 1 Axes>"
      ]
     },
     "metadata": {},
     "output_type": "display_data"
    }
   ],
   "source": [
    "import re\n",
    "# print(actions)\n",
    "def get_within_square_brackets(text):\n",
    "    pattern = r'\\[(.*?)\\]'\n",
    "    matches = re.findall(pattern, text)\n",
    "    return matches\n",
    "\n",
    "G1 = Init_Graph([])\n",
    "for action in actions:\n",
    "    singleEdit = get_within_square_brackets(action[1][0])\n",
    "    # print(singleEdit)\n",
    "    executedAction = singleEdit[0]\n",
    "    G1.add_node(singleEdit[0])\n",
    "\n",
    "    if (executedAction == 'Insert'):\n",
    "        \n",
    "        G1.add_node(singleEdit[1])\n",
    "        G1.add_edge(singleEdit[0], singleEdit[1], weight=singleEdit[2])\n",
    "        # G1.add_node(singleEdit[3])\n",
    "        # Add_Edges(G1, [(singleEdit[0], singleEdit[1])], singleEdit[2])\n",
    "    elif (executedAction == 'Delete'):\n",
    "        G1.add_node(singleEdit[2])\n",
    "        G1.add_edge(singleEdit[0], singleEdit[1], weight=singleEdit[2])\n",
    "        # G1.add_node(singleEdit[3])\n",
    "        # Add_Edges(G1, [(singleEdit[0], singleEdit[2])], singleEdit[1])\n",
    "    elif (executedAction == 'Update'):\n",
    "        G1.add_node(singleEdit[2])\n",
    "        # G1.add_node(singleEdit[3])\n",
    "        G1.add_edge(singleEdit[0], singleEdit[2], singleEdit[1])\n",
    "\n",
    "# pos=nx.spring_layout(G1,seed=5)\n",
    "Print_Graph(G1)\n",
    "Get_Edges(G1)\n"
   ]
  },
  {
   "cell_type": "markdown",
   "metadata": {},
   "source": [
    "# Bleu"
   ]
  },
  {
   "cell_type": "code",
   "execution_count": null,
   "metadata": {},
   "outputs": [
    {
     "ename": "ModuleNotFoundError",
     "evalue": "No module named 'nltk'",
     "output_type": "error",
     "traceback": [
      "\u001b[0;31m---------------------------------------------------------------------------\u001b[0m",
      "\u001b[0;31mModuleNotFoundError\u001b[0m                       Traceback (most recent call last)",
      "Cell \u001b[0;32mIn[24], line 1\u001b[0m\n\u001b[0;32m----> 1\u001b[0m \u001b[38;5;28;01mfrom\u001b[39;00m \u001b[38;5;21;01mnltk\u001b[39;00m\u001b[38;5;21;01m.\u001b[39;00m\u001b[38;5;21;01mtranslate\u001b[39;00m\u001b[38;5;21;01m.\u001b[39;00m\u001b[38;5;21;01mbleu_score\u001b[39;00m \u001b[38;5;28;01mimport\u001b[39;00m sentence_bleu\n\u001b[1;32m      2\u001b[0m reference \u001b[38;5;241m=\u001b[39m data[\u001b[38;5;241m111\u001b[39m][\u001b[38;5;124m\"\u001b[39m\u001b[38;5;124mbefore\u001b[39m\u001b[38;5;124m\"\u001b[39m]\u001b[38;5;241m.\u001b[39msplit()\n\u001b[1;32m      3\u001b[0m \u001b[38;5;66;03m# reference = [['this', 'is', 'a', 'test'], ['this', 'is' 'test']]\u001b[39;00m\n\u001b[1;32m      4\u001b[0m \u001b[38;5;66;03m# candidate = ['this', 'is', 'a', 'gteet']\u001b[39;00m\n",
      "\u001b[0;31mModuleNotFoundError\u001b[0m: No module named 'nltk'"
     ]
    }
   ],
   "source": [
    "# from nltk.translate.bleu_score import sentence_bleu\n",
    "# reference = data[111][\"before\"].split()\n",
    "# # reference = [['this', 'is', 'a', 'test'], ['this', 'is' 'test']]\n",
    "# # candidate = ['this', 'is', 'a', 'gteet']\n",
    "# candidate = data[111][\"after\"].split()\n",
    "# score = sentence_bleu(reference, candidate, weights= [1])\n",
    "# print(score)"
   ]
  },
  {
   "cell_type": "code",
   "execution_count": null,
   "metadata": {},
   "outputs": [
    {
     "name": "stdout",
     "output_type": "stream",
     "text": [
      "except\n",
      "not\n",
      "for\n"
     ]
    }
   ],
   "source": [
    "# from keyword import iskeyword\n",
    "# string_test = \"except XMPPError : log . debug ( 'Could not retrieve vCard for %s' % jid )\"\n",
    "\n",
    "# keyword_index = 0\n",
    "# attribute_index = 0\n",
    "\n",
    "# splitted = string_test.split()\n",
    "# for i, s in enumerate(splitted):\n",
    "#     if iskeyword(s):\n",
    "#         splitted[i]\n",
    "#         print(s)"
   ]
  },
  {
   "cell_type": "code",
   "execution_count": null,
   "metadata": {},
   "outputs": [
    {
     "name": "stdout",
     "output_type": "stream",
     "text": [
      "['except', 'XMPPError', ':', 'log', '.', 'debug', '(', \"'Could\", 'not', 'retrieve', 'vCard', 'for', '%', 's', \"'\", '%', 'jid', ')']\n"
     ]
    }
   ],
   "source": [
    "# import code_tokenize as ctok\n",
    "# # from tokenizer import tokenize\n",
    "# from nltk.tokenize import word_tokenize  \n",
    "# tok = word_tokenize(string_test)\n",
    "# # res = tokenize(string_test)\n",
    "# # res2 = []\n",
    "# # for r in res:\n",
    "# #     print(r.txt)\n",
    "# #     res2.append(r)\n",
    "# # res3 = \" \".join(res2)\n",
    "# res = \" \".join(tok)\n",
    "# print(tok)"
   ]
  },
  {
   "cell_type": "code",
   "execution_count": null,
   "metadata": {},
   "outputs": [
    {
     "name": "stdout",
     "output_type": "stream",
     "text": [
      "2\n"
     ]
    }
   ],
   "source": [
    "from inspect import currentframe, getframeinfo\n",
    "frameinfo = getframeinfo(currentframe()); locals()['a7a'] = (frameinfo.lineno); print(locals())\n",
    "print((locals()['a7a']))"
   ]
  },
  {
   "cell_type": "code",
   "execution_count": null,
   "metadata": {},
   "outputs": [
    {
     "name": "stdout",
     "output_type": "stream",
     "text": [
      "2\n"
     ]
    }
   ],
   "source": [
    "print(locals()['a7a'].lineno)"
   ]
  }
 ],
 "metadata": {
  "kernelspec": {
   "display_name": "Python 3",
   "language": "python",
   "name": "python3"
  },
  "language_info": {
   "codemirror_mode": {
    "name": "ipython",
    "version": 3
   },
   "file_extension": ".py",
   "mimetype": "text/x-python",
   "name": "python",
   "nbconvert_exporter": "python",
   "pygments_lexer": "ipython3",
   "version": "3.11.0rc1"
  }
 },
 "nbformat": 4,
 "nbformat_minor": 2
}
