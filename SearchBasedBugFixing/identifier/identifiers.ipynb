{
 "cells": [
  {
   "cell_type": "code",
   "execution_count": 14,
   "metadata": {},
   "outputs": [
    {
     "name": "stdout",
     "output_type": "stream",
     "text": [
      "{'rs', 'a', 'y', 'x'}\n",
      "{3: 0, 5: 0, 6: 0, 7: 0, 9: 0, 10: 0}\n"
     ]
    }
   ],
   "source": [
    "# test getting the identifiers of all the functions in a file\n",
    "import ast\n",
    "\n",
    "fn = \"\"\"\n",
    "def b(rs):\n",
    "    return rs\n",
    "def foo():\n",
    "    a = []\n",
    "    x = 1\n",
    "    y = 2\n",
    "    b(x)\n",
    "    a.append(x)\n",
    "    return x + y\n",
    "\n",
    "\"\"\"\n",
    "def parentify(tree):\n",
    "    tree.parent = None\n",
    "    for node in ast.walk(tree):\n",
    "        for child in ast.iter_child_nodes(node):\n",
    "            child.parent = node\n",
    "\n",
    "\n",
    "\n",
    "class IdentifierVisitor(ast.NodeVisitor):\n",
    "    def __init__(self):\n",
    "        # self.assignmentIdentifiers = set()\n",
    "        # self.unknownIdentifiers = set()\n",
    "        # self.unknownIdentifiersOccurences = dict()\n",
    "\n",
    "        self.functionIdentifiers = set()\n",
    "        self.identifiers = set()\n",
    "\n",
    "        self.identifiersOccurences = dict()\n",
    "        self.functionIdentifiersOccurences = dict()\n",
    "\n",
    "\n",
    "    def visit_Name(self, node):\n",
    "        # print(node.lineno)\n",
    "        if isinstance(node.parent, ast.Call):\n",
    "            self.functionIdentifiers.add(node.id)\n",
    "            if not self.functionIdentifiersOccurences.get(node.lineno):\n",
    "                self.functionIdentifiersOccurences[node.lineno] = 0\n",
    "            else:\n",
    "                self.functionIdentifiersOccurences[node.lineno] += 1\n",
    "        else:\n",
    "            # self.unknownIdentifiers.add(node.id)\n",
    "            if not self.identifiersOccurences.get(node.lineno):\n",
    "                self.identifiersOccurences[node.lineno] = 0\n",
    "            else:\n",
    "                self.identifiersOccurences[node.lineno] += 1\n",
    "            self.identifiers.add(node.id)\n",
    "\n",
    "    def get_identifiers(self):\n",
    "        return self.identifiers\n",
    "    \n",
    "    def get_function_identifiers(self):\n",
    "        return self.functionIdentifiers\n",
    "    \n",
    "    def get_identifiers_occurences(self):\n",
    "        return self.identifiersOccurences\n",
    "    \n",
    "    def get_function_identifiers_occurences(self):\n",
    "        return self.functionIdentifiersOccurences\n",
    "\n",
    "tree = ast.parse(fn)\n",
    "parentify(tree)\n",
    "visitor = IdentifierVisitor()\n",
    "visitor.visit(tree)\n",
    "print(visitor.get_identifiers())\n",
    "print(visitor.get_identifiers_occurences())"
   ]
  },
  {
   "cell_type": "code",
   "execution_count": 1,
   "metadata": {},
   "outputs": [
    {
     "name": "stdout",
     "output_type": "stream",
     "text": [
      "def return_list_1_to_10_except_5():\n",
      "    lst = []i\n",
      "    for i in range(1, 11):\n",
      "        lst.append(i)\n",
      "    return lst\n"
     ]
    }
   ],
   "source": [
    "print('def return_list_1_to_10_except_5():\\n    lst = []i\\n    for i in range(1, 11):\\n        lst.append(i)\\n    return lst')"
   ]
  },
  {
   "cell_type": "code",
   "execution_count": 2,
   "metadata": {},
   "outputs": [
    {
     "name": "stdout",
     "output_type": "stream",
     "text": [
      "def return_list_1_to_10_except_5():\n",
      "    lst = []\n",
      "    for i in range(1, 11):\n",
      "        if i == 5:i\n",
      "            break\n",
      "        lst.append(i)\n",
      "    return lst\n"
     ]
    }
   ],
   "source": [
    "print('def return_list_1_to_10_except_5():\\n    lst = []\\n    for i in range(1, 11):\\n        if i == 5:i\\n            break\\n        lst.append(i)\\n    return lst')"
   ]
  },
  {
   "cell_type": "code",
   "execution_count": 4,
   "metadata": {},
   "outputs": [
    {
     "name": "stdout",
     "output_type": "stream",
     "text": [
      "Module(\n",
      "    body=[\n",
      "        FunctionDef(\n",
      "            name='return_list_1_to_10_except_5',\n",
      "            args=arguments(\n",
      "                posonlyargs=[],\n",
      "                args=[],\n",
      "                kwonlyargs=[],\n",
      "                kw_defaults=[],\n",
      "                defaults=[]),\n",
      "            body=[\n",
      "                Assign(\n",
      "                    targets=[\n",
      "                        Name(id='lst', ctx=Store())],\n",
      "                    value=List(elts=[], ctx=Load())),\n",
      "                For(\n",
      "                    target=Name(id='i', ctx=Store()),\n",
      "                    iter=Call(\n",
      "                        func=Name(id='range', ctx=Load()),\n",
      "                        args=[\n",
      "                            Constant(value=1),\n",
      "                            Constant(value=11)],\n",
      "                        keywords=[]),\n",
      "                    body=[\n",
      "                        If(\n",
      "                            test=Compare(\n",
      "                                left=Name(id='i', ctx=Load()),\n",
      "                                ops=[\n",
      "                                    Eq()],\n",
      "                                comparators=[\n",
      "                                    Constant(value=5)]),\n",
      "                            body=[\n",
      "                                Break()],\n",
      "                            orelse=[]),\n",
      "                        Expr(\n",
      "                            value=Call(\n",
      "                                func=Attribute(\n",
      "                                    value=Name(id='lst', ctx=Load()),\n",
      "                                    attr='append',\n",
      "                                    ctx=Load()),\n",
      "                                args=[\n",
      "                                    Name(id='i', ctx=Load())],\n",
      "                                keywords=[]))],\n",
      "                    orelse=[]),\n",
      "                Return(\n",
      "                    value=Name(id='lst', ctx=Load()))],\n",
      "            decorator_list=[])],\n",
      "    type_ignores=[])\n"
     ]
    }
   ],
   "source": [
    "import ast\n",
    "cand = \"\"\"\n",
    "def return_list_1_to_10_except_5():\n",
    "    lst = []\n",
    "    for i in range(1, 11):\n",
    "        if i == 5:\n",
    "            break\n",
    "        lst.append(i)\n",
    "    return lst\"\"\"\n",
    "\n",
    "print(ast.dump(ast.parse(cand), indent=4)) # this is how to dump the ast tree"
   ]
  },
  {
   "cell_type": "code",
   "execution_count": null,
   "metadata": {},
   "outputs": [],
   "source": []
  },
  {
   "cell_type": "code",
   "execution_count": 8,
   "metadata": {},
   "outputs": [
    {
     "ename": "FileNotFoundError",
     "evalue": "[Errno 2] No such file or directory: 'FauxPyReport_Q-A_sbfl_statement_2024_04_28_22_54_49_084332\\\\Scores_Tarantula.csv'",
     "output_type": "error",
     "traceback": [
      "\u001b[0;31m---------------------------------------------------------------------------\u001b[0m",
      "\u001b[0;31mFileNotFoundError\u001b[0m                         Traceback (most recent call last)",
      "Cell \u001b[0;32mIn[8], line 7\u001b[0m\n\u001b[1;32m      4\u001b[0m lines \u001b[38;5;241m=\u001b[39m []\n\u001b[1;32m      5\u001b[0m scores \u001b[38;5;241m=\u001b[39m []\n\u001b[0;32m----> 7\u001b[0m \u001b[38;5;28;01mwith\u001b[39;00m \u001b[38;5;28;43mopen\u001b[39;49m\u001b[43m(\u001b[49m\u001b[43mfilename\u001b[49m\u001b[43m,\u001b[49m\u001b[43m \u001b[49m\u001b[38;5;124;43m'\u001b[39;49m\u001b[38;5;124;43mr\u001b[39;49m\u001b[38;5;124;43m'\u001b[39;49m\u001b[43m)\u001b[49m \u001b[38;5;28;01mas\u001b[39;00m file:\n\u001b[1;32m      8\u001b[0m     reader \u001b[38;5;241m=\u001b[39m csv\u001b[38;5;241m.\u001b[39mreader(file)\n\u001b[1;32m      9\u001b[0m     \u001b[38;5;28mnext\u001b[39m(reader)  \u001b[38;5;66;03m# Skip the header row\u001b[39;00m\n",
      "File \u001b[0;32m~/.local/lib/python3.10/site-packages/IPython/core/interactiveshell.py:324\u001b[0m, in \u001b[0;36m_modified_open\u001b[0;34m(file, *args, **kwargs)\u001b[0m\n\u001b[1;32m    317\u001b[0m \u001b[38;5;28;01mif\u001b[39;00m file \u001b[38;5;129;01min\u001b[39;00m {\u001b[38;5;241m0\u001b[39m, \u001b[38;5;241m1\u001b[39m, \u001b[38;5;241m2\u001b[39m}:\n\u001b[1;32m    318\u001b[0m     \u001b[38;5;28;01mraise\u001b[39;00m \u001b[38;5;167;01mValueError\u001b[39;00m(\n\u001b[1;32m    319\u001b[0m         \u001b[38;5;124mf\u001b[39m\u001b[38;5;124m\"\u001b[39m\u001b[38;5;124mIPython won\u001b[39m\u001b[38;5;124m'\u001b[39m\u001b[38;5;124mt let you open fd=\u001b[39m\u001b[38;5;132;01m{\u001b[39;00mfile\u001b[38;5;132;01m}\u001b[39;00m\u001b[38;5;124m by default \u001b[39m\u001b[38;5;124m\"\u001b[39m\n\u001b[1;32m    320\u001b[0m         \u001b[38;5;124m\"\u001b[39m\u001b[38;5;124mas it is likely to crash IPython. If you know what you are doing, \u001b[39m\u001b[38;5;124m\"\u001b[39m\n\u001b[1;32m    321\u001b[0m         \u001b[38;5;124m\"\u001b[39m\u001b[38;5;124myou can use builtins\u001b[39m\u001b[38;5;124m'\u001b[39m\u001b[38;5;124m open.\u001b[39m\u001b[38;5;124m\"\u001b[39m\n\u001b[1;32m    322\u001b[0m     )\n\u001b[0;32m--> 324\u001b[0m \u001b[38;5;28;01mreturn\u001b[39;00m \u001b[43mio_open\u001b[49m\u001b[43m(\u001b[49m\u001b[43mfile\u001b[49m\u001b[43m,\u001b[49m\u001b[43m \u001b[49m\u001b[38;5;241;43m*\u001b[39;49m\u001b[43margs\u001b[49m\u001b[43m,\u001b[49m\u001b[43m \u001b[49m\u001b[38;5;241;43m*\u001b[39;49m\u001b[38;5;241;43m*\u001b[39;49m\u001b[43mkwargs\u001b[49m\u001b[43m)\u001b[49m\n",
      "\u001b[0;31mFileNotFoundError\u001b[0m: [Errno 2] No such file or directory: 'FauxPyReport_Q-A_sbfl_statement_2024_04_28_22_54_49_084332\\\\Scores_Tarantula.csv'"
     ]
    }
   ],
   "source": [
    "import csv\n",
    "\n",
    "filename = 'FauxPyReport_Q-A_sbfl_statement_2024_04_28_22_54_49_084332\\Scores_Tarantula.csv'\n",
    "lines = []\n",
    "scores = []\n",
    "\n",
    "with open(filename, 'r') as file:\n",
    "    reader = csv.reader(file)\n",
    "    next(reader)  # Skip the header row\n",
    "    for row in reader:\n",
    "        if len(row) >= 2:\n",
    "            # get only the line number \n",
    "            lineno = row[0].split('::')[1]\n",
    "            lines.append(lineno)\n",
    "            scores.append(row[1])\n",
    "\n",
    "print(lines)\n",
    "print(scores)\n"
   ]
  },
  {
   "cell_type": "code",
   "execution_count": null,
   "metadata": {},
   "outputs": [
    {
     "name": "stdout",
     "output_type": "stream",
     "text": [
      "No folder starting with 'FauxPy' found.\n"
     ]
    }
   ],
   "source": [
    "import os\n",
    "import shutil\n",
    "\n",
    "folder_path = '.'\n",
    "\n",
    "# Get a list of all folders in the directory\n",
    "folders = [f for f in os.listdir(folder_path) if os.path.isdir(os.path.join(folder_path, f))]\n",
    "\n",
    "# Find the folder that starts with 'FauxPy'\n",
    "fauxpy_folder = next((f for f in folders if f.startswith('FauxPy')), None)\n",
    "\n",
    "# Delete the folder if it exists\n",
    "if fauxpy_folder:\n",
    "    shutil.rmtree(os.path.join(folder_path, fauxpy_folder))\n",
    "    print(f\"The folder '{fauxpy_folder}' has been deleted.\")\n",
    "else:\n",
    "    print(\"No folder starting with 'FauxPy' found.\")\n"
   ]
  },
  {
   "cell_type": "code",
   "execution_count": null,
   "metadata": {},
   "outputs": [
    {
     "name": "stdout",
     "output_type": "stream",
     "text": [
      "The directory 'testcases/FaultLocalization' already exists.\n"
     ]
    }
   ],
   "source": [
    "import os\n",
    "\n",
    "def create_directory(directory_path):\n",
    "    if not os.path.exists(directory_path):\n",
    "        os.makedirs(directory_path)\n",
    "        print(f\"The directory '{directory_path}' has been created.\")\n",
    "    else:\n",
    "        print(f\"The directory '{directory_path}' already exists.\")\n",
    "\n",
    "# Example usage:\n",
    "directory_path = 'testcases/FaultLocalization'\n",
    "create_directory(directory_path)\n",
    "\n",
    "# directory_path = 'O:\\DriveFiles\\GP_Projects\\Bug-Repair\\Q-A\\MyMutpy/testcases/src'\n",
    "# create_directory(directory_path)\n"
   ]
  },
  {
   "cell_type": "code",
   "execution_count": null,
   "metadata": {},
   "outputs": [
    {
     "name": "stdout",
     "output_type": "stream",
     "text": [
      "File '1.txt' copied from 'O:\\DriveFiles\\GP_Projects\\Bug-Repair\\Q-A\\MyMutpy/testcases\\BuggyPrograms' to 'O:\\DriveFiles\\GP_Projects\\Bug-Repair\\Q-A\\MyMutpy/testcases/FaultLocalization'.\n"
     ]
    }
   ],
   "source": [
    "import shutil\n",
    "file_id = 1\n",
    "\n",
    "source_folder = f'testcases\\BuggyPrograms'\n",
    "destination_folder = f'{directory_path}'\n",
    "file_name = f'{file_id}.txt'\n",
    "\n",
    "# Construct the source and destination file paths\n",
    "source_file_path = f'{source_folder}/{file_name}'\n",
    "destination_file_path = f'{destination_folder}/source_code.py'\n",
    "\n",
    "# Copy the file from the source folder to the destination folder\n",
    "shutil.copy(source_file_path, destination_file_path)\n",
    "\n",
    "print(f\"File '{file_name}' copied from '{source_folder}' to '{destination_folder}'.\")\n",
    "\n",
    "source_file_path = destination_file_path"
   ]
  },
  {
   "cell_type": "code",
   "execution_count": null,
   "metadata": {},
   "outputs": [
    {
     "name": "stdout",
     "output_type": "stream",
     "text": [
      "from src import *\n",
      "\n",
      "def test_0():\n",
      "    pass\n",
      "    inputs = (1, 2)\n",
      "    assert add(*inputs) == 3\n",
      "\n",
      "def test_1():\n",
      "    pass\n",
      "    inputs = (3, 4)\n",
      "    assert add(*inputs) == 7\n",
      "\n",
      "def test_2():\n",
      "    pass\n",
      "    inputs = (5, 6)\n",
      "    assert add(*inputs) == 11\n"
     ]
    }
   ],
   "source": [
    "pytest_file = \"\"\n",
    "\n",
    "module_ast = ast.parse(pytest_file)\n",
    "import_str = \"from src import *\"\n",
    "import_node = ast.parse(import_str).body[0]\n",
    "\n",
    "# Add the import statement to the beginning of the AST\n",
    "module_ast.body.insert(0, import_node)\n",
    "\n",
    "inputs = [[1, 2], [3, 4], [5, 6]]\n",
    "outputs = [3, 7, 11]\n",
    "function_name = \"add\"\n",
    "# function ast\n",
    "for i in range(0, 3):\n",
    "    fn = f\"\"\"def test_{i}(): pass\"\"\"\n",
    "    fn_ast = ast.parse(fn).body[0]\n",
    "    input_str = f\"inputs = \"\n",
    "    assert_str = f\"assert \"\n",
    "    input_curr = inputs[i]\n",
    "    for input in input_curr:\n",
    "        if (input == inputs[-1]):\n",
    "            input_str += f\"{input}\"\n",
    "        else:\n",
    "            input_str += f\"{input},\"\n",
    "        # input_node = ast.parse(input_str).body[0]\n",
    "    assert_str += f\"{function_name}(*inputs) == {outputs[i]}\"\n",
    "    input_node = ast.parse(input_str).body[0]\n",
    "    assert_node = ast.parse(assert_str).body[0]\n",
    "    # fn_ast.body.pop()\n",
    "\n",
    "    fn_ast.body.append(input_node)\n",
    "    fn_ast.body.append(assert_node)\n",
    "    # print(ast.unparse(module_ast))\n",
    "\n",
    "    module_ast.body.append(fn_ast)\n",
    "\n",
    "print(ast.unparse(module_ast))\n",
    "# print(ast.dump(module_ast, indent=4))"
   ]
  },
  {
   "cell_type": "code",
   "execution_count": null,
   "metadata": {},
   "outputs": [
    {
     "name": "stdout",
     "output_type": "stream",
     "text": [
      "5\n"
     ]
    }
   ],
   "source": [
    "import random\n",
    "maxRand = 100\n",
    "k = 0\n",
    "for i in range(0, 50):\n",
    "    prob = random.randint(1, maxRand) / maxRand\n",
    "    if (prob > 0.9):  # Do not forget weights\n",
    "        k += 1\n",
    "print(k)"
   ]
  },
  {
   "cell_type": "code",
   "execution_count": null,
   "metadata": {},
   "outputs": [
    {
     "data": {
      "text/plain": [
       "CompletedProcess(args=['python', '-m', 'pytest', 'O:\\\\DriveFiles\\\\GP_Projects\\\\Bug-Repair\\\\Q-A\\\\MyMutpy/testcases\\\\GeneratedTests/test.py', '--src', 'O:\\\\DriveFiles\\\\GP_Projects\\\\Bug-Repair\\\\Q-A\\\\MyMutpy/testcases\\\\GeneratedTests/source_code.py', '--family', 'sbfl', '--granularity', 'statement', '--top-n', '25'], returncode=1, stderr=b'')"
      ]
     },
     "execution_count": 2,
     "metadata": {},
     "output_type": "execute_result"
    }
   ],
   "source": [
    "import subprocess\n",
    "from subprocess import PIPE\n",
    "test_path = \"testcases\\GeneratedTests/test.py\"\n",
    "src_path = \"testcases\\GeneratedTests/source_code.py\"\n",
    "# python -m pytest .\\MyMutpy\\FaultLocalization\\test\\test_1.py   --src .\\MyMutpy\\FaultLocalization\\test\\src.py  --family sbfl  --granularity statement --top-n 14\n",
    "subprocess.run([\"python\", \"-m\", \"pytest\", f\"{test_path}\", \"--src\", f\"{src_path}\", \"--family\", \"sbfl\", \"--granularity\", \"statement\", \"--top-n\" , \"25\"], stderr=subprocess.PIPE)"
   ]
  },
  {
   "cell_type": "code",
   "execution_count": null,
   "metadata": {},
   "outputs": [],
   "source": [
    "import faultLocalizationUtils\n",
    "import subprocess\n",
    "from subprocess import PIPE\n",
    "\n",
    "destinationLocalizationPath = 'testcases/GeneratedTests'\n",
    "destination_folder = destinationLocalizationPath\n",
    "\n",
    "\n",
    "test_path = f'{destination_folder}/test.py'\n",
    "src_path = f'{destination_folder}/source_code.py'\n",
    "# faultLocalizationUtils.runFaultLocalization(test_path, src_path)\n",
    "lr = [\"python\", \"-m\", \"pytest\", f\"{test_path}\", \"--src\", f\"{src_path}\", \"--family\", \"sbfl\", \"--granularity\", \"statement\", \"--top-n\" , \"25\"]\n",
    "# final = \"\"\n",
    "# for l in lr:\n",
    "#     final += l + \" \"\n",
    "# print(final)\n",
    "r = subprocess.run([\"python\", \"-m\", \"pytest\", f\"{test_path}\", \"--src\", f\"{src_path}\", \"--family\", \"sbfl\", \"--granularity\", \"statement\", \"--top-n\" , \"25\"], stderr=subprocess.PIPE)"
   ]
  },
  {
   "cell_type": "code",
   "execution_count": 4,
   "metadata": {},
   "outputs": [
    {
     "ename": "FileNotFoundError",
     "evalue": "[WinError 2] The system cannot find the file specified",
     "output_type": "error",
     "traceback": [
      "\u001b[1;31m---------------------------------------------------------------------------\u001b[0m",
      "\u001b[1;31mFileNotFoundError\u001b[0m                         Traceback (most recent call last)",
      "Cell \u001b[1;32mIn[4], line 1\u001b[0m\n\u001b[1;32m----> 1\u001b[0m \u001b[43msubprocess\u001b[49m\u001b[38;5;241;43m.\u001b[39;49m\u001b[43mrun\u001b[49m\u001b[43m(\u001b[49m\u001b[38;5;124;43m\"\u001b[39;49m\u001b[38;5;124;43mpwd\u001b[39;49m\u001b[38;5;124;43m\"\u001b[39;49m\u001b[43m,\u001b[49m\u001b[43m \u001b[49m\u001b[43mstderr\u001b[49m\u001b[38;5;241;43m=\u001b[39;49m\u001b[43msubprocess\u001b[49m\u001b[38;5;241;43m.\u001b[39;49m\u001b[43mPIPE\u001b[49m\u001b[43m)\u001b[49m\n",
      "File \u001b[1;32mc:\\Users\\moga\\AppData\\Local\\Programs\\Python\\Python310\\lib\\subprocess.py:503\u001b[0m, in \u001b[0;36mrun\u001b[1;34m(input, capture_output, timeout, check, *popenargs, **kwargs)\u001b[0m\n\u001b[0;32m    500\u001b[0m     kwargs[\u001b[38;5;124m'\u001b[39m\u001b[38;5;124mstdout\u001b[39m\u001b[38;5;124m'\u001b[39m] \u001b[38;5;241m=\u001b[39m PIPE\n\u001b[0;32m    501\u001b[0m     kwargs[\u001b[38;5;124m'\u001b[39m\u001b[38;5;124mstderr\u001b[39m\u001b[38;5;124m'\u001b[39m] \u001b[38;5;241m=\u001b[39m PIPE\n\u001b[1;32m--> 503\u001b[0m \u001b[38;5;28;01mwith\u001b[39;00m Popen(\u001b[38;5;241m*\u001b[39mpopenargs, \u001b[38;5;241m*\u001b[39m\u001b[38;5;241m*\u001b[39mkwargs) \u001b[38;5;28;01mas\u001b[39;00m process:\n\u001b[0;32m    504\u001b[0m     \u001b[38;5;28;01mtry\u001b[39;00m:\n\u001b[0;32m    505\u001b[0m         stdout, stderr \u001b[38;5;241m=\u001b[39m process\u001b[38;5;241m.\u001b[39mcommunicate(\u001b[38;5;28minput\u001b[39m, timeout\u001b[38;5;241m=\u001b[39mtimeout)\n",
      "File \u001b[1;32mc:\\Users\\moga\\AppData\\Local\\Programs\\Python\\Python310\\lib\\subprocess.py:971\u001b[0m, in \u001b[0;36mPopen.__init__\u001b[1;34m(self, args, bufsize, executable, stdin, stdout, stderr, preexec_fn, close_fds, shell, cwd, env, universal_newlines, startupinfo, creationflags, restore_signals, start_new_session, pass_fds, user, group, extra_groups, encoding, errors, text, umask, pipesize)\u001b[0m\n\u001b[0;32m    967\u001b[0m         \u001b[38;5;28;01mif\u001b[39;00m \u001b[38;5;28mself\u001b[39m\u001b[38;5;241m.\u001b[39mtext_mode:\n\u001b[0;32m    968\u001b[0m             \u001b[38;5;28mself\u001b[39m\u001b[38;5;241m.\u001b[39mstderr \u001b[38;5;241m=\u001b[39m io\u001b[38;5;241m.\u001b[39mTextIOWrapper(\u001b[38;5;28mself\u001b[39m\u001b[38;5;241m.\u001b[39mstderr,\n\u001b[0;32m    969\u001b[0m                     encoding\u001b[38;5;241m=\u001b[39mencoding, errors\u001b[38;5;241m=\u001b[39merrors)\n\u001b[1;32m--> 971\u001b[0m     \u001b[38;5;28;43mself\u001b[39;49m\u001b[38;5;241;43m.\u001b[39;49m\u001b[43m_execute_child\u001b[49m\u001b[43m(\u001b[49m\u001b[43margs\u001b[49m\u001b[43m,\u001b[49m\u001b[43m \u001b[49m\u001b[43mexecutable\u001b[49m\u001b[43m,\u001b[49m\u001b[43m \u001b[49m\u001b[43mpreexec_fn\u001b[49m\u001b[43m,\u001b[49m\u001b[43m \u001b[49m\u001b[43mclose_fds\u001b[49m\u001b[43m,\u001b[49m\n\u001b[0;32m    972\u001b[0m \u001b[43m                        \u001b[49m\u001b[43mpass_fds\u001b[49m\u001b[43m,\u001b[49m\u001b[43m \u001b[49m\u001b[43mcwd\u001b[49m\u001b[43m,\u001b[49m\u001b[43m \u001b[49m\u001b[43menv\u001b[49m\u001b[43m,\u001b[49m\n\u001b[0;32m    973\u001b[0m \u001b[43m                        \u001b[49m\u001b[43mstartupinfo\u001b[49m\u001b[43m,\u001b[49m\u001b[43m \u001b[49m\u001b[43mcreationflags\u001b[49m\u001b[43m,\u001b[49m\u001b[43m \u001b[49m\u001b[43mshell\u001b[49m\u001b[43m,\u001b[49m\n\u001b[0;32m    974\u001b[0m \u001b[43m                        \u001b[49m\u001b[43mp2cread\u001b[49m\u001b[43m,\u001b[49m\u001b[43m \u001b[49m\u001b[43mp2cwrite\u001b[49m\u001b[43m,\u001b[49m\n\u001b[0;32m    975\u001b[0m \u001b[43m                        \u001b[49m\u001b[43mc2pread\u001b[49m\u001b[43m,\u001b[49m\u001b[43m \u001b[49m\u001b[43mc2pwrite\u001b[49m\u001b[43m,\u001b[49m\n\u001b[0;32m    976\u001b[0m \u001b[43m                        \u001b[49m\u001b[43merrread\u001b[49m\u001b[43m,\u001b[49m\u001b[43m \u001b[49m\u001b[43merrwrite\u001b[49m\u001b[43m,\u001b[49m\n\u001b[0;32m    977\u001b[0m \u001b[43m                        \u001b[49m\u001b[43mrestore_signals\u001b[49m\u001b[43m,\u001b[49m\n\u001b[0;32m    978\u001b[0m \u001b[43m                        \u001b[49m\u001b[43mgid\u001b[49m\u001b[43m,\u001b[49m\u001b[43m \u001b[49m\u001b[43mgids\u001b[49m\u001b[43m,\u001b[49m\u001b[43m \u001b[49m\u001b[43muid\u001b[49m\u001b[43m,\u001b[49m\u001b[43m \u001b[49m\u001b[43mumask\u001b[49m\u001b[43m,\u001b[49m\n\u001b[0;32m    979\u001b[0m \u001b[43m                        \u001b[49m\u001b[43mstart_new_session\u001b[49m\u001b[43m)\u001b[49m\n\u001b[0;32m    980\u001b[0m \u001b[38;5;28;01mexcept\u001b[39;00m:\n\u001b[0;32m    981\u001b[0m     \u001b[38;5;66;03m# Cleanup if the child failed starting.\u001b[39;00m\n\u001b[0;32m    982\u001b[0m     \u001b[38;5;28;01mfor\u001b[39;00m f \u001b[38;5;129;01min\u001b[39;00m \u001b[38;5;28mfilter\u001b[39m(\u001b[38;5;28;01mNone\u001b[39;00m, (\u001b[38;5;28mself\u001b[39m\u001b[38;5;241m.\u001b[39mstdin, \u001b[38;5;28mself\u001b[39m\u001b[38;5;241m.\u001b[39mstdout, \u001b[38;5;28mself\u001b[39m\u001b[38;5;241m.\u001b[39mstderr)):\n",
      "File \u001b[1;32mc:\\Users\\moga\\AppData\\Local\\Programs\\Python\\Python310\\lib\\subprocess.py:1440\u001b[0m, in \u001b[0;36mPopen._execute_child\u001b[1;34m(self, args, executable, preexec_fn, close_fds, pass_fds, cwd, env, startupinfo, creationflags, shell, p2cread, p2cwrite, c2pread, c2pwrite, errread, errwrite, unused_restore_signals, unused_gid, unused_gids, unused_uid, unused_umask, unused_start_new_session)\u001b[0m\n\u001b[0;32m   1438\u001b[0m \u001b[38;5;66;03m# Start the process\u001b[39;00m\n\u001b[0;32m   1439\u001b[0m \u001b[38;5;28;01mtry\u001b[39;00m:\n\u001b[1;32m-> 1440\u001b[0m     hp, ht, pid, tid \u001b[38;5;241m=\u001b[39m \u001b[43m_winapi\u001b[49m\u001b[38;5;241;43m.\u001b[39;49m\u001b[43mCreateProcess\u001b[49m\u001b[43m(\u001b[49m\u001b[43mexecutable\u001b[49m\u001b[43m,\u001b[49m\u001b[43m \u001b[49m\u001b[43margs\u001b[49m\u001b[43m,\u001b[49m\n\u001b[0;32m   1441\u001b[0m \u001b[43m                             \u001b[49m\u001b[38;5;66;43;03m# no special security\u001b[39;49;00m\n\u001b[0;32m   1442\u001b[0m \u001b[43m                             \u001b[49m\u001b[38;5;28;43;01mNone\u001b[39;49;00m\u001b[43m,\u001b[49m\u001b[43m \u001b[49m\u001b[38;5;28;43;01mNone\u001b[39;49;00m\u001b[43m,\u001b[49m\n\u001b[0;32m   1443\u001b[0m \u001b[43m                             \u001b[49m\u001b[38;5;28;43mint\u001b[39;49m\u001b[43m(\u001b[49m\u001b[38;5;129;43;01mnot\u001b[39;49;00m\u001b[43m \u001b[49m\u001b[43mclose_fds\u001b[49m\u001b[43m)\u001b[49m\u001b[43m,\u001b[49m\n\u001b[0;32m   1444\u001b[0m \u001b[43m                             \u001b[49m\u001b[43mcreationflags\u001b[49m\u001b[43m,\u001b[49m\n\u001b[0;32m   1445\u001b[0m \u001b[43m                             \u001b[49m\u001b[43menv\u001b[49m\u001b[43m,\u001b[49m\n\u001b[0;32m   1446\u001b[0m \u001b[43m                             \u001b[49m\u001b[43mcwd\u001b[49m\u001b[43m,\u001b[49m\n\u001b[0;32m   1447\u001b[0m \u001b[43m                             \u001b[49m\u001b[43mstartupinfo\u001b[49m\u001b[43m)\u001b[49m\n\u001b[0;32m   1448\u001b[0m \u001b[38;5;28;01mfinally\u001b[39;00m:\n\u001b[0;32m   1449\u001b[0m     \u001b[38;5;66;03m# Child is launched. Close the parent's copy of those pipe\u001b[39;00m\n\u001b[0;32m   1450\u001b[0m     \u001b[38;5;66;03m# handles that only the child should have open.  You need\u001b[39;00m\n\u001b[1;32m   (...)\u001b[0m\n\u001b[0;32m   1453\u001b[0m     \u001b[38;5;66;03m# pipe will not close when the child process exits and the\u001b[39;00m\n\u001b[0;32m   1454\u001b[0m     \u001b[38;5;66;03m# ReadFile will hang.\u001b[39;00m\n\u001b[0;32m   1455\u001b[0m     \u001b[38;5;28mself\u001b[39m\u001b[38;5;241m.\u001b[39m_close_pipe_fds(p2cread, p2cwrite,\n\u001b[0;32m   1456\u001b[0m                          c2pread, c2pwrite,\n\u001b[0;32m   1457\u001b[0m                          errread, errwrite)\n",
      "\u001b[1;31mFileNotFoundError\u001b[0m: [WinError 2] The system cannot find the file specified"
     ]
    }
   ],
   "source": [
    "# subprocess.run(\"pwd\", stderr=subprocess.PIPE)"
   ]
  }
 ],
 "metadata": {
  "kernelspec": {
   "display_name": "Python 3",
   "language": "python",
   "name": "python3"
  },
  "language_info": {
   "codemirror_mode": {
    "name": "ipython",
    "version": 3
   },
   "file_extension": ".py",
   "mimetype": "text/x-python",
   "name": "python",
   "nbconvert_exporter": "python",
   "pygments_lexer": "ipython3",
   "version": "3.10.12"
  }
 },
 "nbformat": 4,
 "nbformat_minor": 2
}
