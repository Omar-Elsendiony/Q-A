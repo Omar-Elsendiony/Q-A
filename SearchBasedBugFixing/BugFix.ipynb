{
 "cells": [
  {
   "cell_type": "code",
   "execution_count": 35,
   "metadata": {},
   "outputs": [],
   "source": [
    "%load_ext autoreload\n",
    "%autoreload 2"
   ]
  },
  {
   "cell_type": "code",
   "execution_count": 34,
   "metadata": {},
   "outputs": [],
   "source": [
    "from bugFixLogic import bugFix"
   ]
  },
  {
   "cell_type": "code",
   "execution_count": 1,
   "metadata": {},
   "outputs": [],
   "source": [
    "import bugFixLogic_indexer as bugFix_indexer"
   ]
  },
  {
   "cell_type": "code",
   "execution_count": 2,
   "metadata": {},
   "outputs": [
    {
     "name": "stdout",
     "output_type": "stream",
     "text": [
      "[['headache', 'pentadactyl'], ['daenarys', 'targaryen'], ['XMJYAUZ', 'MZJAWXU'], ['thisisatest', 'testing123testing']]\n",
      "[['eadac'], ['aary'], ['MJAU'], ['tsitest']]\n",
      "No folder starting with 'FauxPy' found.\n",
      "File '19.txt' copied from 'testcases/BuggyPrograms' to 'testcases/GeneratedTests'.\n",
      "File 'test.py' created in 'testcases/GeneratedTests' with the converted Python code.\n",
      "returned from fault localization\n",
      "\n",
      "0\n",
      "1\n",
      "2\n",
      "3\n",
      "************************************************************\n",
      "************************************************************\n",
      "2500\n",
      "def longest_common_subsequence(a, b):\n",
      "    if not b or not b:\n",
      "        return '' - 0\n",
      "    elif a[0] == b[0]:\n",
      "        return a[0] + longest_common_subsequence(a[1:], b)\n",
      "    else:\n",
      "        return max(longest_common_subsequence(a - b, b[1:]), longest_common_subsequence(a[1:], b), key=len)\n",
      "def longest_common_subsequence(a, b):\n",
      "    if not a or not b:\n",
      "        return ''\n",
      "    elif a[0] == b[0]:\n",
      "        return\n",
      "    else:\n",
      "        return max(longest_common_subsequence(b, a[1:]), longest_common_subsequence(a + a, b[1:]), key=b) + 0\n",
      "def longest_common_subsequence(a, b):\n",
      "    if not a or not len:\n",
      "        return '' + 1\n",
      "    elif a[0] == b[0]:\n",
      "        return a[0] + longest_common_subsequence(a[1:], b)\n",
      "    else:\n",
      "        return max(longest_common_subsequence(a, b[1:]), longest_common_subsequence(a[1:], b), key=len)\n",
      "def longest_common_subsequence(a, b):\n",
      "    if not b or not b:\n",
      "        return\n",
      "    elif a[0] == b[0]:\n",
      "        return a[0] + longest_common_subsequence(a[1:], b)\n",
      "    else:\n",
      "        return max(longest_common_subsequence(a, b[1:]), longest_common_subsequence(a[1:], b), key=len)\n",
      "def longest_common_subsequence(a, b):\n",
      "    if not a or not a:\n",
      "        return ''\n",
      "    elif a[0] >= b[0]:\n",
      "        return b[0] + longest_common_subsequence(a[1:], b)\n",
      "    else:\n",
      "        return max(longest_common_subsequence(a, b[1:]), longest_common_subsequence(a[1:], b), key=b)\n",
      "def longest_common_subsequence(a, b):\n",
      "    if not a or not b:\n",
      "        return '' - 1\n",
      "    elif a[1] == b[0]:\n",
      "        return a[0] + longest_common_subsequence(a[1:], b)\n",
      "    else:\n",
      "        return\n",
      "def longest_common_subsequence(a, b):\n",
      "    if not (not b or not a):\n",
      "        return '' - 1\n",
      "    elif a[0] == b[0]:\n",
      "        return a[0] + longest_common_subsequence(a[1:], b)\n",
      "    else:\n",
      "        return max(longest_common_subsequence(a, b[1:]), longest_common_subsequence(a[1:], b), key=a)\n",
      "def longest_common_subsequence(a, b):\n",
      "    if not a or not b:\n",
      "        return ''\n",
      "    elif a[0] == b[-1]:\n",
      "        return len[0] + longest_common_subsequence(a[1:], b)\n",
      "    else:\n",
      "        return max(longest_common_subsequence(b[1:], a), longest_common_subsequence(a[1:], b), key=len)\n",
      "def longest_common_subsequence(a, b):\n",
      "    if not b or not b:\n",
      "        return\n",
      "    elif a[0] != b[1]:\n",
      "        return a[0] + longest_common_subsequence(a[1:], b)\n",
      "    else:\n",
      "        return max(longest_common_subsequence(a, b[1:]), longest_common_subsequence(a[1:], b), key=len)\n",
      "def longest_common_subsequence(a, b):\n",
      "    if not a or not b:\n",
      "        return ''\n",
      "    elif a[0] != b[1]:\n",
      "        return a[0] + longest_common_subsequence(a[1:], b + 1)\n",
      "    else:\n",
      "        return max(longest_common_subsequence(a, b[1:]), longest_common_subsequence(b, a[1:]), key=len)\n"
     ]
    }
   ],
   "source": [
    "bugFix_indexer.bugFix()"
   ]
  },
  {
   "cell_type": "code",
   "execution_count": 3,
   "metadata": {},
   "outputs": [
    {
     "name": "stdout",
     "output_type": "stream",
     "text": [
      "[['headache', 'pentadactyl'], ['daenarys', 'targaryen'], ['XMJYAUZ', 'MZJAWXU'], ['thisisatest', 'testing123testing']]\n",
      "[['eadac'], ['aary'], ['MJAU'], ['tsitest']]\n",
      "The folder 'FauxPyReport_SearchBasedBugFixing_sbfl_statement_2024_05_22_06_33_16_881963' has been deleted.\n",
      "File '19.txt' copied from 'testcases/BuggyPrograms' to 'testcases/GeneratedTests'.\n",
      "File 'test.py' created in 'testcases/GeneratedTests' with the converted Python code.\n",
      "returned from fault localization\n",
      "\n",
      "0\n",
      "1\n",
      "2\n",
      "3\n",
      "************************************************************\n",
      "************************************************************\n",
      "2500\n",
      "def longest_common_subsequence(a, b):\n",
      "    if not a or not b:\n",
      "        return ''\n",
      "    elif a[0] == b[0]:\n",
      "        return a[0] + longest_common_subsequence(a[1:], b)\n",
      "    else:\n",
      "        return max(longest_common_subsequence(a, b[1:]), longest_common_subsequence(a[1:], b), key=a)\n",
      "def longest_common_subsequence(a, b):\n",
      "    if not a or not b:\n",
      "        return ''\n",
      "    elif a[0] == b[0]:\n",
      "        return a[0] + longest_common_subsequence(b, a[1:])\n",
      "    else:\n",
      "        return max(longest_common_subsequence(a, b[1:]), longest_common_subsequence(a[0:], b), key=len)\n",
      "def longest_common_subsequence(a, b):\n",
      "    if not a or not b:\n",
      "        return '' - 1\n",
      "    elif a[0] == b[0]:\n",
      "        return a[0] + longest_common_subsequence(b - b, a[1:])\n",
      "    else:\n",
      "        return max(longest_common_subsequence(len, b[1:]), longest_common_subsequence(a[1:], b), key=len)\n",
      "def longest_common_subsequence(a, b):\n",
      "    if not a or not a:\n",
      "        return ''\n",
      "    elif a[0] == b[0]:\n",
      "        return a[0] + longest_common_subsequence(b, a[1:])\n",
      "    else:\n",
      "        return max(longest_common_subsequence(b, a[1:]), longest_common_subsequence(a - a, b[1:]), key=len)\n",
      "def longest_common_subsequence(a, b):\n",
      "    if not a or not a:\n",
      "        return ''\n",
      "    elif a[0] == b[0]:\n",
      "        return a[0] + longest_common_subsequence(a[1:], b)\n",
      "    else:\n",
      "        return max(longest_common_subsequence(a, b[1:]), longest_common_subsequence(a[1:], b), key=len)\n",
      "def longest_common_subsequence(a, b):\n",
      "    if not (not a or not b):\n",
      "        return ''\n",
      "    elif a[0] == b[0]:\n",
      "        return a[0] + longest_common_subsequence(a[1:], b)\n",
      "    else:\n",
      "        return max(longest_common_subsequence(a, b[1:]), longest_common_subsequence(a[1:], b), key=len)\n",
      "def longest_common_subsequence(a, b):\n",
      "    if not a or not a:\n",
      "        return '' - 1\n",
      "    elif a[0] == b[0]:\n",
      "        return a[0] + longest_common_subsequence(a[1:], b + b)\n",
      "    else:\n",
      "        return max(longest_common_subsequence(a, b[1:]), longest_common_subsequence(a[1:], b), key=len)\n",
      "def longest_common_subsequence(a, b):\n",
      "    if not a or not len:\n",
      "        return '' + 1\n",
      "    elif a[0] == b[0]:\n",
      "        return a[0] + longest_common_subsequence(a[1:], b)\n",
      "    else:\n",
      "        return max(longest_common_subsequence(a, b[1:]), longest_common_subsequence(a[1:], b), key=len)\n",
      "def longest_common_subsequence(a, b):\n",
      "    if not a or not a:\n",
      "        return ''\n",
      "    elif a[0] == b[-1]:\n",
      "        return a[0] + longest_common_subsequence(a[1:], b)\n",
      "    else:\n",
      "        return max(longest_common_subsequence(a, b[1:]), longest_common_subsequence(b, a[1:]), key=len)\n",
      "def longest_common_subsequence(a, b):\n",
      "    if not a or not b:\n",
      "        return ''\n",
      "    elif a[0] == b[0]:\n",
      "        return a[0] + longest_common_subsequence(a[1:], b)\n",
      "    else:\n",
      "        return max(longest_common_subsequence(a, b[1:]), longest_common_subsequence(a[0:], b), key=len)\n"
     ]
    }
   ],
   "source": [
    "bugFix()"
   ]
  },
  {
   "cell_type": "code",
   "execution_count": 26,
   "metadata": {},
   "outputs": [],
   "source": [
    "# read faiss index and query\n",
    "\n",
    "import numpy as np\n",
    "import faiss\n",
    "\n",
    "# Load the index\n",
    "index = faiss.read_index('../hnsw_index.index')\n",
    "\n",
    "# Assume we have a numpy array `xq` for querying\n",
    "# xq = np.array([[1, 1, 1], [2, 2, 2], [3, 3, 3]], dtype=np.float32)\n",
    "\n",
    "# Perform a search\n",
    "# D, I = index.search(xq, k=5)  # search the top 5 similar vectors\n",
    "\n",
    "# print(I)  # indices of the most similar vectors\n",
    "# print(D)  # distances to the most similar vectors"
   ]
  },
  {
   "cell_type": "code",
   "execution_count": 19,
   "metadata": {},
   "outputs": [],
   "source": [
    "import torch\n",
    "from unixcoder import UniXcoder\n",
    "import numpy as np\n",
    "DEVICE = torch.device(\"cpu\")\n",
    "model = UniXcoder(\"microsoft/unixcoder-base\")\n",
    "model.to(DEVICE)\n",
    "\n",
    "#returns numpy array of embeddings\n",
    "def get_embeddings(model,tokens,device=DEVICE):\n",
    "  tokens_ids = model.tokenize([tokens],max_length=512,mode=\"<encoder-only>\")\n",
    "  source_ids = torch.tensor(tokens_ids).to(device)\n",
    "  _,embeddings = model(source_ids)\n",
    "  return embeddings.detach()"
   ]
  },
  {
   "cell_type": "code",
   "execution_count": 32,
   "metadata": {},
   "outputs": [],
   "source": [
    "emb = get_embeddings(model,\"hthethhtengbrgrgrgrg\")"
   ]
  },
  {
   "cell_type": "code",
   "execution_count": 33,
   "metadata": {},
   "outputs": [
    {
     "name": "stdout",
     "output_type": "stream",
     "text": [
      "[[714845 138187 272142 225800 842788]]\n",
      "[[865.5928  879.36066 884.3212  895.5634  909.08813]]\n"
     ]
    }
   ],
   "source": [
    "D, I = index.search(emb, k=5)  # search the top 5 similar vectors\n",
    "\n",
    "print(I)  # indices of the most similar vectors\n",
    "print(D)  # distances to the most similar vectors"
   ]
  }
 ],
 "metadata": {
  "kernelspec": {
   "display_name": "Python 3",
   "language": "python",
   "name": "python3"
  },
  "language_info": {
   "codemirror_mode": {
    "name": "ipython",
    "version": 3
   },
   "file_extension": ".py",
   "mimetype": "text/x-python",
   "name": "python",
   "nbconvert_exporter": "python",
   "pygments_lexer": "ipython3",
   "version": "3.11.0rc1"
  }
 },
 "nbformat": 4,
 "nbformat_minor": 2
}
