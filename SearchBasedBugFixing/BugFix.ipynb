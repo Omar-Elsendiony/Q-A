{
 "cells": [
  {
   "cell_type": "code",
   "execution_count": 4,
   "metadata": {},
   "outputs": [],
   "source": [
    "%load_ext autoreload\n",
    "%autoreload 2"
   ]
  },
  {
   "cell_type": "code",
   "execution_count": 1,
   "metadata": {},
   "outputs": [],
   "source": [
    "from bugFixLogic import bugFix"
   ]
  },
  {
   "cell_type": "code",
   "execution_count": 2,
   "metadata": {},
   "outputs": [],
   "source": [
    "import bugFixLogic_indexer as bugFix_indexer"
   ]
  },
  {
   "cell_type": "code",
   "execution_count": 3,
   "metadata": {},
   "outputs": [
    {
     "name": "stdout",
     "output_type": "stream",
     "text": [
      "[['headache', 'pentadactyl'], ['daenarys', 'targaryen'], ['XMJYAUZ', 'MZJAWXU'], ['thisisatest', 'testing123testing']]\n",
      "[['eadac'], ['aary'], ['MJAU'], ['tsitest']]\n",
      "The folder 'FauxPyReport_SearchBasedBugFixing_sbfl_statement_2024_05_23_03_11_10_645702' has been deleted.\n",
      "File '19.txt' copied from 'testcases/BuggyPrograms' to 'testcases/GeneratedTests'.\n",
      "File 'test.py' created in 'testcases/GeneratedTests' with the converted Python code.\n",
      "returned from fault localization\n",
      "\n"
     ]
    },
    {
     "ename": "ValueError",
     "evalue": "operands could not be broadcast together with shapes (17,1) (19,1) ",
     "output_type": "error",
     "traceback": [
      "\u001b[0;31m---------------------------------------------------------------------------\u001b[0m",
      "\u001b[0;31mValueError\u001b[0m                                Traceback (most recent call last)",
      "Cell \u001b[0;32mIn[3], line 1\u001b[0m\n\u001b[0;32m----> 1\u001b[0m \u001b[43mbugFix_indexer\u001b[49m\u001b[38;5;241;43m.\u001b[39;49m\u001b[43mbugFix\u001b[49m\u001b[43m(\u001b[49m\u001b[43m)\u001b[49m\n",
      "File \u001b[0;32m~/BugFix/Q-A/SearchBasedBugFixing/bugFixLogic_indexer.py:665\u001b[0m, in \u001b[0;36mbugFix\u001b[0;34m()\u001b[0m\n\u001b[1;32m    662\u001b[0m     faultLocations \u001b[38;5;241m=\u001b[39m \u001b[38;5;28mlist\u001b[39m(\u001b[38;5;28mrange\u001b[39m(\u001b[38;5;241m1\u001b[39m, allLines \u001b[38;5;241m+\u001b[39m \u001b[38;5;241m1\u001b[39m))\n\u001b[1;32m    663\u001b[0m     weightsFaultyLocations \u001b[38;5;241m=\u001b[39m [\u001b[38;5;241m1\u001b[39m] \u001b[38;5;241m*\u001b[39m (allLines)\n\u001b[0;32m--> 665\u001b[0m solutions, population \u001b[38;5;241m=\u001b[39m \u001b[43mmain\u001b[49m\u001b[43m(\u001b[49m\u001b[43mBugProgram\u001b[49m\u001b[38;5;241;43m=\u001b[39;49m\u001b[43mbuggyProgram\u001b[49m\u001b[43m,\u001b[49m\u001b[43m \u001b[49m\n\u001b[1;32m    666\u001b[0m \u001b[43m                \u001b[49m\u001b[43mMethodUnderTestName\u001b[49m\u001b[38;5;241;43m=\u001b[39;49m\u001b[43mmethodUnderTestName\u001b[49m\u001b[43m,\u001b[49m\u001b[43m \u001b[49m\n\u001b[1;32m    667\u001b[0m \u001b[43m                \u001b[49m\u001b[43mFaultLocations\u001b[49m\u001b[38;5;241;43m=\u001b[39;49m\u001b[43mfaultLocations\u001b[49m\u001b[43m,\u001b[49m\u001b[43m \u001b[49m\n\u001b[1;32m    668\u001b[0m \u001b[43m                \u001b[49m\u001b[43mweightsFaultyLocations\u001b[49m\u001b[38;5;241;43m=\u001b[39;49m\u001b[43mweightsFaultyLocations\u001b[49m\u001b[43m,\u001b[49m\u001b[43m \u001b[49m\n\u001b[1;32m    669\u001b[0m \u001b[43m                \u001b[49m\u001b[43minputs\u001b[49m\u001b[38;5;241;43m=\u001b[39;49m\u001b[43minputs\u001b[49m\u001b[43m,\u001b[49m\n\u001b[1;32m    670\u001b[0m \u001b[43m                \u001b[49m\u001b[43moutputs\u001b[49m\u001b[38;5;241;43m=\u001b[39;49m\u001b[43moutputs\u001b[49m\u001b[43m,\u001b[49m\u001b[43m \u001b[49m\n\u001b[1;32m    671\u001b[0m \u001b[43m                \u001b[49m\u001b[43mFixPar\u001b[49m\u001b[38;5;241;43m=\u001b[39;49m\u001b[38;5;28;43;01mNone\u001b[39;49;00m\u001b[43m,\u001b[49m\n\u001b[1;32m    672\u001b[0m \u001b[43m                \u001b[49m\u001b[43mops\u001b[49m\u001b[38;5;241;43m=\u001b[39;49m\u001b[43mops\u001b[49m\u001b[43m)\u001b[49m\n\u001b[1;32m    673\u001b[0m \u001b[38;5;28mprint\u001b[39m(\u001b[38;5;124m\"\u001b[39m\u001b[38;5;124m************************************************************\u001b[39m\u001b[38;5;124m\"\u001b[39m)\n\u001b[1;32m    674\u001b[0m \u001b[38;5;28;01mfor\u001b[39;00m solution \u001b[38;5;129;01min\u001b[39;00m solutions:\n",
      "File \u001b[0;32m~/BugFix/Q-A/SearchBasedBugFixing/bugFixLogic_indexer.py:516\u001b[0m, in \u001b[0;36mmain\u001b[0;34m(BugProgram, MethodUnderTestName, FaultLocations, weightsFaultyLocations, inputs, outputs, FixPar, ops, popSize, M, E, L)\u001b[0m\n\u001b[1;32m    514\u001b[0m name_to_operator \u001b[38;5;241m=\u001b[39m utils\u001b[38;5;241m.\u001b[39mgetNameToOperatorMap()\n\u001b[1;32m    515\u001b[0m \u001b[38;5;28;01mwhile\u001b[39;00m \u001b[38;5;28mlen\u001b[39m(Pop) \u001b[38;5;241m<\u001b[39m popSize:\n\u001b[0;32m--> 516\u001b[0m     newMutation\u001b[38;5;241m=\u001b[39m \u001b[43mmutate\u001b[49m\u001b[43m(\u001b[49m\u001b[43mBugProgram\u001b[49m\u001b[43m,\u001b[49m\u001b[43m \u001b[49m\u001b[43mops\u001b[49m\u001b[43m,\u001b[49m\u001b[43m \u001b[49m\u001b[43mname_to_operator\u001b[49m\u001b[43m,\u001b[49m\u001b[43m \u001b[49m\u001b[43mFaultLocations\u001b[49m\u001b[43m,\u001b[49m\u001b[43m \u001b[49m\u001b[43mweightsFaultyLocations\u001b[49m\u001b[43m,\u001b[49m\u001b[43m \u001b[49m\u001b[43mL\u001b[49m\u001b[43m,\u001b[49m\u001b[43m \u001b[49m\u001b[43mMethodUnderTestName\u001b[49m\u001b[43m,\u001b[49m\u001b[43m \u001b[49m\u001b[43minputs\u001b[49m\u001b[43m,\u001b[49m\u001b[43m \u001b[49m\u001b[43moutputs\u001b[49m\u001b[43m)\u001b[49m\n\u001b[1;32m    517\u001b[0m     \u001b[38;5;66;03m# if not errorOccured:\u001b[39;00m\n\u001b[1;32m    518\u001b[0m     Pop\u001b[38;5;241m.\u001b[39mappend(newMutation)  \u001b[38;5;66;03m# mutate the population\u001b[39;00m\n",
      "File \u001b[0;32m~/BugFix/Q-A/SearchBasedBugFixing/bugFixLogic_indexer.py:478\u001b[0m, in \u001b[0;36mmutate\u001b[0;34m(cand, ops, name_to_operator, faultyLineLocations, weightsFaultyLineLocations, L, methodUnderTestName, inputs, outputs)\u001b[0m\n\u001b[1;32m    476\u001b[0m         scores\u001b[38;5;241m.\u001b[39mappend(\u001b[38;5;241m0.000000000000001\u001b[39m)\n\u001b[1;32m    477\u001b[0m     candI \u001b[38;5;241m+\u001b[39m\u001b[38;5;241m=\u001b[39m \u001b[38;5;241m1\u001b[39m\n\u001b[0;32m--> 478\u001b[0m choice \u001b[38;5;241m=\u001b[39m \u001b[43mrandom\u001b[49m\u001b[38;5;241;43m.\u001b[39;49m\u001b[43mchoices\u001b[49m\u001b[43m(\u001b[49m\u001b[38;5;28;43mrange\u001b[39;49m\u001b[43m(\u001b[49m\u001b[38;5;28;43mlen\u001b[39;49m\u001b[43m(\u001b[49m\u001b[43mpool\u001b[49m\u001b[43m)\u001b[49m\u001b[43m)\u001b[49m\u001b[43m,\u001b[49m\u001b[43m \u001b[49m\u001b[43mweights\u001b[49m\u001b[43m \u001b[49m\u001b[38;5;241;43m=\u001b[39;49m\u001b[43m \u001b[49m\u001b[43mscores\u001b[49m\u001b[43m,\u001b[49m\u001b[43m \u001b[49m\u001b[43mk\u001b[49m\u001b[38;5;241;43m=\u001b[39;49m\u001b[38;5;241;43m1\u001b[39;49m\u001b[43m)\u001b[49m[\u001b[38;5;241m0\u001b[39m]\n\u001b[1;32m    479\u001b[0m \u001b[38;5;28;01mreturn\u001b[39;00m ast\u001b[38;5;241m.\u001b[39munparse(pool[choice])\n",
      "File \u001b[0;32m/usr/lib/python3.11/random.py:492\u001b[0m, in \u001b[0;36mRandom.choices\u001b[0;34m(self, population, weights, cum_weights, k)\u001b[0m\n\u001b[1;32m    490\u001b[0m     \u001b[38;5;28;01mreturn\u001b[39;00m [population[floor(random() \u001b[38;5;241m*\u001b[39m n)] \u001b[38;5;28;01mfor\u001b[39;00m i \u001b[38;5;129;01min\u001b[39;00m _repeat(\u001b[38;5;28;01mNone\u001b[39;00m, k)]\n\u001b[1;32m    491\u001b[0m \u001b[38;5;28;01mtry\u001b[39;00m:\n\u001b[0;32m--> 492\u001b[0m     cum_weights \u001b[38;5;241m=\u001b[39m \u001b[38;5;28mlist\u001b[39m(_accumulate(weights))\n\u001b[1;32m    493\u001b[0m \u001b[38;5;28;01mexcept\u001b[39;00m \u001b[38;5;167;01mTypeError\u001b[39;00m:\n\u001b[1;32m    494\u001b[0m     \u001b[38;5;28;01mif\u001b[39;00m \u001b[38;5;129;01mnot\u001b[39;00m \u001b[38;5;28misinstance\u001b[39m(weights, \u001b[38;5;28mint\u001b[39m):\n",
      "\u001b[0;31mValueError\u001b[0m: operands could not be broadcast together with shapes (17,1) (19,1) "
     ]
    }
   ],
   "source": [
    "bugFix_indexer.bugFix()"
   ]
  },
  {
   "cell_type": "code",
   "execution_count": 3,
   "metadata": {},
   "outputs": [
    {
     "name": "stdout",
     "output_type": "stream",
     "text": [
      "[['headache', 'pentadactyl'], ['daenarys', 'targaryen'], ['XMJYAUZ', 'MZJAWXU'], ['thisisatest', 'testing123testing']]\n",
      "[['eadac'], ['aary'], ['MJAU'], ['tsitest']]\n",
      "The folder 'FauxPyReport_SearchBasedBugFixing_sbfl_statement_2024_05_22_06_33_16_881963' has been deleted.\n",
      "File '19.txt' copied from 'testcases/BuggyPrograms' to 'testcases/GeneratedTests'.\n",
      "File 'test.py' created in 'testcases/GeneratedTests' with the converted Python code.\n",
      "returned from fault localization\n",
      "\n",
      "0\n",
      "1\n",
      "2\n",
      "3\n",
      "************************************************************\n",
      "************************************************************\n",
      "2500\n",
      "def longest_common_subsequence(a, b):\n",
      "    if not a or not b:\n",
      "        return ''\n",
      "    elif a[0] == b[0]:\n",
      "        return a[0] + longest_common_subsequence(a[1:], b)\n",
      "    else:\n",
      "        return max(longest_common_subsequence(a, b[1:]), longest_common_subsequence(a[1:], b), key=a)\n",
      "def longest_common_subsequence(a, b):\n",
      "    if not a or not b:\n",
      "        return ''\n",
      "    elif a[0] == b[0]:\n",
      "        return a[0] + longest_common_subsequence(b, a[1:])\n",
      "    else:\n",
      "        return max(longest_common_subsequence(a, b[1:]), longest_common_subsequence(a[0:], b), key=len)\n",
      "def longest_common_subsequence(a, b):\n",
      "    if not a or not b:\n",
      "        return '' - 1\n",
      "    elif a[0] == b[0]:\n",
      "        return a[0] + longest_common_subsequence(b - b, a[1:])\n",
      "    else:\n",
      "        return max(longest_common_subsequence(len, b[1:]), longest_common_subsequence(a[1:], b), key=len)\n",
      "def longest_common_subsequence(a, b):\n",
      "    if not a or not a:\n",
      "        return ''\n",
      "    elif a[0] == b[0]:\n",
      "        return a[0] + longest_common_subsequence(b, a[1:])\n",
      "    else:\n",
      "        return max(longest_common_subsequence(b, a[1:]), longest_common_subsequence(a - a, b[1:]), key=len)\n",
      "def longest_common_subsequence(a, b):\n",
      "    if not a or not a:\n",
      "        return ''\n",
      "    elif a[0] == b[0]:\n",
      "        return a[0] + longest_common_subsequence(a[1:], b)\n",
      "    else:\n",
      "        return max(longest_common_subsequence(a, b[1:]), longest_common_subsequence(a[1:], b), key=len)\n",
      "def longest_common_subsequence(a, b):\n",
      "    if not (not a or not b):\n",
      "        return ''\n",
      "    elif a[0] == b[0]:\n",
      "        return a[0] + longest_common_subsequence(a[1:], b)\n",
      "    else:\n",
      "        return max(longest_common_subsequence(a, b[1:]), longest_common_subsequence(a[1:], b), key=len)\n",
      "def longest_common_subsequence(a, b):\n",
      "    if not a or not a:\n",
      "        return '' - 1\n",
      "    elif a[0] == b[0]:\n",
      "        return a[0] + longest_common_subsequence(a[1:], b + b)\n",
      "    else:\n",
      "        return max(longest_common_subsequence(a, b[1:]), longest_common_subsequence(a[1:], b), key=len)\n",
      "def longest_common_subsequence(a, b):\n",
      "    if not a or not len:\n",
      "        return '' + 1\n",
      "    elif a[0] == b[0]:\n",
      "        return a[0] + longest_common_subsequence(a[1:], b)\n",
      "    else:\n",
      "        return max(longest_common_subsequence(a, b[1:]), longest_common_subsequence(a[1:], b), key=len)\n",
      "def longest_common_subsequence(a, b):\n",
      "    if not a or not a:\n",
      "        return ''\n",
      "    elif a[0] == b[-1]:\n",
      "        return a[0] + longest_common_subsequence(a[1:], b)\n",
      "    else:\n",
      "        return max(longest_common_subsequence(a, b[1:]), longest_common_subsequence(b, a[1:]), key=len)\n",
      "def longest_common_subsequence(a, b):\n",
      "    if not a or not b:\n",
      "        return ''\n",
      "    elif a[0] == b[0]:\n",
      "        return a[0] + longest_common_subsequence(a[1:], b)\n",
      "    else:\n",
      "        return max(longest_common_subsequence(a, b[1:]), longest_common_subsequence(a[0:], b), key=len)\n"
     ]
    }
   ],
   "source": [
    "bugFix()"
   ]
  },
  {
   "cell_type": "code",
   "execution_count": 5,
   "metadata": {},
   "outputs": [
    {
     "ename": "",
     "evalue": "",
     "output_type": "error",
     "traceback": [
      "\u001b[1;31mThe Kernel crashed while executing code in the current cell or a previous cell. \n",
      "\u001b[1;31mPlease review the code in the cell(s) to identify a possible cause of the failure. \n",
      "\u001b[1;31mClick <a href='https://aka.ms/vscodeJupyterKernelCrash'>here</a> for more info. \n",
      "\u001b[1;31mView Jupyter <a href='command:jupyter.viewOutput'>log</a> for further details."
     ]
    }
   ],
   "source": [
    "# read faiss index and query\n",
    "\n",
    "import numpy as np\n",
    "import faiss\n",
    "\n",
    "# Load the index\n",
    "index = faiss.read_index('../hnsw_index.index')\n",
    "\n",
    "# Assume we have a numpy array `xq` for querying\n",
    "# xq = np.array([[1, 1, 1], [2, 2, 2], [3, 3, 3]], dtype=np.float32)\n",
    "\n",
    "# Perform a search\n",
    "# D, I = index.search(xq, k=5)  # search the top 5 similar vectors\n",
    "\n",
    "# print(I)  # indices of the most similar vectors\n",
    "# print(D)  # distances to the most similar vectors"
   ]
  },
  {
   "cell_type": "code",
   "execution_count": null,
   "metadata": {},
   "outputs": [],
   "source": [
    "import torch\n",
    "from unixcoder import UniXcoder\n",
    "import numpy as np\n",
    "DEVICE = torch.device(\"cpu\")\n",
    "model = UniXcoder(\"microsoft/unixcoder-base\")\n",
    "model.to(DEVICE)\n",
    "\n",
    "#returns numpy array of embeddings\n",
    "def get_embeddings(model,tokens,device=DEVICE):\n",
    "  tokens_ids = model.tokenize([tokens],max_length=512,mode=\"<encoder-only>\")\n",
    "  source_ids = torch.tensor(tokens_ids).to(device)\n",
    "  _,embeddings = model(source_ids)\n",
    "  return embeddings.detach()"
   ]
  },
  {
   "cell_type": "code",
   "execution_count": 19,
   "metadata": {},
   "outputs": [],
   "source": [
    "from torch.utils.data import DataLoader\n",
    "\n",
    "def batch_tokenize(token_list, max_length=512, mode=\"<encoder-only>\"):\n",
    "    # Tokenize multiple tokens in batches\n",
    "    token_ids = model.tokenize(token_list, max_length=max_length, mode=mode)\n",
    "    return torch.tensor(token_ids)\n",
    "\n",
    "def fitness_bug_code(tokens_list, device=DEVICE, batch_size=64):\n",
    "    dataloader = DataLoader(tokens_list, batch_size=batch_size)\n",
    "    distances = []\n",
    "    for batch_tokens in dataloader:\n",
    "        token_ids = batch_tokenize(batch_tokens).to(device)\n",
    "        _, embeddings = model(token_ids)\n",
    "        distances.append(embeddings.detach().cpu())\n",
    "    distances = torch.cat(distances)\n",
    "    D, I = index.search(distances, k=1)\n",
    "    return D"
   ]
  },
  {
   "cell_type": "code",
   "execution_count": 18,
   "metadata": {},
   "outputs": [],
   "source": [
    "emb = get_embeddings(model,\"print(y)\")"
   ]
  },
  {
   "cell_type": "code",
   "execution_count": 4,
   "metadata": {},
   "outputs": [
    {
     "ename": "NameError",
     "evalue": "name 'index' is not defined",
     "output_type": "error",
     "traceback": [
      "\u001b[0;31m---------------------------------------------------------------------------\u001b[0m",
      "\u001b[0;31mNameError\u001b[0m                                 Traceback (most recent call last)",
      "Cell \u001b[0;32mIn[4], line 1\u001b[0m\n\u001b[0;32m----> 1\u001b[0m D, I \u001b[38;5;241m=\u001b[39m \u001b[43mindex\u001b[49m\u001b[38;5;241m.\u001b[39msearch(emb, k\u001b[38;5;241m=\u001b[39m\u001b[38;5;241m5\u001b[39m)  \u001b[38;5;66;03m# search the top 5 similar vectors\u001b[39;00m\n\u001b[1;32m      3\u001b[0m \u001b[38;5;28mprint\u001b[39m(I)  \u001b[38;5;66;03m# indices of the most similar vectors\u001b[39;00m\n\u001b[1;32m      4\u001b[0m \u001b[38;5;28mprint\u001b[39m(D)  \u001b[38;5;66;03m# distances to the most similar vectors\u001b[39;00m\n",
      "\u001b[0;31mNameError\u001b[0m: name 'index' is not defined"
     ]
    }
   ],
   "source": [
    "D, I = index.search(emb, k=5)  # search the top 5 similar vectors\n",
    "\n",
    "print(I)  # indices of the most similar vectors\n",
    "print(D)  # distances to the most similar vectors"
   ]
  }
 ],
 "metadata": {
  "kernelspec": {
   "display_name": "Python 3",
   "language": "python",
   "name": "python3"
  },
  "language_info": {
   "codemirror_mode": {
    "name": "ipython",
    "version": 3
   },
   "file_extension": ".py",
   "mimetype": "text/x-python",
   "name": "python",
   "nbconvert_exporter": "python",
   "pygments_lexer": "ipython3",
   "version": "3.11.0rc1"
  }
 },
 "nbformat": 4,
 "nbformat_minor": 2
}
