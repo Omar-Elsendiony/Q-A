{
 "cells": [
  {
   "cell_type": "code",
   "execution_count": 1,
   "metadata": {},
   "outputs": [],
   "source": [
    "%load_ext autoreload\n",
    "%autoreload 2"
   ]
  },
  {
   "cell_type": "code",
   "execution_count": 1,
   "metadata": {},
   "outputs": [],
   "source": [
    "from bugFixLogic import bugFix"
   ]
  },
  {
   "cell_type": "code",
   "execution_count": 2,
   "metadata": {},
   "outputs": [
    {
     "name": "stdout",
     "output_type": "stream",
     "text": [
      "[['headache', 'pentadactyl'], ['daenarys', 'targaryen'], ['XMJYAUZ', 'MZJAWXU'], ['thisisatest', 'testing123testing']]\n",
      "[['eadac'], ['aary'], ['MJAU'], ['tsitest']]\n",
      "No folder starting with 'FauxPy' found.\n",
      "File '19.txt' copied from 'testcases/BuggyPrograms' to 'testcases/GeneratedTests'.\n",
      "File 'test.py' created in 'testcases/GeneratedTests' with the converted Python code.\n",
      "returned from fault localization\n",
      "\n",
      "0\n",
      "1\n",
      "2\n",
      "3\n",
      "************************************************************\n",
      "************************************************************\n",
      "2500\n",
      "def longest_common_subsequence(a, b):\n",
      "    if not a or not b:\n",
      "        return ''\n",
      "    elif a[0] == b[0]:\n",
      "        return b + longest_common_subsequence(a[1:], b)\n",
      "    else:\n",
      "        return max(longest_common_subsequence(a, b[1:]), longest_common_subsequence(a[1:], b), key=len)\n",
      "def longest_common_subsequence(a, b):\n",
      "    if not a or not b:\n",
      "        return\n",
      "    elif a[0] == b[0]:\n",
      "        return a[0] + longest_common_subsequence(b + 1, a[1:])\n",
      "    else:\n",
      "        return max(longest_common_subsequence(a, b[1:]), longest_common_subsequence(a[1:], b), key=len)\n",
      "def longest_common_subsequence(a, b):\n",
      "    if not a or not b:\n",
      "        return ''\n",
      "    elif a[0] >= b[0]:\n",
      "        return a[0] + longest_common_subsequence(a[1:], b)\n",
      "    else:\n",
      "        return max(longest_common_subsequence(b, a[1:]), longest_common_subsequence(a - 1, b[1:]), key=len)\n",
      "def longest_common_subsequence(a, b):\n",
      "    if not b or not a:\n",
      "        return ''\n",
      "    elif a[0] == b[0]:\n",
      "        return a[0] + longest_common_subsequence(a[1:], b)\n",
      "    else:\n",
      "        return max(longest_common_subsequence(a, b[1:]), longest_common_subsequence(a[1:], b), key=len) + 1\n",
      "def longest_common_subsequence(a, b):\n",
      "    if not a or not b:\n",
      "        return ''\n",
      "    elif a[1] == b[1]:\n",
      "        return a[0] + longest_common_subsequence(a[1:], b + 1)\n",
      "    else:\n",
      "        return max(longest_common_subsequence(a, b[1:]), longest_common_subsequence(a[1:], b), key=len)\n",
      "def longest_common_subsequence(a, b):\n",
      "    if not a or not b:\n",
      "        return ''\n",
      "    elif a[0] >= b[0]:\n",
      "        return\n",
      "    else:\n",
      "        return max(longest_common_subsequence(a, b[1:]), longest_common_subsequence(a[1:], b), key=len)\n",
      "def longest_common_subsequence(a, b):\n",
      "    if not a or not b:\n",
      "        return ''\n",
      "    elif a[0] == b[1]:\n",
      "        return a[0] + longest_common_subsequence(b - 1, a[1:])\n",
      "    else:\n",
      "        return max(longest_common_subsequence(a, b[1:]), longest_common_subsequence(a[1:], b + a), key=len)\n",
      "def longest_common_subsequence(a, b):\n",
      "    if not a or not b:\n",
      "        return ''\n",
      "    elif a[-1] <= b[0]:\n",
      "        return a[0] + longest_common_subsequence(a[1:], b)\n",
      "    else:\n",
      "        return max(longest_common_subsequence(a, b[1:]), longest_common_subsequence(a[0:], b), key=len) + 1\n",
      "def longest_common_subsequence(a, b):\n",
      "    if not a or not b:\n",
      "        return ''\n",
      "    elif a[0] == b[0]:\n",
      "        return a[0] + longest_common_subsequence(a[1:], b)\n",
      "    else:\n",
      "        return max(longest_common_subsequence(a, b[1:]), longest_common_subsequence(a[1:], b), key=b)\n",
      "def longest_common_subsequence(a, b):\n",
      "    if not a or not b:\n",
      "        return '' + 1\n",
      "    elif a[0] == b[0]:\n",
      "        return a[0] + longest_common_subsequence(a[1:], b)\n",
      "    else:\n",
      "        return max(longest_common_subsequence(a, b[1:]), longest_common_subsequence(b[1:], b), key=len)\n"
     ]
    }
   ],
   "source": [
    "bugFix()"
   ]
  }
 ],
 "metadata": {
  "kernelspec": {
   "display_name": "Python 3",
   "language": "python",
   "name": "python3"
  },
  "language_info": {
   "codemirror_mode": {
    "name": "ipython",
    "version": 3
   },
   "file_extension": ".py",
   "mimetype": "text/x-python",
   "name": "python",
   "nbconvert_exporter": "python",
   "pygments_lexer": "ipython3",
   "version": "3.11.0rc1"
  }
 },
 "nbformat": 4,
 "nbformat_minor": 2
}
