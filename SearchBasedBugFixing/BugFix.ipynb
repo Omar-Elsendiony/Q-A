{
 "cells": [
  {
   "cell_type": "code",
   "execution_count": 1,
   "metadata": {},
   "outputs": [],
   "source": [
    "%load_ext autoreload\n",
    "%autoreload 2"
   ]
  },
  {
   "cell_type": "code",
   "execution_count": 1,
   "metadata": {},
   "outputs": [],
   "source": [
    "from bugFixLogic import bugFix"
   ]
  },
  {
   "cell_type": "code",
   "execution_count": 2,
   "metadata": {},
   "outputs": [],
   "source": [
    "import bugFixLogic_indexer as bugFix_indexer"
   ]
  },
  {
   "cell_type": "code",
   "execution_count": 3,
   "metadata": {},
   "outputs": [
    {
     "name": "stdout",
     "output_type": "stream",
     "text": [
      "[[1, 2], [789774, 51515]]\n",
      "[[3], [841289]]\n",
      "No folder starting with 'FauxPy' found.\n",
      "File '2.txt' copied from 'testcases/BuggyPrograms' to 'testcases/GeneratedTests'.\n",
      "File 'test.py' created in 'testcases/GeneratedTests' with the converted Python code.\n",
      "returned from fault localization\n",
      "\n",
      "0\n",
      "************************************************************\n",
      "def add(x: int, y: int) -> int:\n",
      "    return x + y\n",
      "************************************************************\n",
      "25\n",
      "def add(x: int, y: int) -> int:\n",
      "    return x - int\n",
      "def add(x: x, y: int) -> int:\n",
      "    return x - y\n",
      "def add(x: int, y: int) -> int:\n",
      "    return x - int\n",
      "def add(x: int, y: y) -> int:\n",
      "    return x - y\n",
      "def add(x: int, y: int) -> int:\n",
      "    return x - y\n",
      "def add(x: int, y: int) -> int:\n",
      "    return x - y + 1\n",
      "def add(x: int, y: int) -> int:\n",
      "    return x - y + 1\n",
      "def add(x: int, y: int) -> int:\n",
      "    return y - y\n",
      "def add(x: int, y: int) -> int:\n",
      "    return int - y\n",
      "def add(x: int, y: int) -> int:\n",
      "    return x - y - 1\n"
     ]
    }
   ],
   "source": [
    "bugFix_indexer.bugFix()"
   ]
  },
  {
   "cell_type": "code",
   "execution_count": 2,
   "metadata": {},
   "outputs": [
    {
     "name": "stdout",
     "output_type": "stream",
     "text": [
      "[['meow', 'homeowner'], ['cyborg', 'cyber']]\n",
      "[[4], [3]]\n",
      "The folder 'FauxPyReport_SearchBasedBugFixing_sbfl_statement_2024_05_25_19_45_51_546000' has been deleted.\n",
      "File '18.txt' copied from 'testcases/BuggyPrograms' to 'testcases/GeneratedTests'.\n",
      "File 'test.py' created in 'testcases/GeneratedTests' with the converted Python code.\n",
      "returned from fault localization\n",
      "\n",
      "0\n",
      "1\n",
      "2\n",
      "3\n",
      "************************************************************\n",
      "************************************************************\n",
      "5000\n",
      "def lcs_length(s, t):\n",
      "    from collections import Counter\n",
      "    dp = Counter()\n",
      "    for i in range(len(s)):\n",
      "        for j in range(len(t)):\n",
      "            if s[i] == t[j]:\n",
      "                dp[i, j] = dp[i - 1, j] + 1\n",
      "    from collections import Counter\n",
      "def lcs_length(s, t):\n",
      "    from collections import Counter\n",
      "\n",
      "    dp = Counter()\n",
      "\n",
      "    for i in range(len(s)):\n",
      "        for j in range(len(t)):\n",
      "            if s[i] == t[j]:\n",
      "                dp[i, j] = dp[i - 1, j] + 1\n",
      "\n",
      "    return max(dp.values()) if dp else 0\n",
      "def lcs_length(s, t):\n",
      "    from collections import Counter\n",
      "\n",
      "    dp = Counter()\n",
      "\n",
      "    for i in range(len(s)):\n",
      "        for j in range(len(t)):\n",
      "            if s[i] == t[j]:\n",
      "                dp[i, j] = dp[i - 1, j] + 1\n",
      "\n",
      "    return max(dp.values()) if dp else 0\n",
      "def lcs_length(s, t):\n",
      "    from collections import Counter\n",
      "\n",
      "    dp = Counter()\n",
      "\n",
      "    for i in range(len(s)):\n",
      "        for j in range(len(t)):\n",
      "            if s[i] == t[j]:\n",
      "                dp[i, j] = dp[i - 1, j] + 1\n",
      "\n",
      "    return max(dp.values()) if dp else 0\n",
      "def lcs_length(s, t):\n",
      "    from collections import Counter\n",
      "\n",
      "    dp = Counter()\n",
      "\n",
      "    for i in range(len(s)):\n",
      "        for j in range(len(t)):\n",
      "            if s[i] == t[j]:\n",
      "                dp[i, j] = dp[i - 1, j] + 1\n",
      "\n",
      "    return max(dp.values()) if dp else 0\n",
      "def lcs_length(s, t):\n",
      "    from collections import Counter\n",
      "\n",
      "    dp = Counter()\n",
      "\n",
      "    for i in range(len(s)):\n",
      "        for j in range(len(t)):\n",
      "            if s[i] == t[j]:\n",
      "                dp[i, j] = dp[i - 1, j] + 1\n",
      "\n",
      "    return max(dp.values()) if dp else 0\n",
      "def lcs_length(s, t):\n",
      "    from collections import Counter\n",
      "\n",
      "    dp = Counter()\n",
      "\n",
      "    for i in range(len(s)):\n",
      "        for j in range(len(t)):\n",
      "            if s[i] == t[j]:\n",
      "                dp[i, j] = dp[i - 1, j] + 1\n",
      "\n",
      "    return max(dp.values()) if dp else 0\n",
      "def lcs_length(s, t):\n",
      "    from collections import Counter\n",
      "\n",
      "    dp = Counter()\n",
      "\n",
      "    for i in range(len(s)):\n",
      "        for j in range(len(t)):\n",
      "            if s[i] == t[j]:\n",
      "                dp[i, j] = dp[i - 1, j] + 1\n",
      "\n",
      "    return max(dp.values()) if dp else 0\n",
      "def lcs_length(s, t):\n",
      "    from collections import Counter\n",
      "\n",
      "    dp = Counter()\n",
      "\n",
      "    for i in range(len(s)):\n",
      "        for j in range(len(t)):\n",
      "            if s[i] == t[j]:\n",
      "                dp[i, j] = dp[i - 1, j] + 1\n",
      "\n",
      "    return max(dp.values()) if dp else 0\n",
      "def lcs_length(s, t):\n",
      "    from collections import Counter\n",
      "    dp = Counter()\n",
      "    for i in range(len(s)):\n",
      "        for j in range(len(t)):\n",
      "            if s[i] == t[j]:\n",
      "                dp[i, j] = dp[i - 1, j] + 1\n",
      "    return max(dp.values()) if dp else 0\n"
     ]
    }
   ],
   "source": [
    "bugFix()"
   ]
  },
  {
   "cell_type": "code",
   "execution_count": null,
   "metadata": {},
   "outputs": [
    {
     "ename": "",
     "evalue": "",
     "output_type": "error",
     "traceback": [
      "\u001b[1;31mThe Kernel crashed while executing code in the current cell or a previous cell. \n",
      "\u001b[1;31mPlease review the code in the cell(s) to identify a possible cause of the failure. \n",
      "\u001b[1;31mClick <a href='https://aka.ms/vscodeJupyterKernelCrash'>here</a> for more info. \n",
      "\u001b[1;31mView Jupyter <a href='command:jupyter.viewOutput'>log</a> for further details."
     ]
    }
   ],
   "source": [
    "# read faiss index and query\n",
    "\n",
    "import numpy as np\n",
    "import faiss\n",
    "\n",
    "# Load the index\n",
    "index = faiss.read_index('../hnsw_index.index')\n",
    "\n",
    "# Assume we have a numpy array `xq` for querying\n",
    "# xq = np.array([[1, 1, 1], [2, 2, 2], [3, 3, 3]], dtype=np.float32)\n",
    "\n",
    "# Perform a search\n",
    "# D, I = index.search(xq, k=5)  # search the top 5 similar vectors\n",
    "\n",
    "# print(I)  # indices of the most similar vectors\n",
    "# print(D)  # distances to the most similar vectors"
   ]
  },
  {
   "cell_type": "code",
   "execution_count": 16,
   "metadata": {},
   "outputs": [],
   "source": [
    "import torch\n",
    "from unixcoder import UniXcoder\n",
    "import numpy as np\n",
    "DEVICE = torch.device(\"cpu\")\n",
    "model = UniXcoder(\"microsoft/unixcoder-base\")\n",
    "model.to(DEVICE)\n",
    "\n",
    "#returns numpy array of embeddings\n",
    "def get_embeddings(model,tokens,device=DEVICE):\n",
    "  tokens_ids = model.tokenize([tokens],max_length=512,mode=\"<encoder-only>\")\n",
    "  source_ids = torch.tensor(tokens_ids).to(device)\n",
    "  _,embeddings = model(source_ids)\n",
    "  return embeddings.detach()"
   ]
  },
  {
   "cell_type": "code",
   "execution_count": null,
   "metadata": {},
   "outputs": [],
   "source": [
    "from torch.utils.data import DataLoader\n",
    "\n",
    "def batch_tokenize(token_list, max_length=512, mode=\"<encoder-only>\"):\n",
    "    # Tokenize multiple tokens in batches\n",
    "    token_ids = model.tokenize(token_list, max_length=max_length, mode=mode)\n",
    "    return torch.tensor(token_ids)\n",
    "\n",
    "def fitness_bug_code(tokens_list, device=DEVICE, batch_size=64):\n",
    "    dataloader = DataLoader(tokens_list, batch_size=batch_size)\n",
    "    distances = []\n",
    "    for batch_tokens in dataloader:\n",
    "        token_ids = batch_tokenize(batch_tokens).to(device)\n",
    "        _, embeddings = model(token_ids)\n",
    "        distances.append(embeddings.detach().cpu())\n",
    "    distances = torch.cat(distances)\n",
    "    D, I = index.search(distances, k=1)\n",
    "    return D"
   ]
  },
  {
   "cell_type": "code",
   "execution_count": 17,
   "metadata": {},
   "outputs": [],
   "source": [
    "emb = get_embeddings(model,\"print(y)\")"
   ]
  },
  {
   "cell_type": "code",
   "execution_count": null,
   "metadata": {},
   "outputs": [
    {
     "ename": "NameError",
     "evalue": "name 'index' is not defined",
     "output_type": "error",
     "traceback": [
      "\u001b[0;31m---------------------------------------------------------------------------\u001b[0m",
      "\u001b[0;31mNameError\u001b[0m                                 Traceback (most recent call last)",
      "Cell \u001b[0;32mIn[4], line 1\u001b[0m\n\u001b[0;32m----> 1\u001b[0m D, I \u001b[38;5;241m=\u001b[39m \u001b[43mindex\u001b[49m\u001b[38;5;241m.\u001b[39msearch(emb, k\u001b[38;5;241m=\u001b[39m\u001b[38;5;241m5\u001b[39m)  \u001b[38;5;66;03m# search the top 5 similar vectors\u001b[39;00m\n\u001b[1;32m      3\u001b[0m \u001b[38;5;28mprint\u001b[39m(I)  \u001b[38;5;66;03m# indices of the most similar vectors\u001b[39;00m\n\u001b[1;32m      4\u001b[0m \u001b[38;5;28mprint\u001b[39m(D)  \u001b[38;5;66;03m# distances to the most similar vectors\u001b[39;00m\n",
      "\u001b[0;31mNameError\u001b[0m: name 'index' is not defined"
     ]
    }
   ],
   "source": [
    "D, I = index.search(emb, k=5)  # search the top 5 similar vectors\n",
    "\n",
    "print(I)  # indices of the most similar vectors\n",
    "print(D)  # distances to the most similar vectors"
   ]
  }
 ],
 "metadata": {
  "kernelspec": {
   "display_name": "Python 3",
   "language": "python",
   "name": "python3"
  },
  "language_info": {
   "codemirror_mode": {
    "name": "ipython",
    "version": 3
   },
   "file_extension": ".py",
   "mimetype": "text/x-python",
   "name": "python",
   "nbconvert_exporter": "python",
   "pygments_lexer": "ipython3",
   "version": "3.11.0rc1"
  }
 },
 "nbformat": 4,
 "nbformat_minor": 2
}
