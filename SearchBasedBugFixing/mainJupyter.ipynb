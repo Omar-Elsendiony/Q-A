{
 "cells": [
  {
   "cell_type": "code",
   "execution_count": 5,
   "metadata": {},
   "outputs": [],
   "source": [
    "%load_ext autoreload\n",
    "%autoreload 2"
   ]
  },
  {
   "cell_type": "code",
   "execution_count": 2,
   "metadata": {},
   "outputs": [
    {
     "name": "stdout",
     "output_type": "stream",
     "text": [
      "{'', 'arr', 'len', 'NUM', '==', 'if', 'return'}\n",
      "{'if': [1], 'len': [4], '(': [7], 'arr': [8, 34], ')': [11], '==': [13], 'NUM': [16], 'return': [27]}\n"
     ]
    },
    {
     "data": {
      "text/plain": [
       "(['COD', 'MER', 'COI', 'CNR', 'RER'],\n",
       " [0.01, 1, 1, 1, 1],\n",
       " ['if', '==', 'if', 'NUM', 'return'])"
      ]
     },
     "execution_count": 2,
     "metadata": {},
     "output_type": "execute_result"
    }
   ],
   "source": [
    "import utils\n",
    "import ast\n",
    "\n",
    "\n",
    "line = \"\"\"if len(arr) == 0:\n",
    "        return arr\"\"\"\n",
    "# print(ast.dump(ast.parse(line), indent = 4))\n",
    "l, s = utils.segmentLine(line)\n",
    "print(l)\n",
    "print(s)\n",
    "utils.mutationsCanBeApplied(l)\n",
    "# print(uc)\n",
    "\n",
    "# las = [9,0,99]\n",
    "# las.extend([])\n",
    "# print(las)\n",
    "# htt = [6,1,]\n",
    "# print(list(htt))"
   ]
  },
  {
   "cell_type": "code",
   "execution_count": 3,
   "metadata": {},
   "outputs": [],
   "source": [
    "# import subprocess\n",
    "# subprocess.run([\"python3\", \"-m\", \"pytest\", f\"{test_path}\", \"--src\", f\"{src_path}\", \"--family\", \"sbfl\", \"--granularity\", \"statement\", \"--top-n\" , \"25\"], stderr=subprocess.PIPE, stdout=subprocess.PIPE)"
   ]
  },
  {
   "cell_type": "code",
   "execution_count": 8,
   "metadata": {},
   "outputs": [
    {
     "name": "stdout",
     "output_type": "stream",
     "text": [
      "inputs(input_1,input_2,)\n"
     ]
    },
    {
     "data": {
      "text/plain": [
       "'None'"
      ]
     },
     "execution_count": 8,
     "metadata": {},
     "output_type": "execute_result"
    }
   ],
   "source": [
    "x = f'input_1'\n",
    "y = 'input_2'\n",
    "xx =[]\n",
    "xx.append(x)\n",
    "xx.append(y)\n",
    "final = \"\"\n",
    "for i in range(2):\n",
    "    final += str(xx[i]) + ','\n",
    "    # xx.append(f'input_{i+3}')\n",
    "x = f'inputs({final})'\n",
    "print(x)\n",
    "str(None)"
   ]
  },
  {
   "cell_type": "code",
   "execution_count": 5,
   "metadata": {},
   "outputs": [
    {
     "data": {
      "text/plain": [
       "5.0"
      ]
     },
     "execution_count": 5,
     "metadata": {},
     "output_type": "execute_result"
    }
   ],
   "source": [
    "float('5')"
   ]
  },
  {
   "cell_type": "code",
   "execution_count": 7,
   "metadata": {},
   "outputs": [
    {
     "data": {
      "text/plain": [
       "(8, 9)"
      ]
     },
     "execution_count": 7,
     "metadata": {},
     "output_type": "execute_result"
    }
   ],
   "source": [
    "\n",
    "eval('(8, 9)')"
   ]
  },
  {
   "cell_type": "code",
   "execution_count": 12,
   "metadata": {},
   "outputs": [
    {
     "name": "stdout",
     "output_type": "stream",
     "text": [
      "Module(\n",
      "    body=[\n",
      "        AugAssign(\n",
      "            target=Name(id='x', ctx=Store()),\n",
      "            op=RShift(),\n",
      "            value=Name(id='a', ctx=Load()))],\n",
      "    type_ignores=[])\n"
     ]
    }
   ],
   "source": [
    "import ast\n",
    "gt  = \"x >>= a\"\n",
    "# gt  = \"x(a, n)\"\n",
    "llm = ast.parse(gt)\n",
    "print(ast.dump(llm, indent = 4))"
   ]
  },
  {
   "cell_type": "code",
   "execution_count": 6,
   "metadata": {},
   "outputs": [
    {
     "data": {
      "text/plain": [
       "True"
      ]
     },
     "execution_count": 6,
     "metadata": {},
     "output_type": "execute_result"
    }
   ],
   "source": [
    "5 == 5.0"
   ]
  },
  {
   "cell_type": "code",
   "execution_count": 2,
   "metadata": {},
   "outputs": [
    {
     "name": "stderr",
     "output_type": "stream",
     "text": [
      "/usr/local/lib/python3.10/dist-packages/tqdm/auto.py:21: TqdmWarning: IProgress not found. Please update jupyter and ipywidgets. See https://ipywidgets.readthedocs.io/en/stable/user_install.html\n",
      "  from .autonotebook import tqdm as notebook_tqdm\n",
      "Downloading data: 100%|██████████| 94.2k/94.2k [00:00<00:00, 137kB/s]\n",
      "Generating train split: 100%|██████████| 40/40 [00:00<00:00, 1507.51 examples/s]\n"
     ]
    }
   ],
   "source": [
    "from datasets import load_dataset\n",
    "\n",
    "dataset = load_dataset(\"Muennighoff/quixbugs\")"
   ]
  },
  {
   "cell_type": "code",
   "execution_count": 9,
   "metadata": {},
   "outputs": [
    {
     "data": {
      "text/plain": [
       "{'name': 'breadth_first_search',\n",
       " 'buggy_program': 'from collections import deque as Queue\\n\\ndef breadth_first_search(startnode, goalnode):\\n    queue = Queue()\\n    queue.append(startnode)\\n\\n    nodesseen = set()\\n    nodesseen.add(startnode)\\n\\n    while True:\\n        node = queue.popleft()\\n\\n        if node is goalnode:\\n            return True\\n        else:\\n            queue.extend(node for node in node.successors if node not in nodesseen)\\n            nodesseen.update(node.successors)\\n\\n    return False',\n",
       " 'docstring': '\"\"\"\\nBreadth-First Search\\n\\n\\nInput:\\n    startnode: A digraph node\\n    goalnode: A digraph node\\n\\nOutput:\\n    Whether goalnode is reachable from startnode\\n\"\"\"',\n",
       " 'solution': 'from collections import deque as Queue\\n\\ndef breadth_first_search(startnode, goalnode):\\n    queue = Queue()\\n    queue.append(startnode)\\n\\n    nodesseen = set()\\n    nodesseen.add(startnode)\\n\\n    while queue:\\n        node = queue.popleft()\\n\\n        if node is goalnode:\\n            return True\\n        else:\\n            queue.extend(node for node in node.successors if node not in nodesseen)\\n            nodesseen.update(node.successors)\\n\\n    return False',\n",
       " 'tests': 'class Node:\\n    def __init__(\\n        self,\\n        value=None,\\n        successor=None,\\n        successors=[],\\n        predecessors=[],\\n        incoming_nodes=[],\\n        outgoing_nodes=[],\\n    ):\\n        self.value = value\\n        self.successor = successor\\n        self.successors = successors\\n        self.predecessors = predecessors\\n        self.incoming_nodes = incoming_nodes\\n        self.outgoing_nodes = outgoing_nodes\\n\\ndef test1():\\n    \"\"\"Case 1: Strongly connected graph\\n    Output: Path found!\\n    \"\"\"\\n\\n    station1 = Node(\"Westminster\")\\n    station2 = Node(\"Waterloo\", None, [station1])\\n    station3 = Node(\"Trafalgar Square\", None, [station1, station2])\\n    station4 = Node(\"Canary Wharf\", None, [station2, station3])\\n    station5 = Node(\"London Bridge\", None, [station4, station3])\\n    station6 = Node(\"Tottenham Court Road\", None, [station5, station4])\\n\\n    path_found = breadth_first_search(station6, station1)\\n\\n    assert path_found\\n\\n\\ndef test2():\\n    \"\"\"Case 2: Branching graph\\n    Output: Path found!\\n    \"\"\"\\n\\n    nodef = Node(\"F\")\\n    nodee = Node(\"E\")\\n    noded = Node(\"D\")\\n    nodec = Node(\"C\", None, [nodef])\\n    nodeb = Node(\"B\", None, [nodee])\\n    nodea = Node(\"A\", None, [nodeb, nodec, noded])\\n\\n    path_found = breadth_first_search(nodea, nodee)\\n\\n    assert path_found\\n\\n\\ndef test3():\\n    \"\"\"Case 3: Two unconnected nodes in graph\\n    Output: Path not found\\n    \"\"\"\\n\\n    nodef = Node(\"F\")\\n    nodee = Node(\"E\")\\n\\n    path_found = breadth_first_search(nodef, nodee)\\n\\n    assert not path_found\\n\\n\\ndef test4():\\n    \"\"\"Case 4: One node graph\\n    Output: Path found!\\n    \"\"\"\\n\\n    nodef = Node(\"F\")\\n\\n    path_found = breadth_first_search(nodef, nodef)\\n\\n    assert path_found\\n\\n\\ndef test5():\\n    \"\"\"Case 5: Graph with cycles\\n    Output: Path found!\\n    \"\"\"\\n\\n    nodef = Node(\"F\")\\n    nodee = Node(\"E\")\\n    noded = Node(\"D\")\\n    nodec = Node(\"C\", None, [nodef])\\n    nodeb = Node(\"B\", None, [nodee])\\n    nodea = Node(\"A\", None, [nodeb, nodec, noded])\\n\\n    nodee.successors = [nodea]\\n\\n    path_found = breadth_first_search(nodea, nodef)\\n\\n    assert path_found\\n\\ntest1()\\ntest2()\\ntest3()\\ntest4()\\ntest5()\\n'}"
      ]
     },
     "execution_count": 9,
     "metadata": {},
     "output_type": "execute_result"
    }
   ],
   "source": [
    "# print(type(dataset))\n",
    "dataset['train'][1]"
   ]
  },
  {
   "cell_type": "code",
   "execution_count": 15,
   "metadata": {},
   "outputs": [],
   "source": [
    "import json\n",
    "datasetJSON = []\n",
    "for d in dataset['train']:\n",
    "    # write in json file the contents\n",
    "    datasetJSON.append(d)\n",
    "with open('dataset.json', 'w') as f:\n",
    "    json.dump(datasetJSON, f, indent = 4)\n",
    "\n",
    "\n"
   ]
  },
  {
   "cell_type": "code",
   "execution_count": 8,
   "metadata": {},
   "outputs": [
    {
     "name": "stdout",
     "output_type": "stream",
     "text": [
      "def levenshtein(source, target):\n",
      "    if source == '' or target == '':\n",
      "        return len(source) or len(target)\n",
      "\n",
      "    elif source[0] == target[0]:\n",
      "        return levenshtein(source[1:], target[1:])\n",
      "\n",
      "    else:\n",
      "        return 1 + min(\n",
      "            levenshtein(source,     target[1:]),\n",
      "            levenshtein(source[1:], target[1:]),\n",
      "            levenshtein(source[1:], target)\n",
      "        )\n"
     ]
    }
   ],
   "source": [
    "print(\"def levenshtein(source, target):\\n    if source == '' or target == '':\\n        return len(source) or len(target)\\n\\n    elif source[0] == target[0]:\\n        return levenshtein(source[1:], target[1:])\\n\\n    else:\\n        return 1 + min(\\n            levenshtein(source,     target[1:]),\\n            levenshtein(source[1:], target[1:]),\\n            levenshtein(source[1:], target)\\n        )\")"
   ]
  },
  {
   "cell_type": "code",
   "execution_count": 12,
   "metadata": {},
   "outputs": [
    {
     "name": "stdout",
     "output_type": "stream",
     "text": [
      "3\n"
     ]
    }
   ],
   "source": [
    "def levenshtein(source, target):\n",
    "    if source == '' or target == '':\n",
    "        return len(source) or len(target)\n",
    "\n",
    "    elif source[0] == target[0]:\n",
    "        return levenshtein(source[1:], target[1:])\n",
    "\n",
    "    else:\n",
    "        return 1 + min(\n",
    "            levenshtein(source,     target[1:]),\n",
    "            levenshtein(source[1:], target[1:]),\n",
    "            levenshtein(source[1:], target)\n",
    "        )\n",
    "input_0 = \"electron\"\n",
    "input_1 = \"neutron\"\n",
    "\n",
    "res = levenshtein(input_0,input_1,)\n",
    "\n",
    "print(res)"
   ]
  },
  {
   "cell_type": "code",
   "execution_count": 5,
   "metadata": {},
   "outputs": [
    {
     "name": "stdout",
     "output_type": "stream",
     "text": [
      "def lis(arr):\n",
      "    ends = {}\n",
      "    longest = 0\n",
      "\n",
      "    for i, val in enumerate(arr):\n",
      "\n",
      "        prefix_lengths = [j for j in range(1, longest + 1) if arr[ends[j]] < val]\n",
      "\n",
      "        length = max(prefix_lengths) if prefix_lengths else 0\n",
      "\n",
      "        if length == longest or val < arr[ends[length + 1]]:\n",
      "            ends[length + 1] = i\n",
      "            longest = length + 1\n",
      "\n",
      "    return longest\n"
     ]
    }
   ],
   "source": [
    "print('def lis(arr):\\n    ends = {}\\n    longest = 0\\n\\n    for i, val in enumerate(arr):\\n\\n        prefix_lengths = [j for j in range(1, longest + 1) if arr[ends[j]] < val]\\n\\n        length = max(prefix_lengths) if prefix_lengths else 0\\n\\n        if length == longest or val < arr[ends[length + 1]]:\\n            ends[length + 1] = i\\n            longest = length + 1\\n\\n    return longest')"
   ]
  },
  {
   "cell_type": "code",
   "execution_count": 7,
   "metadata": {},
   "outputs": [
    {
     "name": "stdout",
     "output_type": "stream",
     "text": [
      "def mergesort(arr):\n",
      "    def merge(left, right):\n",
      "        result = []\n",
      "        i = 0\n",
      "        j = 0\n",
      "        while i < len(left) and j < len(right):\n",
      "            if left[i] <= right[j]:\n",
      "                result.append(left[i])\n",
      "                i += 1\n",
      "            else:\n",
      "                result.append(right[j])\n",
      "                j += 1\n",
      "        result.extend(left[i:] or right[j:])\n",
      "        return result\n",
      "\n",
      "    if len(arr) == 0:\n",
      "        return arr\n",
      "    else:\n",
      "        middle = len(arr) // 2\n",
      "        left = mergesort(arr[:middle])\n",
      "        right = mergesort(arr[middle:])\n",
      "        return merge(left, right)\n"
     ]
    }
   ],
   "source": [
    "print('def mergesort(arr):\\n    def merge(left, right):\\n        result = []\\n        i = 0\\n        j = 0\\n        while i < len(left) and j < len(right):\\n            if left[i] <= right[j]:\\n                result.append(left[i])\\n                i += 1\\n            else:\\n                result.append(right[j])\\n                j += 1\\n        result.extend(left[i:] or right[j:])\\n        return result\\n\\n    if len(arr) == 0:\\n        return arr\\n    else:\\n        middle = len(arr) // 2\\n        left = mergesort(arr[:middle])\\n        right = mergesort(arr[middle:])\\n        return merge(left, right)')"
   ]
  },
  {
   "cell_type": "code",
   "execution_count": 8,
   "metadata": {},
   "outputs": [
    {
     "name": "stdout",
     "output_type": "stream",
     "text": [
      "def levenshtein(source, target):\n",
      "    if source == '' or target == '':\n",
      "        return len(source) or len(target)\n",
      "\n",
      "    elif source[0] == target[0]:\n",
      "        return levenshtein(source[1:], target[1:])\n",
      "\n",
      "    else:\n",
      "        return 1 + min(\n",
      "            levenshtein(source,     target[1:]),\n",
      "            levenshtein(source[1:], target[1:]),\n",
      "            levenshtein(source[1:], target)\n",
      "        )\n"
     ]
    }
   ],
   "source": [
    "print(\"def levenshtein(source, target):\\n    if source == '' or target == '':\\n        return len(source) or len(target)\\n\\n    elif source[0] == target[0]:\\n        return levenshtein(source[1:], target[1:])\\n\\n    else:\\n        return 1 + min(\\n            levenshtein(source,     target[1:]),\\n            levenshtein(source[1:], target[1:]),\\n            levenshtein(source[1:], target)\\n        )\")"
   ]
  },
  {
   "cell_type": "code",
   "execution_count": 3,
   "metadata": {},
   "outputs": [],
   "source": [
    "def lcs_length(s, t):\n",
    "    from collections import Counter\n",
    "    dp = Counter()\n",
    "    for i in range(len(s)):\n",
    "        for j in range(len(t)):\n",
    "            if s[i] == t[j]:\n",
    "                dp[i, j] = dp[i - 1, j] + 1\n",
    "                (max(dp.values()) if dp else 0) - 1"
   ]
  },
  {
   "cell_type": "code",
   "execution_count": 7,
   "metadata": {},
   "outputs": [
    {
     "name": "stdout",
     "output_type": "stream",
     "text": [
      "Module(\n",
      "    body=[\n",
      "        If(\n",
      "            test=Compare(\n",
      "                left=Name(id='y', ctx=Load()),\n",
      "                ops=[\n",
      "                    Eq()],\n",
      "                comparators=[\n",
      "                    Constant(value=2)]),\n",
      "            body=[\n",
      "                Return()],\n",
      "            orelse=[])],\n",
      "    type_ignores=[])\n"
     ]
    }
   ],
   "source": [
    "import ast\n",
    "astff = \"\"\"\n",
    "if y == 2:\n",
    "    return\n",
    "\"\"\"\n",
    "p = ast.parse(astff)\n",
    "print(ast.dump(p, indent = 4))"
   ]
  },
  {
   "cell_type": "code",
   "execution_count": 12,
   "metadata": {},
   "outputs": [
    {
     "ename": "TypeError",
     "evalue": "tuple expected at most 1 argument, got 2",
     "output_type": "error",
     "traceback": [
      "\u001b[0;31m---------------------------------------------------------------------------\u001b[0m",
      "\u001b[0;31mTypeError\u001b[0m                                 Traceback (most recent call last)",
      "Cell \u001b[0;32mIn[12], line 3\u001b[0m\n\u001b[1;32m      1\u001b[0m \u001b[38;5;28;01mdef\u001b[39;00m \u001b[38;5;21mh\u001b[39m():\n\u001b[1;32m      2\u001b[0m     \u001b[38;5;28;01mreturn\u001b[39;00m \u001b[38;5;241m1\u001b[39m\n\u001b[0;32m----> 3\u001b[0m f \u001b[38;5;241m=\u001b[39m\u001b[38;5;28;43mtuple\u001b[39;49m\u001b[43m(\u001b[49m\u001b[38;5;241;43m1\u001b[39;49m\u001b[43m,\u001b[49m\u001b[38;5;241;43m2\u001b[39;49m\u001b[43m)\u001b[49m\n\u001b[1;32m      4\u001b[0m \u001b[38;5;66;03m# list then tuple\u001b[39;00m\n\u001b[1;32m      5\u001b[0m \u001b[38;5;28;01massert\u001b[39;00m h() \u001b[38;5;241m==\u001b[39m f\n",
      "\u001b[0;31mTypeError\u001b[0m: tuple expected at most 1 argument, got 2"
     ]
    }
   ],
   "source": [
    "def h():\n",
    "    return 1\n",
    "f =tuple(1,2)\n",
    "# list then tuple\n",
    "assert h() == f"
   ]
  },
  {
   "cell_type": "code",
   "execution_count": 1,
   "metadata": {},
   "outputs": [
    {
     "name": "stdout",
     "output_type": "stream",
     "text": [
      "assert knapsack(*[100, [[60, 10], [50, 8], [20, 4], [20, 4], [8, 3], [3, 2]]]) == 19\n",
      "assert knapsack(*[40, [[30, 10], [50, 5], [10, 20], [40, 25]]]) == 30\n",
      "assert knapsack(*[750, [[70, 135], [73, 139], [77, 149], [80, 150], [82, 156], [87, 163], [90, 173], [94, 184], [98, 192], [106, 201], [110, 210], [113, 214], [115, 221], [118, 229], [120, 240]]]) == 1458\n",
      "assert knapsack(*[26, [[12, 24], [7, 13], [11, 23], [8, 15], [9, 16]]]) == 51\n",
      "assert knapsack(*[50, [[31, 70], [10, 20], [20, 39], [19, 37], [4, 7], [3, 5], [6, 10]]]) == 107\n",
      "assert knapsack(*[190, [[56, 50], [59, 50], [80, 64], [64, 46], [75, 50], [17, 5]]]) == 150\n",
      "assert knapsack(*[104, [[25, 350], [35, 400], [45, 450], [5, 20], [25, 70], [3, 8], [2, 5], [2, 5]]]) == 900\n",
      "assert knapsack(*[165, [[23, 92], [31, 57], [29, 49], [44, 68], [53, 60], [38, 43], [63, 67], [85, 84], [89, 87], [82, 72]]]) == 309\n",
      "assert knapsack(*[170, [[41, 442], [50, 525], [49, 511], [59, 593], [55, 546], [57, 564], [60, 617]]]) == 1735\n"
     ]
    }
   ],
   "source": [
    "print( \"assert knapsack(*[100, [[60, 10], [50, 8], [20, 4], [20, 4], [8, 3], [3, 2]]]) == 19\\nassert knapsack(*[40, [[30, 10], [50, 5], [10, 20], [40, 25]]]) == 30\\nassert knapsack(*[750, [[70, 135], [73, 139], [77, 149], [80, 150], [82, 156], [87, 163], [90, 173], [94, 184], [98, 192], [106, 201], [110, 210], [113, 214], [115, 221], [118, 229], [120, 240]]]) == 1458\\nassert knapsack(*[26, [[12, 24], [7, 13], [11, 23], [8, 15], [9, 16]]]) == 51\\nassert knapsack(*[50, [[31, 70], [10, 20], [20, 39], [19, 37], [4, 7], [3, 5], [6, 10]]]) == 107\\nassert knapsack(*[190, [[56, 50], [59, 50], [80, 64], [64, 46], [75, 50], [17, 5]]]) == 150\\nassert knapsack(*[104, [[25, 350], [35, 400], [45, 450], [5, 20], [25, 70], [3, 8], [2, 5], [2, 5]]]) == 900\\nassert knapsack(*[165, [[23, 92], [31, 57], [29, 49], [44, 68], [53, 60], [38, 43], [63, 67], [85, 84], [89, 87], [82, 72]]]) == 309\\nassert knapsack(*[170, [[41, 442], [50, 525], [49, 511], [59, 593], [55, 546], [57, 564], [60, 617]]]) == 1735\")"
   ]
  },
  {
   "cell_type": "code",
   "execution_count": 3,
   "metadata": {},
   "outputs": [
    {
     "name": "stdout",
     "output_type": "stream",
     "text": [
      "def lcs_length(s, t):\n",
      "    from collections import Counter\n",
      "\n",
      "    dp = Counter()\n",
      "\n",
      "    for i in range(len(s)):\n",
      "        for j in range(len(t)):\n",
      "            if s[i] == t[j]:\n",
      "                dp[i, j] = dp[i - 1, j] + 1\n",
      "\n",
      "    return max(dp.values()) if dp else 0\n"
     ]
    }
   ],
   "source": [
    "p = \"def lcs_length(s, t):\\n    from collections import Counter\\n\\n    dp = Counter()\\n\\n    for i in range(len(s)):\\n        for j in range(len(t)):\\n            if s[i] == t[j]:\\n                dp[i, j] = dp[i - 1, j] + 1\\n\\n    return max(dp.values()) if dp else 0\"\n",
    "print(p)"
   ]
  },
  {
   "cell_type": "code",
   "execution_count": 4,
   "metadata": {},
   "outputs": [
    {
     "name": "stdout",
     "output_type": "stream",
     "text": [
      "def lcs_length(s, t):\n",
      "    from collections import Counter\n",
      "\n",
      "    dp = Counter()\n",
      "\n",
      "    for i in range(len(s)):\n",
      "        for j in range(len(t)):\n",
      "            if s[i] == t[j]:\n",
      "                dp[i, j] = dp[i - 1, j - 1] + 1\n",
      "\n",
      "    return max(dp.values()) if dp else 0\n"
     ]
    }
   ],
   "source": [
    "sol = \"def lcs_length(s, t):\\n    from collections import Counter\\n\\n    dp = Counter()\\n\\n    for i in range(len(s)):\\n        for j in range(len(t)):\\n            if s[i] == t[j]:\\n                dp[i, j] = dp[i - 1, j - 1] + 1\\n\\n    return max(dp.values()) if dp else 0\"\n",
    "print(sol)"
   ]
  },
  {
   "cell_type": "code",
   "execution_count": 6,
   "metadata": {},
   "outputs": [
    {
     "name": "stdout",
     "output_type": "stream",
     "text": [
      "19\n"
     ]
    }
   ],
   "source": [
    "def infinite_loop(number):\n",
    "    k = 0\n",
    "    while number > 0:\n",
    "        k += 1\n",
    "        number -= 1  # Decrease number by 1\n",
    "    return k\n",
    "\n",
    "testcase = 19\n",
    "res = infinite_loop(19)\n",
    "\n",
    "print(res)"
   ]
  },
  {
   "cell_type": "code",
   "execution_count": 6,
   "metadata": {},
   "outputs": [
    {
     "data": {
      "text/plain": [
       "'def lcs_length(s, t):\\n    from collections import Counter\\n    dp = Counter()\\n    for i in range(len(s)):\\n        for j in range(len(t)):\\n            if s[i] == t[j]:\\n                dp[i, j] = dp[i - 1, j] + 1\\n    return max(dp.values()) if dp else 0'"
      ]
     },
     "execution_count": 6,
     "metadata": {},
     "output_type": "execute_result"
    }
   ],
   "source": [
    "import ast\n",
    "v  = \"\"\"def lcs_length(s, t):\n",
    "    from collections import Counter\n",
    "\n",
    "    dp = Counter()\n",
    "\n",
    "    for i in range(len(s)):\n",
    "        for j in range(len(t)):\n",
    "            if s[i] == t[j]:\n",
    "                dp[i, j] = dp[i - 1, j] + 1\n",
    "\n",
    "    return max(dp.values()) if dp else 0\"\"\"\n",
    "\n",
    "ast.unparse(ast.parse(v))"
   ]
  },
  {
   "cell_type": "code",
   "execution_count": 1,
   "metadata": {},
   "outputs": [
    {
     "name": "stdout",
     "output_type": "stream",
     "text": [
      "def infinite_loop(number):\n",
      "    k = 0\n",
      "    while number > 0:\n",
      "        k += 1\n",
      "        number -= 1  # Decrease number by 1\n",
      "    return k\n",
      "\n",
      "testcase = 19\n",
      "res = infinite_loop(19)\n",
      "\n",
      "print(res)\n"
     ]
    }
   ],
   "source": [
    "print('def infinite_loop(number):\\n    k = 0\\n    while number > 0:\\n        k += 1\\n        number -= 1  # Decrease number by 1\\n    return k\\n\\ntestcase = 19\\nres = infinite_loop(19)\\n\\nprint(res)')"
   ]
  },
  {
   "cell_type": "code",
   "execution_count": 11,
   "metadata": {},
   "outputs": [
    {
     "name": "stdout",
     "output_type": "stream",
     "text": [
      "['s = 1 * 2;', 's = 1 * 2']\n",
      "[]\n",
      "0.006041049957275391\n",
      "False\n",
      "s = 1 * 2\n",
      "s = 1 * 2\n",
      "s = 1 - 2\n",
      "s = 1 * 2\n"
     ]
    }
   ],
   "source": [
    "import ast\n",
    "from operators import *\n",
    "import operators\n",
    "import unparseAST\n",
    "import utils\n",
    "import time\n",
    "\n",
    "def build_name_to_operator_map():\n",
    "    result = {}\n",
    "    for operator in operators.standard_operators | operators.experimental_operators:\n",
    "        result[operator.name()] = operator\n",
    "        # result[operator.long_name()] = operator\n",
    "    return result\n",
    "\n",
    "name_operator = build_name_to_operator_map()\n",
    "\n",
    "\n",
    "\n",
    "import time\n",
    "start = time.time()\n",
    "code = \"\"\"s = 1 * 2;\n",
    "s = 1 * 2\"\"\"\n",
    "\n",
    "codeLines = code.split('\\n')\n",
    "codeLineslst = [] # temporary list to store the code lines\n",
    "codeLinesset = set() # temporary set to store the code lines\n",
    "print(codeLines)\n",
    "for line in codeLines:\n",
    "    codeLineslstX , codeLinessetX, offsets = utils.segmentLine(line) # any variable appended by X is temporary\n",
    "    # codeLineslst.extend(codeLineslstX)\n",
    "    # codeLinesset.update(codeLinessetX)\n",
    "\n",
    "for line in codeLineslst:\n",
    "    print(line)\n",
    "\n",
    "\n",
    "lstMutations, weights = utils.mutationsCanBeApplied(codeLinesset)\n",
    "print(lstMutations)\n",
    "\n",
    "\n",
    "ast_node = ast.parse(code)\n",
    "# print(unparseAST.to_source(ast_node))\n",
    "copied = copyMutation().visit(ast_node)\n",
    "# copy.deepcopy(ast_node)\n",
    "mutant = (AdditionOperatorReplacement(target_node_lineno = 1, code_ast = ast_node)).visitC()\n",
    "mutant = ast.fix_missing_locations(mutant) # after mutation, we need to fix the missing locations\n",
    "# mutant = (BinaryOperatorReplacement(target_node_lineno= 1, code = mutant, operator='SUB')).visitC()\n",
    "# print(ast.dump(mutant, indent=4))\n",
    "# ast_node = copyMutation().visit(copied)\n",
    "span = time.time() - start\n",
    "print(span)\n",
    "print(ast_node is copied)\n",
    "print(unparseAST.to_source(copied))\n",
    "print(unparseAST.to_source(ast_node))\n",
    "\n",
    "\n",
    "# again = ArithmeticOperatorReplacement.printMutatedSet()\n",
    "\n"
   ]
  },
  {
   "cell_type": "code",
   "execution_count": 12,
   "metadata": {},
   "outputs": [
    {
     "name": "stdout",
     "output_type": "stream",
     "text": [
      "\n",
      "for i in range(10):\n",
      "    print(i)\n",
      "\n",
      "\n",
      "\n",
      "\n",
      "\n",
      "\n",
      "if a == 85776474:\n",
      "    print('a is 85776474')\n",
      "\n",
      "a = 1\n"
     ]
    }
   ],
   "source": [
    "# testing removing a statement\n",
    "\n",
    "code=\"\"\"\n",
    "for i in range(10):\n",
    "    print(i)\n",
    "\n",
    "if a == 1:\n",
    "    print(\"a is 1\")\n",
    "else:\n",
    "    print(\"a is not 1\")\n",
    "\n",
    "if a == 85776474:\n",
    "    print(\"a is 85776474\") \n",
    "\n",
    "a = 1\n",
    "\"\"\"\n",
    "\n",
    "class temp(ast.NodeTransformer):\n",
    "    def visit_If(self, node):\n",
    "        if node.lineno == 5:\n",
    "            return None\n",
    "        else:\n",
    "            return node\n",
    "\n",
    "ast_node = ast.parse(code)\n",
    "m = temp().visit(ast_node)\n",
    "res = unparseAST.to_source(m)\n",
    "print(res)"
   ]
  },
  {
   "cell_type": "code",
   "execution_count": 13,
   "metadata": {},
   "outputs": [],
   "source": [
    "# # copy test\n",
    "# import copy\n",
    "# li1 = [1, 2, [3,5], 4]\n",
    "# li2 = copy.copy(li1)\n",
    "# print (\"The original elements before shallow copying\")\n",
    "# for i in range(0,len(li1)):\n",
    "# \tprint (li1[i],end=\" \")\n",
    "\n",
    "# print(\"\\r\")\n",
    "# li2[2][0] = 7\n",
    "# li2[2][1] = 7\n",
    "# li2[1] = 7\n",
    "# print (\"The original elements after shallow copying\")\n",
    "# for i in range(0,len( li1)):\n",
    "# \tprint (li1[i],end=\" \")\n"
   ]
  },
  {
   "cell_type": "code",
   "execution_count": 14,
   "metadata": {},
   "outputs": [
    {
     "name": "stdout",
     "output_type": "stream",
     "text": [
      "['', 'i = 1 == 2']\n",
      "0 0 0\n",
      "[]\n",
      "[]\n",
      "5 5 5\n",
      "['i', '=', '1', '==', '2']\n",
      "[1, 3, 5, 7, 10]\n",
      "**********************************\n",
      "i = 1 != 2\n",
      "**********************************\n",
      "0.002685070037841797\n"
     ]
    }
   ],
   "source": [
    "import ast\n",
    "from operators import *\n",
    "import operators\n",
    "import unparseAST\n",
    "import utils\n",
    "import time\n",
    "import random\n",
    "\n",
    "copier = copyMutation()\n",
    "def getNameToOperatorMap(self):\n",
    "    name_to_operator = utils.build_name_to_operator_map()\n",
    "    return name_to_operator\n",
    "\n",
    "name_to_operator = getNameToOperatorMap(operators)\n",
    "\n",
    "\n",
    "import time\n",
    "start = time.time()\n",
    "code = \"\"\"\n",
    "i = 1 == 2\"\"\"\n",
    "\n",
    "\n",
    "\n",
    "codeLines = code.split('\\n')\n",
    "codeLineslst = [] # temporary list to store the code lines\n",
    "codeLinesset = set() # temporary set to store the code lines\n",
    "print(codeLines) # print the code lines which are a list lines after being split by '\\n'\n",
    "for line in codeLines:\n",
    "    codeLineslstX , codeLinessetX, offsets = utils.segmentLine(line) # any variable appended by X is temporary\n",
    "    # assume know we are going to mutate the code line by line\n",
    "    print(len(codeLineslstX), len(codeLinessetX), len(offsets))\n",
    "    print(codeLineslstX)\n",
    "    print(offsets)\n",
    "    lstMutations, weights = utils.mutationsCanBeApplied(codeLinessetX)\n",
    "    if not lstMutations: # check list is empty or not\n",
    "        continue\n",
    "    choice = random.choices(lstMutations, weights = weights, k=1)[0] # random.choice returns a list, its size determined by k\n",
    "    i = 1\n",
    "    line_ast = ast.parse(line)\n",
    "    if (type(choice) is tuple):\n",
    "        opCode = choice[0]\n",
    "        operator = choice[1]\n",
    "        op = name_to_operator[opCode]\n",
    "        lineParsedOriginal = copier.visit(line_ast)\n",
    "        mutant = op(target_node_lineno = i, code_ast = line_ast, operator = operator).visitC()\n",
    "        mutant = ast.fix_missing_locations(mutant) # after mutation, we need to fix the missing locations\n",
    "        print(\"**********************************\")\n",
    "        print(unparseAST.to_source(mutant))\n",
    "        print(\"**********************************\")\n",
    "    else:\n",
    "        op = name_to_operator[choice]\n",
    "        lineParsedOriginal = copier.visit(line_ast)\n",
    "        line_ast = ast.parse(line)\n",
    "        mutant = op(target_node_lineno = i, code_ast = line_ast).visitC()\n",
    "        mutant = ast.fix_missing_locations(mutant) # after mutation, we need to fix the missing locations\n",
    "        print(\"**********************************\")\n",
    "        print(unparseAST.to_source(mutant))\n",
    "        print(\"**********************************\")\n",
    "    # i+=1\n",
    "\n",
    "\n",
    "\n",
    "faultyLineLocations = [1]\n",
    "# for l in faultyLineLocations:\n",
    "    # print(l)\n",
    "\n",
    "\n",
    "lstMutations, weights = utils.mutationsCanBeApplied(codeLinesset)\n",
    "# print(lstMutations)\n",
    "\n",
    "\n",
    "ast_node = ast.parse(code)\n",
    "# print(unparseAST.to_source(ast_node))\n",
    "copied = copyMutation().visit(ast_node)\n",
    "# copy.deepcopy(ast_node)\n",
    "mutant = (AdditionOperatorReplacement(target_node_lineno = 1, code_ast = ast_node)).visitC()\n",
    "mutant = ast.fix_missing_locations(mutant) # after mutation, we need to fix the missing locations\n",
    "# mutant = (BinaryOperatorReplacement(target_node_lineno= 1, code = mutant, operator='SUB')).visitC()\n",
    "# print(ast.dump(mutant, indent=4))\n",
    "# ast_node = copyMutation().visit(copied)\n",
    "span = time.time() - start\n",
    "print(span)\n",
    "# print(ast_node is copied)\n",
    "# print(unparseAST.to_source(copied))\n",
    "# print(unparseAST.to_source(line_ast))\n",
    "\n",
    "\n",
    "# again = ArithmeticOperatorReplacement.printMutatedSet()\n"
   ]
  },
  {
   "cell_type": "code",
   "execution_count": 15,
   "metadata": {},
   "outputs": [
    {
     "name": "stdout",
     "output_type": "stream",
     "text": [
      "\n",
      "def add(a, b):\n",
      "    return a * b\n",
      "2\n",
      "2\n",
      "1\n"
     ]
    },
    {
     "data": {
      "text/plain": [
       "<joblib.logger.PrintTime at 0x1d16e468a30>"
      ]
     },
     "execution_count": 15,
     "metadata": {},
     "output_type": "execute_result"
    }
   ],
   "source": [
    "import re\n",
    "from typing import List\n",
    "\n",
    "from joblib import PrintTime\n",
    "def passesNegTests(program:str, program_name:str, inputs:List, outputs:List) -> bool:\n",
    "    \"\"\"\n",
    "    Inputs:\n",
    "    program : str :  program to be tested\n",
    "    inputs : List :  inputs to the program\n",
    "    outputs : List :  outputs of the program\n",
    "    \"\"\"\n",
    "    # let's try by capturing the name of the function in regex and the list of names is compared with the name of the function\n",
    "    editedProgram = None\n",
    "    passedTests = 0\n",
    "    function_names = re.findall(r'def\\s+(\\w+)', program)\n",
    "    for name in function_names:\n",
    "        if name == program_name:\n",
    "            # program = re.sub(r'$', f'\\ntestcase = {inputs}', program)\n",
    "            program = re.sub(r'$', f'\\nres = {program_name}', program)\n",
    "            # print(program)\n",
    "            break\n",
    "\n",
    "    for i in range(len(inputs)):\n",
    "        try:\n",
    "            testcase = inputs[i]\n",
    "            program = re.sub(f'\\nres = {program_name}', f'\\n\\ntestcase = {testcase}\\nres = {program_name}', program)\n",
    "            editedProgram = re.sub(f'\\nres = {program_name}', f'\\nres = {program_name}(*testcase)', program)\n",
    "            if (globals().get('res') is not None):\n",
    "                del globals()['res']\n",
    "            exec(editedProgram, globals())\n",
    "            print(res)\n",
    "            if res == outputs[i]:\n",
    "                passedTests += 1\n",
    "        except Exception as e:\n",
    "            print(e)\n",
    "            # return False\n",
    "    return passedTests\n",
    "\n",
    "# Open the file in read mode\n",
    "with open('BuggyProgram.txt', 'r') as file:\n",
    "    # Read the entire content of the file\n",
    "    content = file.read()\n",
    "    print(content)\n",
    "\n",
    "passedTests = passesNegTests(content, 'add', [(1, 2), (1, 2)], [(3), (2)])\n",
    "print(passedTests)\n",
    "PrintTime()\n"
   ]
  },
  {
   "cell_type": "code",
   "execution_count": 21,
   "metadata": {},
   "outputs": [
    {
     "name": "stdout",
     "output_type": "stream",
     "text": [
      "\n",
      "def add(a, b):\n",
      "    return a * b\n"
     ]
    },
    {
     "ename": "AttributeError",
     "evalue": "'NoneType' object has no attribute '_fields'",
     "output_type": "error",
     "traceback": [
      "\u001b[1;31m---------------------------------------------------------------------------\u001b[0m",
      "\u001b[1;31mAttributeError\u001b[0m                            Traceback (most recent call last)",
      "Cell \u001b[1;32mIn[21], line 52\u001b[0m\n\u001b[0;32m     45\u001b[0m \u001b[38;5;66;03m# passedTests = passesNegTests(content, 'add', [(1, 2), (1, 2)], [(3), (2)])\u001b[39;00m\n\u001b[0;32m     46\u001b[0m \u001b[38;5;66;03m# print(passedTests)\u001b[39;00m\n\u001b[0;32m     47\u001b[0m \u001b[38;5;66;03m# ast.dump(ast.parse(content))\u001b[39;00m\n\u001b[0;32m     48\u001b[0m content\u001b[38;5;241m=\u001b[39m\u001b[38;5;124m\"\"\"\u001b[39m\n\u001b[0;32m     49\u001b[0m \u001b[38;5;124mdef add(a, b):\u001b[39m\n\u001b[0;32m     50\u001b[0m \u001b[38;5;124m    return a * b\u001b[39m\n\u001b[0;32m     51\u001b[0m \u001b[38;5;124m\"\"\"\u001b[39m\n\u001b[1;32m---> 52\u001b[0m \u001b[43mcopier\u001b[49m\u001b[38;5;241;43m.\u001b[39;49m\u001b[43mvisit\u001b[49m\u001b[43m(\u001b[49m\u001b[43mast\u001b[49m\u001b[38;5;241;43m.\u001b[39;49m\u001b[43mparse\u001b[49m\u001b[43m(\u001b[49m\u001b[43mcontent\u001b[49m\u001b[43m)\u001b[49m\u001b[43m)\u001b[49m\n",
      "File \u001b[1;32mc:\\Users\\moga\\AppData\\Local\\Programs\\Python\\Python310\\lib\\ast.py:418\u001b[0m, in \u001b[0;36mNodeVisitor.visit\u001b[1;34m(self, node)\u001b[0m\n\u001b[0;32m    416\u001b[0m method \u001b[38;5;241m=\u001b[39m \u001b[38;5;124m'\u001b[39m\u001b[38;5;124mvisit_\u001b[39m\u001b[38;5;124m'\u001b[39m \u001b[38;5;241m+\u001b[39m node\u001b[38;5;241m.\u001b[39m\u001b[38;5;18m__class__\u001b[39m\u001b[38;5;241m.\u001b[39m\u001b[38;5;18m__name__\u001b[39m\n\u001b[0;32m    417\u001b[0m visitor \u001b[38;5;241m=\u001b[39m \u001b[38;5;28mgetattr\u001b[39m(\u001b[38;5;28mself\u001b[39m, method, \u001b[38;5;28mself\u001b[39m\u001b[38;5;241m.\u001b[39mgeneric_visit)\n\u001b[1;32m--> 418\u001b[0m \u001b[38;5;28;01mreturn\u001b[39;00m \u001b[43mvisitor\u001b[49m\u001b[43m(\u001b[49m\u001b[43mnode\u001b[49m\u001b[43m)\u001b[49m\n",
      "File \u001b[1;32mo:\\DriveFiles\\GP_Projects\\Bug-Repair\\Q-A\\MyMutpy\\operators\\copyAST.py:6\u001b[0m, in \u001b[0;36mcopyMutation.visit_Module\u001b[1;34m(self, node)\u001b[0m\n\u001b[0;32m      5\u001b[0m \u001b[38;5;28;01mdef\u001b[39;00m \u001b[38;5;21mvisit_Module\u001b[39m(\u001b[38;5;28mself\u001b[39m, node):\n\u001b[1;32m----> 6\u001b[0m     \u001b[38;5;28;01mreturn\u001b[39;00m ast\u001b[38;5;241m.\u001b[39mcopy_location(ast\u001b[38;5;241m.\u001b[39mModule(body\u001b[38;5;241m=\u001b[39m[\u001b[38;5;28mself\u001b[39m\u001b[38;5;241m.\u001b[39mvisit(x) \u001b[38;5;28;01mfor\u001b[39;00m x \u001b[38;5;129;01min\u001b[39;00m node\u001b[38;5;241m.\u001b[39mbody]), node)\n",
      "File \u001b[1;32mo:\\DriveFiles\\GP_Projects\\Bug-Repair\\Q-A\\MyMutpy\\operators\\copyAST.py:6\u001b[0m, in \u001b[0;36m<listcomp>\u001b[1;34m(.0)\u001b[0m\n\u001b[0;32m      5\u001b[0m \u001b[38;5;28;01mdef\u001b[39;00m \u001b[38;5;21mvisit_Module\u001b[39m(\u001b[38;5;28mself\u001b[39m, node):\n\u001b[1;32m----> 6\u001b[0m     \u001b[38;5;28;01mreturn\u001b[39;00m ast\u001b[38;5;241m.\u001b[39mcopy_location(ast\u001b[38;5;241m.\u001b[39mModule(body\u001b[38;5;241m=\u001b[39m[\u001b[38;5;28;43mself\u001b[39;49m\u001b[38;5;241;43m.\u001b[39;49m\u001b[43mvisit\u001b[49m\u001b[43m(\u001b[49m\u001b[43mx\u001b[49m\u001b[43m)\u001b[49m \u001b[38;5;28;01mfor\u001b[39;00m x \u001b[38;5;129;01min\u001b[39;00m node\u001b[38;5;241m.\u001b[39mbody]), node)\n",
      "File \u001b[1;32mc:\\Users\\moga\\AppData\\Local\\Programs\\Python\\Python310\\lib\\ast.py:418\u001b[0m, in \u001b[0;36mNodeVisitor.visit\u001b[1;34m(self, node)\u001b[0m\n\u001b[0;32m    416\u001b[0m method \u001b[38;5;241m=\u001b[39m \u001b[38;5;124m'\u001b[39m\u001b[38;5;124mvisit_\u001b[39m\u001b[38;5;124m'\u001b[39m \u001b[38;5;241m+\u001b[39m node\u001b[38;5;241m.\u001b[39m\u001b[38;5;18m__class__\u001b[39m\u001b[38;5;241m.\u001b[39m\u001b[38;5;18m__name__\u001b[39m\n\u001b[0;32m    417\u001b[0m visitor \u001b[38;5;241m=\u001b[39m \u001b[38;5;28mgetattr\u001b[39m(\u001b[38;5;28mself\u001b[39m, method, \u001b[38;5;28mself\u001b[39m\u001b[38;5;241m.\u001b[39mgeneric_visit)\n\u001b[1;32m--> 418\u001b[0m \u001b[38;5;28;01mreturn\u001b[39;00m \u001b[43mvisitor\u001b[49m\u001b[43m(\u001b[49m\u001b[43mnode\u001b[49m\u001b[43m)\u001b[49m\n",
      "File \u001b[1;32mo:\\DriveFiles\\GP_Projects\\Bug-Repair\\Q-A\\MyMutpy\\operators\\copyAST.py:90\u001b[0m, in \u001b[0;36mcopyMutation.visit_FunctionDef\u001b[1;34m(self, node)\u001b[0m\n\u001b[0;32m     89\u001b[0m \u001b[38;5;28;01mdef\u001b[39;00m \u001b[38;5;21mvisit_FunctionDef\u001b[39m(\u001b[38;5;28mself\u001b[39m, node):\n\u001b[1;32m---> 90\u001b[0m     \u001b[38;5;28;01mreturn\u001b[39;00m ast\u001b[38;5;241m.\u001b[39mcopy_location(ast\u001b[38;5;241m.\u001b[39mFunctionDef(name\u001b[38;5;241m=\u001b[39mnode\u001b[38;5;241m.\u001b[39mname, args\u001b[38;5;241m=\u001b[39m\u001b[38;5;28;43mself\u001b[39;49m\u001b[38;5;241;43m.\u001b[39;49m\u001b[43mvisit\u001b[49m\u001b[43m(\u001b[49m\u001b[43mnode\u001b[49m\u001b[38;5;241;43m.\u001b[39;49m\u001b[43margs\u001b[49m\u001b[43m)\u001b[49m, body\u001b[38;5;241m=\u001b[39m[\u001b[38;5;28mself\u001b[39m\u001b[38;5;241m.\u001b[39mvisit(x) \u001b[38;5;28;01mfor\u001b[39;00m x \u001b[38;5;129;01min\u001b[39;00m node\u001b[38;5;241m.\u001b[39mbody], decorator_list\u001b[38;5;241m=\u001b[39m[\u001b[38;5;28mself\u001b[39m\u001b[38;5;241m.\u001b[39mvisit(x) \u001b[38;5;28;01mfor\u001b[39;00m x \u001b[38;5;129;01min\u001b[39;00m node\u001b[38;5;241m.\u001b[39mdecorator_list], returns\u001b[38;5;241m=\u001b[39m\u001b[38;5;28mself\u001b[39m\u001b[38;5;241m.\u001b[39mvisit(node\u001b[38;5;241m.\u001b[39mreturns)), node)\n",
      "File \u001b[1;32mc:\\Users\\moga\\AppData\\Local\\Programs\\Python\\Python310\\lib\\ast.py:418\u001b[0m, in \u001b[0;36mNodeVisitor.visit\u001b[1;34m(self, node)\u001b[0m\n\u001b[0;32m    416\u001b[0m method \u001b[38;5;241m=\u001b[39m \u001b[38;5;124m'\u001b[39m\u001b[38;5;124mvisit_\u001b[39m\u001b[38;5;124m'\u001b[39m \u001b[38;5;241m+\u001b[39m node\u001b[38;5;241m.\u001b[39m\u001b[38;5;18m__class__\u001b[39m\u001b[38;5;241m.\u001b[39m\u001b[38;5;18m__name__\u001b[39m\n\u001b[0;32m    417\u001b[0m visitor \u001b[38;5;241m=\u001b[39m \u001b[38;5;28mgetattr\u001b[39m(\u001b[38;5;28mself\u001b[39m, method, \u001b[38;5;28mself\u001b[39m\u001b[38;5;241m.\u001b[39mgeneric_visit)\n\u001b[1;32m--> 418\u001b[0m \u001b[38;5;28;01mreturn\u001b[39;00m \u001b[43mvisitor\u001b[49m\u001b[43m(\u001b[49m\u001b[43mnode\u001b[49m\u001b[43m)\u001b[49m\n",
      "File \u001b[1;32mo:\\DriveFiles\\GP_Projects\\Bug-Repair\\Q-A\\MyMutpy\\operators\\copyAST.py:96\u001b[0m, in \u001b[0;36mcopyMutation.visit_arguments\u001b[1;34m(self, node)\u001b[0m\n\u001b[0;32m     95\u001b[0m \u001b[38;5;28;01mdef\u001b[39;00m \u001b[38;5;21mvisit_arguments\u001b[39m(\u001b[38;5;28mself\u001b[39m, node):\n\u001b[1;32m---> 96\u001b[0m     \u001b[38;5;28;01mreturn\u001b[39;00m ast\u001b[38;5;241m.\u001b[39mcopy_location(ast\u001b[38;5;241m.\u001b[39marguments(posonlyargs\u001b[38;5;241m=\u001b[39m[\u001b[38;5;28mself\u001b[39m\u001b[38;5;241m.\u001b[39mvisit(x) \u001b[38;5;28;01mfor\u001b[39;00m x \u001b[38;5;129;01min\u001b[39;00m node\u001b[38;5;241m.\u001b[39mposonlyargs], args\u001b[38;5;241m=\u001b[39m[\u001b[38;5;28mself\u001b[39m\u001b[38;5;241m.\u001b[39mvisit(x) \u001b[38;5;28;01mfor\u001b[39;00m x \u001b[38;5;129;01min\u001b[39;00m node\u001b[38;5;241m.\u001b[39margs], vararg\u001b[38;5;241m=\u001b[39m\u001b[38;5;28mself\u001b[39m\u001b[38;5;241m.\u001b[39mvisit(node\u001b[38;5;241m.\u001b[39mvararg), kwonlyargs\u001b[38;5;241m=\u001b[39m[\u001b[38;5;28mself\u001b[39m\u001b[38;5;241m.\u001b[39mvisit(x) \u001b[38;5;28;01mfor\u001b[39;00m x \u001b[38;5;129;01min\u001b[39;00m node\u001b[38;5;241m.\u001b[39mkwonlyargs], kw_defaults\u001b[38;5;241m=\u001b[39m[\u001b[38;5;28mself\u001b[39m\u001b[38;5;241m.\u001b[39mvisit(x) \u001b[38;5;28;01mfor\u001b[39;00m x \u001b[38;5;129;01min\u001b[39;00m node\u001b[38;5;241m.\u001b[39mkw_defaults], kwarg\u001b[38;5;241m=\u001b[39m\u001b[38;5;28mself\u001b[39m\u001b[38;5;241m.\u001b[39mvisit(node\u001b[38;5;241m.\u001b[39mkwarg), defaults\u001b[38;5;241m=\u001b[39m[\u001b[38;5;28mself\u001b[39m\u001b[38;5;241m.\u001b[39mvisit(x) \u001b[38;5;28;01mfor\u001b[39;00m x \u001b[38;5;129;01min\u001b[39;00m node\u001b[38;5;241m.\u001b[39mdefaults]), node)\n",
      "File \u001b[1;32mo:\\DriveFiles\\GP_Projects\\Bug-Repair\\Q-A\\MyMutpy\\operators\\copyAST.py:96\u001b[0m, in \u001b[0;36m<listcomp>\u001b[1;34m(.0)\u001b[0m\n\u001b[0;32m     95\u001b[0m \u001b[38;5;28;01mdef\u001b[39;00m \u001b[38;5;21mvisit_arguments\u001b[39m(\u001b[38;5;28mself\u001b[39m, node):\n\u001b[1;32m---> 96\u001b[0m     \u001b[38;5;28;01mreturn\u001b[39;00m ast\u001b[38;5;241m.\u001b[39mcopy_location(ast\u001b[38;5;241m.\u001b[39marguments(posonlyargs\u001b[38;5;241m=\u001b[39m[\u001b[38;5;28mself\u001b[39m\u001b[38;5;241m.\u001b[39mvisit(x) \u001b[38;5;28;01mfor\u001b[39;00m x \u001b[38;5;129;01min\u001b[39;00m node\u001b[38;5;241m.\u001b[39mposonlyargs], args\u001b[38;5;241m=\u001b[39m[\u001b[38;5;28mself\u001b[39m\u001b[38;5;241m.\u001b[39mvisit(x) \u001b[38;5;28;01mfor\u001b[39;00m x \u001b[38;5;129;01min\u001b[39;00m node\u001b[38;5;241m.\u001b[39margs], vararg\u001b[38;5;241m=\u001b[39m\u001b[38;5;28mself\u001b[39m\u001b[38;5;241m.\u001b[39mvisit(node\u001b[38;5;241m.\u001b[39mvararg), kwonlyargs\u001b[38;5;241m=\u001b[39m[\u001b[38;5;28mself\u001b[39m\u001b[38;5;241m.\u001b[39mvisit(x) \u001b[38;5;28;01mfor\u001b[39;00m x \u001b[38;5;129;01min\u001b[39;00m node\u001b[38;5;241m.\u001b[39mkwonlyargs], kw_defaults\u001b[38;5;241m=\u001b[39m[\u001b[38;5;28mself\u001b[39m\u001b[38;5;241m.\u001b[39mvisit(x) \u001b[38;5;28;01mfor\u001b[39;00m x \u001b[38;5;129;01min\u001b[39;00m node\u001b[38;5;241m.\u001b[39mkw_defaults], kwarg\u001b[38;5;241m=\u001b[39m\u001b[38;5;28mself\u001b[39m\u001b[38;5;241m.\u001b[39mvisit(node\u001b[38;5;241m.\u001b[39mkwarg), defaults\u001b[38;5;241m=\u001b[39m[\u001b[38;5;28mself\u001b[39m\u001b[38;5;241m.\u001b[39mvisit(x) \u001b[38;5;28;01mfor\u001b[39;00m x \u001b[38;5;129;01min\u001b[39;00m node\u001b[38;5;241m.\u001b[39mdefaults]), node)\n",
      "File \u001b[1;32mc:\\Users\\moga\\AppData\\Local\\Programs\\Python\\Python310\\lib\\ast.py:418\u001b[0m, in \u001b[0;36mNodeVisitor.visit\u001b[1;34m(self, node)\u001b[0m\n\u001b[0;32m    416\u001b[0m method \u001b[38;5;241m=\u001b[39m \u001b[38;5;124m'\u001b[39m\u001b[38;5;124mvisit_\u001b[39m\u001b[38;5;124m'\u001b[39m \u001b[38;5;241m+\u001b[39m node\u001b[38;5;241m.\u001b[39m\u001b[38;5;18m__class__\u001b[39m\u001b[38;5;241m.\u001b[39m\u001b[38;5;18m__name__\u001b[39m\n\u001b[0;32m    417\u001b[0m visitor \u001b[38;5;241m=\u001b[39m \u001b[38;5;28mgetattr\u001b[39m(\u001b[38;5;28mself\u001b[39m, method, \u001b[38;5;28mself\u001b[39m\u001b[38;5;241m.\u001b[39mgeneric_visit)\n\u001b[1;32m--> 418\u001b[0m \u001b[38;5;28;01mreturn\u001b[39;00m \u001b[43mvisitor\u001b[49m\u001b[43m(\u001b[49m\u001b[43mnode\u001b[49m\u001b[43m)\u001b[49m\n",
      "File \u001b[1;32mo:\\DriveFiles\\GP_Projects\\Bug-Repair\\Q-A\\MyMutpy\\operators\\copyAST.py:100\u001b[0m, in \u001b[0;36mcopyMutation.visit_arg\u001b[1;34m(self, node)\u001b[0m\n\u001b[0;32m     98\u001b[0m \u001b[38;5;28;01mdef\u001b[39;00m \u001b[38;5;21mvisit_arg\u001b[39m(\u001b[38;5;28mself\u001b[39m, node):\n\u001b[0;32m     99\u001b[0m     \u001b[38;5;28;01mif\u001b[39;00m (node \u001b[38;5;129;01mis\u001b[39;00m \u001b[38;5;28;01mNone\u001b[39;00m): \u001b[38;5;28;01mreturn\u001b[39;00m \u001b[38;5;28;01mNone\u001b[39;00m\n\u001b[1;32m--> 100\u001b[0m     \u001b[38;5;28;01mreturn\u001b[39;00m ast\u001b[38;5;241m.\u001b[39mcopy_location(ast\u001b[38;5;241m.\u001b[39marg(arg\u001b[38;5;241m=\u001b[39mnode\u001b[38;5;241m.\u001b[39marg, annotation\u001b[38;5;241m=\u001b[39m\u001b[38;5;28;43mself\u001b[39;49m\u001b[38;5;241;43m.\u001b[39;49m\u001b[43mvisit\u001b[49m\u001b[43m(\u001b[49m\u001b[43mnode\u001b[49m\u001b[38;5;241;43m.\u001b[39;49m\u001b[43mannotation\u001b[49m\u001b[43m)\u001b[49m), node)\n",
      "File \u001b[1;32mc:\\Users\\moga\\AppData\\Local\\Programs\\Python\\Python310\\lib\\ast.py:418\u001b[0m, in \u001b[0;36mNodeVisitor.visit\u001b[1;34m(self, node)\u001b[0m\n\u001b[0;32m    416\u001b[0m method \u001b[38;5;241m=\u001b[39m \u001b[38;5;124m'\u001b[39m\u001b[38;5;124mvisit_\u001b[39m\u001b[38;5;124m'\u001b[39m \u001b[38;5;241m+\u001b[39m node\u001b[38;5;241m.\u001b[39m\u001b[38;5;18m__class__\u001b[39m\u001b[38;5;241m.\u001b[39m\u001b[38;5;18m__name__\u001b[39m\n\u001b[0;32m    417\u001b[0m visitor \u001b[38;5;241m=\u001b[39m \u001b[38;5;28mgetattr\u001b[39m(\u001b[38;5;28mself\u001b[39m, method, \u001b[38;5;28mself\u001b[39m\u001b[38;5;241m.\u001b[39mgeneric_visit)\n\u001b[1;32m--> 418\u001b[0m \u001b[38;5;28;01mreturn\u001b[39;00m \u001b[43mvisitor\u001b[49m\u001b[43m(\u001b[49m\u001b[43mnode\u001b[49m\u001b[43m)\u001b[49m\n",
      "File \u001b[1;32mc:\\Users\\moga\\AppData\\Local\\Programs\\Python\\Python310\\lib\\ast.py:488\u001b[0m, in \u001b[0;36mNodeTransformer.generic_visit\u001b[1;34m(self, node)\u001b[0m\n\u001b[0;32m    487\u001b[0m \u001b[38;5;28;01mdef\u001b[39;00m \u001b[38;5;21mgeneric_visit\u001b[39m(\u001b[38;5;28mself\u001b[39m, node):\n\u001b[1;32m--> 488\u001b[0m     \u001b[38;5;28;01mfor\u001b[39;00m field, old_value \u001b[38;5;129;01min\u001b[39;00m iter_fields(node):\n\u001b[0;32m    489\u001b[0m         \u001b[38;5;28;01mif\u001b[39;00m \u001b[38;5;28misinstance\u001b[39m(old_value, \u001b[38;5;28mlist\u001b[39m):\n\u001b[0;32m    490\u001b[0m             new_values \u001b[38;5;241m=\u001b[39m []\n",
      "File \u001b[1;32mc:\\Users\\moga\\AppData\\Local\\Programs\\Python\\Python310\\lib\\ast.py:260\u001b[0m, in \u001b[0;36miter_fields\u001b[1;34m(node)\u001b[0m\n\u001b[0;32m    255\u001b[0m \u001b[38;5;28;01mdef\u001b[39;00m \u001b[38;5;21miter_fields\u001b[39m(node):\n\u001b[0;32m    256\u001b[0m \u001b[38;5;250m    \u001b[39m\u001b[38;5;124;03m\"\"\"\u001b[39;00m\n\u001b[0;32m    257\u001b[0m \u001b[38;5;124;03m    Yield a tuple of ``(fieldname, value)`` for each field in ``node._fields``\u001b[39;00m\n\u001b[0;32m    258\u001b[0m \u001b[38;5;124;03m    that is present on *node*.\u001b[39;00m\n\u001b[0;32m    259\u001b[0m \u001b[38;5;124;03m    \"\"\"\u001b[39;00m\n\u001b[1;32m--> 260\u001b[0m     \u001b[38;5;28;01mfor\u001b[39;00m field \u001b[38;5;129;01min\u001b[39;00m \u001b[43mnode\u001b[49m\u001b[38;5;241;43m.\u001b[39;49m\u001b[43m_fields\u001b[49m:\n\u001b[0;32m    261\u001b[0m         \u001b[38;5;28;01mtry\u001b[39;00m:\n\u001b[0;32m    262\u001b[0m             \u001b[38;5;28;01myield\u001b[39;00m field, \u001b[38;5;28mgetattr\u001b[39m(node, field)\n",
      "\u001b[1;31mAttributeError\u001b[0m: 'NoneType' object has no attribute '_fields'"
     ]
    }
   ],
   "source": [
    "import re\n",
    "from typing import List\n",
    "\n",
    "from joblib import PrintTime\n",
    "def passesNegTests(program:str, program_name:str, inputs:List, outputs:List) -> bool:\n",
    "    \"\"\"\n",
    "    Inputs:\n",
    "    program : str :  program to be tested\n",
    "    inputs : List :  inputs to the program\n",
    "    outputs : List :  outputs of the program\n",
    "    \"\"\"\n",
    "    # let's try by capturing the name of the function in regex and the list of names is compared with the name of the function\n",
    "    editedProgram = None\n",
    "    passedTests = 0\n",
    "    function_names = re.findall(r'def\\s+(\\w+)', program)\n",
    "    for name in function_names:\n",
    "        if name == program_name:\n",
    "            # program = re.sub(r'$', f'\\ntestcase = {inputs}', program)\n",
    "            program = re.sub(r'$', f'\\nres = {program_name}', program)\n",
    "            # print(program)\n",
    "            break\n",
    "\n",
    "    for i in range(len(inputs)):\n",
    "        try:\n",
    "            testcase = inputs[i]\n",
    "            program = re.sub(f'\\nres = {program_name}', f'\\n\\ntestcase = {testcase}\\nres = {program_name}', program)\n",
    "            editedProgram = re.sub(f'\\nres = {program_name}', f'\\nres = {program_name}(*testcase)', program)\n",
    "            if (globals().get('res') is not None):\n",
    "                del globals()['res']\n",
    "            exec(editedProgram, globals())\n",
    "            print(res)\n",
    "            if res == outputs[i]:\n",
    "                passedTests += 1\n",
    "        except Exception as e:\n",
    "            print(e)\n",
    "            # return False\n",
    "    return passedTests\n",
    "\n",
    "# Open the file in read mode\n",
    "with open('BuggyProgram.txt', 'r') as file:\n",
    "    # Read the entire content of the file\n",
    "    content = file.read()\n",
    "    print(content)\n",
    "\n",
    "# passedTests = passesNegTests(content, 'add', [(1, 2), (1, 2)], [(3), (2)])\n",
    "# print(passedTests)\n",
    "# ast.dump(ast.parse(content))\n",
    "content=\"\"\"\n",
    "def add(a, b):\n",
    "    return a * b\n",
    "\"\"\"\n",
    "copier.visit(ast.parse(content))"
   ]
  },
  {
   "cell_type": "markdown",
   "metadata": {},
   "source": [
    "# Karim Part"
   ]
  },
  {
   "cell_type": "code",
   "execution_count": 14,
   "metadata": {},
   "outputs": [
    {
     "name": "stdout",
     "output_type": "stream",
     "text": [
      "Module(\n",
      "    body=[\n",
      "        Assign(\n",
      "            targets=[\n",
      "                Name(id='x', ctx=Store())],\n",
      "            value=Constant(value=2)),\n",
      "        Expr(\n",
      "            value=Call(\n",
      "                func=Name(id='print', ctx=Load()),\n",
      "                args=[],\n",
      "                keywords=[])),\n",
      "        If(\n",
      "            test=Compare(\n",
      "                left=Name(id='x', ctx=Load()),\n",
      "                ops=[\n",
      "                    Eq()],\n",
      "                comparators=[\n",
      "                    Constant(value=2)]),\n",
      "            body=[\n",
      "                If(\n",
      "                    test=Compare(\n",
      "                        left=Name(id='x', ctx=Load()),\n",
      "                        ops=[\n",
      "                            NotEq()],\n",
      "                        comparators=[\n",
      "                            Constant(value=5)]),\n",
      "                    body=[\n",
      "                        Pass()],\n",
      "                    orelse=[]),\n",
      "                Assign(\n",
      "                    targets=[\n",
      "                        Name(id='y', ctx=Store())],\n",
      "                    value=Constant(value=2))],\n",
      "            orelse=[\n",
      "                Expr(\n",
      "                    value=Call(\n",
      "                        func=Name(id='print', ctx=Load()),\n",
      "                        args=[\n",
      "                            Constant(value='x is not 2')],\n",
      "                        keywords=[])),\n",
      "                Assign(\n",
      "                    targets=[\n",
      "                        Name(id='y', ctx=Store())],\n",
      "                    value=Constant(value=3))])],\n",
      "    type_ignores=[])\n"
     ]
    }
   ],
   "source": [
    "import unparseAST\n",
    "import ast\n",
    "code = \"\"\"\n",
    "x = 2\n",
    "print()\n",
    "if x == 2:\n",
    "    if x != 5:\n",
    "        pass\n",
    "    y = 2\n",
    "else:\n",
    "    print(\"x is not 2\")\n",
    "    y = 3\n",
    "\"\"\"\n",
    "code_ast = ast.parse(code)\n",
    "\n",
    "print(ast.dump(code_ast, indent = 4))"
   ]
  },
  {
   "cell_type": "code",
   "execution_count": 15,
   "metadata": {},
   "outputs": [
    {
     "name": "stdout",
     "output_type": "stream",
     "text": [
      "OK\n",
      "OK\n",
      "\n",
      "x = 2\n",
      "print()\n",
      "if x == 2:\n",
      "    if x != 5:\n",
      "        pass\n",
      "    y = 2\n",
      "else:\n",
      "    print('x is not 2')\n",
      "    y = 3\n"
     ]
    }
   ],
   "source": [
    "from numpy import generic\n",
    "from sympy import I\n",
    "\n",
    "\n",
    "class kimoMutator(ast.NodeVisitor):\n",
    "\n",
    "    def __init__(self):\n",
    "        self.parents = []\n",
    "        self.indices = []\n",
    "        self.target_line_no = None\n",
    "\n",
    "    def store_parent(self, index, parent):\n",
    "        self.parents.append(parent)\n",
    "        self.indices.append(index)\n",
    "\n",
    "    def set_line_no(self, linenumbers):\n",
    "        self.target_line_numbers = linenumbers\n",
    "\n",
    "    @property\n",
    "    def get_indices(self):\n",
    "        return self.indices\n",
    "\n",
    "    @property\n",
    "    def get_parents(self):\n",
    "        return self.parents\n",
    "\n",
    "    def visit_If(self, node):\n",
    "        x = node.parent\n",
    "        # new_node = ast.parse(\"print('hello')\")\n",
    "        if (node.lineno in self.target_line_numbers):\n",
    "            for i, nodeParent in enumerate(node.parent.body):\n",
    "                # node.parent.body\n",
    "                if (nodeParent is node):\n",
    "                    print(\"OK\")\n",
    "                    self.store_parent(i, node.parent)\n",
    "\n",
    "                    # x.append(new_node)\n",
    "                    # node._fields = node._fields + (\"test\",)\n",
    "                    # setattr(node, \"body\", x)\n",
    "                    # node.parent.body.insert(i - 1, ast.parse(\"print('hello')\"))\n",
    "\n",
    "            # print(node)\n",
    "        return self.generic_visit(node)\n",
    "    \n",
    "def parentify(tree):\n",
    "    tree.parent = None\n",
    "    for node in ast.walk(tree):\n",
    "        for child in ast.iter_child_nodes(node):\n",
    "            child.parent = node\n",
    "\n",
    "parentify(code_ast)\n",
    "mutator = kimoMutator()\n",
    "new_node = ast.parse(\"print('hello')\\n\")\n",
    "lineNos = {4, 5}\n",
    "mutator.set_line_no(lineNos)\n",
    "##############################################################\n",
    "\n",
    "\n",
    "mutator.visit(code_ast)\n",
    "# mutator.parent.body.insert(mutator.index, new_node)\n",
    "# print(mutator.parent.body)\n",
    "print(unparseAST.to_source(code_ast))\n"
   ]
  },
  {
   "cell_type": "code",
   "execution_count": 16,
   "metadata": {},
   "outputs": [
    {
     "name": "stdout",
     "output_type": "stream",
     "text": [
      "Module(\n",
      "    body=[\n",
      "        Expr(\n",
      "            value=Call(\n",
      "                func=Name(id='print', ctx=Load()),\n",
      "                args=[\n",
      "                    Constant(value='hello')],\n",
      "                keywords=[]))],\n",
      "    type_ignores=[])\n"
     ]
    }
   ],
   "source": [
    "print(ast.dump(new_node, indent = 4))"
   ]
  },
  {
   "cell_type": "code",
   "execution_count": 17,
   "metadata": {},
   "outputs": [
    {
     "name": "stdout",
     "output_type": "stream",
     "text": [
      "x = 2\n",
      "print()\n",
      "print('hello')\n",
      "if x == 2:\n",
      "    print('hello')\n",
      "    if x != 5:\n",
      "        pass\n",
      "    y = 2\n",
      "else:\n",
      "    print('x is not 2')\n",
      "    y = 3\n"
     ]
    }
   ],
   "source": [
    "for i, parent in enumerate(mutator.get_parents):\n",
    "    parent.body.insert(mutator.get_indices[i], new_node.body[0])\n",
    "    ast.fix_missing_locations(code_ast)\n",
    "    # break\n",
    "print(ast.unparse(code_ast))"
   ]
  }
 ],
 "metadata": {
  "kernelspec": {
   "display_name": "Python 3",
   "language": "python",
   "name": "python3"
  },
  "language_info": {
   "codemirror_mode": {
    "name": "ipython",
    "version": 3
   },
   "file_extension": ".py",
   "mimetype": "text/x-python",
   "name": "python",
   "nbconvert_exporter": "python",
   "pygments_lexer": "ipython3",
   "version": "3.10.12"
  }
 },
 "nbformat": 4,
 "nbformat_minor": 2
}
