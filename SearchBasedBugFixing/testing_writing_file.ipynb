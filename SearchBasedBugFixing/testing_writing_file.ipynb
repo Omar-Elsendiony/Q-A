{
 "cells": [
  {
   "cell_type": "code",
   "execution_count": 2,
   "metadata": {},
   "outputs": [],
   "source": [
    "code = \"\"\"x= 2\n",
    "if (x == 2):\n",
    "    y = 6\"\"\"\n",
    "\n",
    "\n",
    "with open('myfile.py', 'w') as f:\n",
    "    f.write(code)"
   ]
  },
  {
   "cell_type": "code",
   "execution_count": 5,
   "metadata": {},
   "outputs": [
    {
     "name": "stdout",
     "output_type": "stream",
     "text": [
      "copied from './myfile.py' to 'testcases/GeneratedTests/source_code.py'.\n"
     ]
    }
   ],
   "source": [
    "import shutil\n",
    "def copyMutantFile():\n",
    "\n",
    "    # Construct the source and destination file paths\n",
    "    source_file_path =  \"./myfile.py\"\n",
    "    destination_file_path = f'testcases/GeneratedTests/source_code.py'\n",
    "\n",
    "    # Copy the file from the source folder to the destination folder\n",
    "    shutil.copy(source_file_path, destination_file_path)\n",
    "\n",
    "    print(f\"copied from '{source_file_path}' to '{destination_file_path}'.\")\n",
    "\n",
    "copyMutantFile()"
   ]
  },
  {
   "cell_type": "code",
   "execution_count": 65,
   "metadata": {},
   "outputs": [
    {
     "name": "stdout",
     "output_type": "stream",
     "text": [
      "\u001b[1m============================= test session starts ==============================\u001b[0m\n",
      "platform linux -- Python 3.10.12, pytest-8.2.0, pluggy-1.5.0\n",
      "rootdir: /root/siemens/Q-A/SearchBasedBugFixing\n",
      "plugins: fauxpy-0.1, timeout-2.1.0, anyio-4.3.0\n",
      "collected 2 items\n",
      "\n",
      "testcases/GeneratedTests/test.py \u001b[31mF\u001b[0m\u001b[32m.\u001b[0m\u001b[31m                                      [100%]\u001b[0m\n",
      "\n",
      "=================================== FAILURES ===================================\n",
      "\u001b[31m\u001b[1m____________________________________ test_0 ____________________________________\u001b[0m\n",
      "\n",
      "    \u001b[0m\u001b[94mdef\u001b[39;49;00m \u001b[92mtest_0\u001b[39;49;00m():\u001b[90m\u001b[39;49;00m\n",
      "        \u001b[94mpass\u001b[39;49;00m\u001b[90m\u001b[39;49;00m\n",
      "        input_0 = \u001b[94m127\u001b[39;49;00m\u001b[90m\u001b[39;49;00m\n",
      ">       \u001b[94massert\u001b[39;49;00m bitcount(input_0) == \u001b[94m7\u001b[39;49;00m\u001b[90m\u001b[39;49;00m\n",
      "\u001b[1m\u001b[31mE       assert 1 == 7\u001b[0m\n",
      "\u001b[1m\u001b[31mE        +  where 1 = bitcount(127)\u001b[0m\n",
      "\n",
      "\u001b[1m\u001b[31mtestcases/GeneratedTests/test.py\u001b[0m:6: AssertionError\n",
      "\u001b[36m\u001b[1m=========================== short test summary info ============================\u001b[0m\n",
      "\u001b[31mFAILED\u001b[0m testcases/GeneratedTests/test.py::\u001b[1mtest_0\u001b[0m - assert 1 == 7\n",
      "\u001b[31m========================= \u001b[31m\u001b[1m1 failed\u001b[0m, \u001b[32m1 passed\u001b[0m\u001b[31m in 0.22s\u001b[0m\u001b[31m ==========================\u001b[0m\n",
      "\n"
     ]
    }
   ],
   "source": [
    "import subprocess\n",
    "test_path = f'testcases/GeneratedTests/test.py'\n",
    "src_path = f'testcases/GeneratedTests/source_code.py'\n",
    "res = subprocess.run([\"python3\", \"-m\", \"pytest\", f\"{test_path}\"], stderr=subprocess.PIPE, stdout=subprocess.PIPE)\n",
    "# print(str(res).split()[-1])\n",
    "res = res.stdout.decode('utf-8')\n",
    "print(res)"
   ]
  },
  {
   "cell_type": "code",
   "execution_count": 68,
   "metadata": {},
   "outputs": [],
   "source": [
    "splitted = res.split()\n",
    "passed = None; Failed = None\n",
    "passOrFailedNum = splitted[-5]\n",
    "passOrFailedString = splitted[-4]\n",
    "if (passOrFailedString == \"passed\"):\n",
    "    passed = passOrFailedNum\n",
    "else:\n",
    "    Failed = passOrFailedNum\n",
    "    passed = 0\n"
   ]
  }
 ],
 "metadata": {
  "kernelspec": {
   "display_name": "Python 3",
   "language": "python",
   "name": "python3"
  },
  "language_info": {
   "codemirror_mode": {
    "name": "ipython",
    "version": 3
   },
   "file_extension": ".py",
   "mimetype": "text/x-python",
   "name": "python",
   "nbconvert_exporter": "python",
   "pygments_lexer": "ipython3",
   "version": "3.10.12"
  }
 },
 "nbformat": 4,
 "nbformat_minor": 2
}
