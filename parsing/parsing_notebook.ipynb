{
 "cells": [
  {
   "cell_type": "code",
   "execution_count": 2,
   "metadata": {},
   "outputs": [],
   "source": [
    "from typing import AnyStr\n",
    "import ast\n",
    "string = \"s = 5\\nmyString = 'Hell'\\nprint(myString)\"\n",
    "tree = compile(source = string, filename =\"test\", mode=\"exec\", flags= ast.PyCF_ONLY_AST)"
   ]
  },
  {
   "cell_type": "code",
   "execution_count": 3,
   "metadata": {},
   "outputs": [
    {
     "data": {
      "text/plain": [
       "'my_ast.png'"
      ]
     },
     "execution_count": 3,
     "metadata": {},
     "output_type": "execute_result"
    }
   ],
   "source": [
    "from graphviz import Digraph\n",
    "dot = Digraph()\n",
    "# Define a function to recursively add nodes to the Digraph\n",
    "def add_node(node, parent=None):\n",
    "    node_name = str(node.__class__.__name__)\n",
    "    dot.node(str(id(node)), node_name)\n",
    "    if parent:\n",
    "        dot.edge(str(id(parent)), str(id(node)))\n",
    "    for child in ast.iter_child_nodes(node):\n",
    "        add_node(child, node)\n",
    "\n",
    "\n",
    "# Add nodes to the Digraph\n",
    "add_node(tree)\n",
    "\n",
    "# Render the Digraph as a PNG file\n",
    "dot.format = 'png'\n",
    "dot.render('my_ast', view=True)"
   ]
  },
  {
   "cell_type": "code",
   "execution_count": 4,
   "metadata": {},
   "outputs": [],
   "source": [
    "class v(ast.NodeVisitor):\n",
    "   def generic_visit(self, node):\n",
    "    print(type(node).__name__)\n",
    "    m = ast.NodeVisitor.generic_visit(self, node)\n",
    "\n",
    "n = v()\n",
    "# print(n.visit(tree))"
   ]
  },
  {
   "cell_type": "code",
   "execution_count": 5,
   "metadata": {},
   "outputs": [],
   "source": [
    "# import ast\n",
    "# my_ast:ast = ast.parse(source=string)\n",
    "\n",
    "# # def ast_visit_v1():\n",
    "\n",
    "\n",
    "# def getHeight(node, height=0):\n",
    "#     max = height\n",
    "#     for n in ast.iter_child_nodes(node):\n",
    "#         retHeight = getHeight(n, height=height+1)\n",
    "#         max = retHeight if retHeight > max else max\n",
    "#     return max\n",
    "\n",
    "# height = getHeight(my_ast)\n",
    "# print(height)"
   ]
  },
  {
   "cell_type": "code",
   "execution_count": 6,
   "metadata": {},
   "outputs": [
    {
     "name": "stdout",
     "output_type": "stream",
     "text": [
      "Module(body=[<ast.Assign object at 0x000001B69238FCD0>], type_ignores=[])\n",
      "  Assign(targets=[<ast.Name object at 0x000001B69238FD30>], value=BinOp(left=Name(id='a', ctx=Load()), op=Add(), right=Name(id='b', ctx=Load())), type_comment=None)\n",
      "    Name(id='x', ctx=Store())\n",
      "      Store()\n",
      "    BinOp(left=Name(id='a', ctx=Load()), op=Add(), right=Name(id='b', ctx=Load()))\n",
      "      Name(id='a', ctx=Load())\n",
      "        Load()\n",
      "      Add()\n",
      "      Name(id='b', ctx=Load())\n",
      "        Load()\n"
     ]
    }
   ],
   "source": [
    "import ast\n",
    "def str_node(node):\n",
    "    if isinstance(node, ast.AST):\n",
    "        fields = [(name, str_node(val)) for name, val in ast.iter_fields(node)]\n",
    "        rv = '%s(%s' % (node.__class__.__name__, ', '.join('%s=%s' % field for field in fields))\n",
    "        return rv + ')'\n",
    "    else:\n",
    "        return repr(node)\n",
    "def ast_visit(node, level=0):\n",
    "    print('  ' * level + str_node(node))\n",
    "    for field, value in ast.iter_fields(node):\n",
    "        if isinstance(value, list):\n",
    "            for item in value:\n",
    "                if isinstance(item, ast.AST):\n",
    "                    ast_visit(item, level=level+1)\n",
    "        elif isinstance(value, ast.AST):\n",
    "            ast_visit(value, level=level+1)\n",
    "\n",
    "\n",
    "ast_visit(ast.parse('x = a + b'))"
   ]
  },
  {
   "cell_type": "code",
   "execution_count": 7,
   "metadata": {},
   "outputs": [],
   "source": [
    "def removing_elements(my_list, element, index=0):\n",
    "   result = [i for i in my_list if i[index] != element]\n",
    "   return result"
   ]
  },
  {
   "cell_type": "code",
   "execution_count": 8,
   "metadata": {},
   "outputs": [],
   "source": [
    "# implementing gumTree\n",
    "import itertools\n",
    "from utilities_parsing import *\n",
    "# raise Exception(\"stop\")\n",
    "T1 = tree\n",
    "T2 = tree\n",
    "\"\"\" parentify and addHeightAttribute are utility functions that are used to add parent and height attributes to the nodes of the AST. \"\"\"\n",
    "parentify(T1); parentify(T2)\n",
    "addHeightAttribute(T1); addHeightAttribute(T2)\n",
    "\"\"\" Initialize the priority queues L1 and L2 with the root nodes of T1 and T2, respectively. \"\"\"\n",
    "L1 = PriorityQueue()\n",
    "L2 = PriorityQueue()\n",
    "A = list()\n",
    "M = set()\n",
    "isomorphism = {}\n",
    "L1.put((getHeight(T1), id(T1), T1))\n",
    "L2.put((getHeight(T2), id(T2), T2))\n",
    "# L1Size = 1\n",
    "# L2Size = 1\n",
    "# minHeight = 2\n",
    "isomorphic = compare_ast\n",
    "def topdown(T1, T2, L1, L2, A, M, minHeight = 2, L1Size=1, L2Size=1):\n",
    "    # peekMax = getHeight  #peekMax is the maximum height but I do not know why literature names it like this\n",
    "    while (min(peekMax(L1),peekMax(L2)) > minHeight):\n",
    "        if (peekMax(L1) != peekMax(L2)):\n",
    "            if (peekMax(L1) > peekMax(L2)):\n",
    "                # pop all elements having a height equal to peekMax\n",
    "                poppedT = popUtility(L1)\n",
    "                L1Size = L1Size - len(poppedT)\n",
    "                for t in poppedT:\n",
    "                    for child in ast.iter_child_nodes(t):\n",
    "                        L1.put((getHeight(child), id(child), child))\n",
    "                        L1Size += 1\n",
    "            else:\n",
    "                poppedT = popUtility(L2)\n",
    "                L2Size = L2Size - len(poppedT)\n",
    "\n",
    "                for t in poppedT:\n",
    "                    for child in ast.iter_child_nodes(t):\n",
    "                        L2.put((getHeight(child), id(child), child))\n",
    "                        L2Size += 1\n",
    "        else:\n",
    "            H1 = popUtility(L1)\n",
    "            H2 = popUtility(L2)\n",
    "            H1CrossH2 = list()\n",
    "            H1CrossH2.append(H1)\n",
    "            H1CrossH2.append(H2)\n",
    "            H1CrossH2 = list(H1CrossH2)\n",
    "            for t1, t2 in itertools.product(*H1CrossH2):\n",
    "                if isomorphic(t1, t2):\n",
    "                    thereExists = checkOtherT(t1, t2, T2)\n",
    "                    if (not thereExists): thereExists = checkOtherT(t2, t1, T1)\n",
    "                    if (thereExists):\n",
    "                        A.append((t1, t2))\n",
    "                    else:\n",
    "                        l = list(zip(ast.walk(t1), ast.walk(t2))) # add all pairs of isomorphic nodes to \n",
    "                        # ignore the first pair as it is the node itself\n",
    "                        i = 0\n",
    "                        for t11, t22 in (l):\n",
    "                            if (i == 0): i+=1; continue\n",
    "                            M.add((t11, t22))\n",
    "                        # print(\"exists\")\n",
    "            # for m, n in M:\n",
    "            #     print(m, n)\n",
    "            AunionM = set(A) | M\n",
    "            # print(AunionM)\n",
    "            for t1 in H1:\n",
    "                notInUnion = True\n",
    "                for t11, t22 in AunionM:\n",
    "                    if t11 is t1:\n",
    "                        notInUnion = False\n",
    "                        break\n",
    "                if (notInUnion):\n",
    "                    for child in ast.iter_child_nodes(t1):\n",
    "                        L1.put((getHeight(t1), id(t1), t1))\n",
    "                        L1Size = L1Size + 1\n",
    "            \n",
    "            for t2 in H2:\n",
    "                notInUnion = True\n",
    "                for t11, t22 in AunionM:\n",
    "                    if t22 is t2: \n",
    "                        notInUnion = False\n",
    "                        break\n",
    "                if (notInUnion): #put its descendants in the queue\n",
    "                    for child in ast.iter_child_nodes(t2):\n",
    "                        L2.put((getHeight(child), id(child), child))\n",
    "                        L2Size += 1\n",
    "    A = sorted(A, key=lambda x: dice(x[0], x[1], M), reverse=True)\n",
    "    while (len(A) > 0):\n",
    "        t1, t2 = A.pop(0)\n",
    "        # add all pairs of isomorphic nodes to M\n",
    "        l = list(zip(ast.walk(t1), ast.walk(t2)))\n",
    "        i = 0\n",
    "        for t11, t22 in (l):\n",
    "            if (i == 0): i+=1; continue\n",
    "            M.add((t11, t22))\n",
    "        removing_elements(A, t1, 0)\n",
    "        removing_elements(A, t2, 1)\n",
    "            \n",
    "\n",
    "topdown(T1, T2, L1, L2, A, M)\n",
    "\n",
    "\n",
    "# print(A)"
   ]
  },
  {
   "cell_type": "code",
   "execution_count": 9,
   "metadata": {},
   "outputs": [],
   "source": [
    "def has_matched_children(node1, node2, M):\n",
    "    for child1 in ast.iter_child_nodes(node1):\n",
    "        for t1, t2 in M:\n",
    "            if (t1 is child1):\n",
    "                return True\n",
    "    return False"
   ]
  },
  {
   "cell_type": "code",
   "execution_count": 10,
   "metadata": {},
   "outputs": [],
   "source": [
    "def bottomUp(T1, T2, M, minDice = 0.5, minHeight = 2):\n",
    "    T1 = postordertraversal(t1)\n",
    "    for t1 in T1:\n",
    "        if (not is_leaf_node(t1) and has_matched_children(t1, t2, M)):\n",
    "            for t2 in T2:\n",
    "                if (not is_leaf_node(t2) and has_matched_children(t2, t1, M)):\n",
    "                    if (dice(t1, t2, M) >= minDice):\n",
    "                        M.add((t1, t2))\n",
    "    pass"
   ]
  },
  {
   "cell_type": "code",
   "execution_count": 11,
   "metadata": {},
   "outputs": [
    {
     "name": "stdout",
     "output_type": "stream",
     "text": [
      "Module(\n",
      "    body=[\n",
      "        Assign(\n",
      "            targets=[\n",
      "                Name(id='s', ctx=Store())],\n",
      "            value=Constant(value=5)),\n",
      "        Assign(\n",
      "            targets=[\n",
      "                Name(id='myString', ctx=Store())],\n",
      "            value=Constant(value='Hell')),\n",
      "        Expr(\n",
      "            value=Call(\n",
      "                func=Name(id='print', ctx=Load()),\n",
      "                args=[\n",
      "                    Name(id='myString', ctx=Load())],\n",
      "                keywords=[]))],\n",
      "    type_ignores=[])\n"
     ]
    }
   ],
   "source": [
    "from textwrap import indent\n",
    "\n",
    "\n",
    "def traversePostorder(node):\n",
    "    for child in ast.iter_child_nodes(node):\n",
    "        traversePostorder(child)\n",
    "    print(node)\n",
    "\n",
    "print(ast.dump(tree , indent=4))"
   ]
  },
  {
   "cell_type": "code",
   "execution_count": 12,
   "metadata": {},
   "outputs": [],
   "source": [
    "import apted\n",
    "# print(T1)\n",
    "# like = apted.APTED(T1, T2, 1, 1)"
   ]
  },
  {
   "cell_type": "code",
   "execution_count": 13,
   "metadata": {},
   "outputs": [],
   "source": [
    "def add_node(node, parent=None):\n",
    "    node_name = str(node.__class__.__name__)\n",
    "    dot.node(str(id(node)), node_name)\n",
    "    if parent:\n",
    "        dot.edge(str(id(parent)), str(id(node)))\n",
    "    for child in ast.iter_child_nodes(node):\n",
    "        add_node(child, node)"
   ]
  },
  {
   "cell_type": "code",
   "execution_count": 14,
   "metadata": {},
   "outputs": [
    {
     "name": "stdout",
     "output_type": "stream",
     "text": [
      "Module(\n",
      "    body=[\n",
      "        Assign(\n",
      "            targets=[\n",
      "                Name(id='x', ctx=Store())],\n",
      "            value=Constant(value=5))],\n",
      "    type_ignores=[])\n",
      "Module\n"
     ]
    }
   ],
   "source": [
    "a = ast.parse(\"x = 5\")\n",
    "b = ast.parse(\"y = 5\")\n",
    "print(ast.dump(a, indent = 4))\n",
    "print(a.__class__.__name__)\n",
    "if (a == b): print(\"p\")"
   ]
  },
  {
   "cell_type": "code",
   "execution_count": 15,
   "metadata": {},
   "outputs": [],
   "source": [
    "import ast\n",
    "\n",
    "class FunctionCallVisitor(ast.NodeVisitor):\n",
    "    def visit_Call(self, node):\n",
    "        if isinstance(node.func, ast.Name) and node.func.id == \"print\":\n",
    "            args = [arg for arg in node.args if isinstance(arg, ast.Constant)]\n",
    "            if args:\n",
    "                print(\"Detected print statements with string literals:\")\n",
    "                for arg in args:\n",
    "                    print(arg.s)  # Print the string literal directly\n",
    "        self.generic_visit(node)"
   ]
  },
  {
   "cell_type": "code",
   "execution_count": 16,
   "metadata": {},
   "outputs": [],
   "source": [
    "def perform_static_analysis(code):\n",
    "    tree = ast.parse(code)\n",
    "    visitor = FunctionCallVisitor()\n",
    "    visitor.visit(tree)"
   ]
  },
  {
   "cell_type": "code",
   "execution_count": 17,
   "metadata": {},
   "outputs": [
    {
     "name": "stdout",
     "output_type": "stream",
     "text": [
      "Detected print statements with string literals:\n",
      "pola\n"
     ]
    }
   ],
   "source": [
    "code = \"h = 'pipp'; print('pola')\"\n",
    "perform_static_analysis(code)"
   ]
  },
  {
   "cell_type": "code",
   "execution_count": 18,
   "metadata": {},
   "outputs": [
    {
     "name": "stdout",
     "output_type": "stream",
     "text": [
      "1\n"
     ]
    }
   ],
   "source": [
    "import itertools\n",
    "\n",
    "somelists = [\n",
    "   [1],\n",
    "   ['a']]\n",
    "for element, e in itertools.product(*somelists):\n",
    "    print(element)"
   ]
  },
  {
   "cell_type": "code",
   "execution_count": 19,
   "metadata": {},
   "outputs": [
    {
     "name": "stdout",
     "output_type": "stream",
     "text": [
      "[(1, 3), (2, 4), (3, 4)]\n"
     ]
    }
   ],
   "source": [
    "l = [1, 2 , 3]\n",
    "l2 = [3, 4, 4]\n",
    "print(list(zip(l, l2)))"
   ]
  },
  {
   "cell_type": "code",
   "execution_count": 20,
   "metadata": {},
   "outputs": [
    {
     "name": "stdout",
     "output_type": "stream",
     "text": [
      "myString\n",
      "myString\n",
      "print(myString)\n",
      "print(myString)\n",
      "myString\n",
      "myString\n",
      "print\n",
      "print\n",
      "s\n",
      "s\n",
      "'Hell'\n",
      "'Hell'\n",
      "5\n",
      "5\n",
      "s = 5\n",
      "s = 5\n",
      "myString = 'Hell'\n",
      "myString = 'Hell'\n",
      "print(myString)\n",
      "print(myString)\n"
     ]
    }
   ],
   "source": [
    "import ast\n",
    "import astunparse\n",
    "\n",
    "expr=\"\"\"\n",
    "s = 5\n",
    "\"\"\"\n",
    "p=ast.parse(expr)\n",
    "p.hegiht = 2\n",
    "# print(astunparse.unparse(p))\n",
    "\n",
    "\n",
    "# p.body[0].body = [ ast.parse(\"return 42\")] # Replace function body with \"return 42\"\n",
    "\n",
    "\n",
    "for t1, t2 in M:\n",
    "    if (type(t1) == ast.Store or type(t1) == ast.Load): continue\n",
    "    print(astunparse.unparse(t1).replace(\"\\n\", \"\"))\n",
    "    print(astunparse.unparse(t2).replace(\"\\n\", \"\"))\n",
    "\n",
    "\n"
   ]
  },
  {
   "cell_type": "code",
   "execution_count": 21,
   "metadata": {},
   "outputs": [
    {
     "name": "stdout",
     "output_type": "stream",
     "text": [
      "Store\n",
      "Name\n",
      "Constant\n",
      "Assign\n",
      "Module\n"
     ]
    }
   ],
   "source": [
    "import ast\n",
    "\n",
    "\"\"\" What do you want here?\"\"\"\n",
    "\n",
    "try:\n",
    "    res = ast.parse(\"x = 5\")\n",
    "except SyntaxError as e:\n",
    "    print(e)\n",
    "    print(e.text)\n",
    "    print(e.msg)\n",
    "# def get_ast(node):\n",
    "#     for k , f in ast.iter_fields(res):\n",
    "#         print(k, f)\n",
    "#         get_ast(f)\n",
    "# get_ast(res)\n",
    "    \n",
    "def descendants(node):\n",
    "        return [n for n in ast.walk(node)][1:]\n",
    "\n",
    "def postordertraversal(node, listNodes):\n",
    "    for child in ast.iter_child_nodes(node):\n",
    "        postordertraversal(child, listNodes)\n",
    "    listNodes.append(node)\n",
    "\n",
    "listNodes = []\n",
    "postordertraversal(res, listNodes)\n",
    "\n",
    "for node in listNodes:\n",
    "    print(node.__class__.__name__)\n",
    "\n"
   ]
  },
  {
   "cell_type": "code",
   "execution_count": 22,
   "metadata": {},
   "outputs": [],
   "source": [
    "codesearch='<bos><start_of_turn>user\\nYou are a python expert and your task is: Given the following description and python code:\\n  Description:\\n      Check if in given list of numbers, are any two numbers closer to each other than\\n    given threshold.\\n    >>> has_close_elements([1.0, 2.0, 3.0], 0.5)\\n    False\\n    >>> has_close_elements([1.0, 2.8, 3.0, 4.0, 5.0, 2.0], 0.3)\\n    True\\n  Code:\\n  \\'\\'\\'python\\n  from typing import List\\n\\n\\ndef has_close_elements(numbers: List[float], threshold: float) -> bool:\\n        for idx, elem in enumerate(numbers):\\n        for idx2, elem2 in enumerate(numbers):\\n            if idx != idx2:\\n                distance = abs(elem - elem2)\\n                if distance < threshold:\\n                    return True\\n\\n    return False\\n\\'\\'\\'\\n  Generate a class that contains at least 7 unit tests (where each test has only one assertion) written in python that acheive high coverage to find bugs, runtime errors or logical errors in the code to conform with the description and include any required imports.\\n  You are given examples of unit tests for a similar code, which you can use to write the unit tests for the given code.:\\n  \\'\\'\\'python\\n  \\n\\nMETADATA = {\\n    \\'author\\': \\'jt\\',\\n    \\'dataset\\': \\'test\\'\\n}\\n\\n\\ndef check(candidate):\\n    assert candidate([]) == []\\n    assert candidate([1, 2, 3, 4]) == [1, 2, 3, 4]\\n    assert candidate([1, 2, 3, 2, 4, 3, 5]) == [1, 4, 5]\\n\\'\\'\\'\\n  Make sure to include the unit test call __main__ to run the tests.\\n  The output should be a markdown code snippet formatted in the following schema, including the leading and trailing \"```python\" and \"```\":<end_of_turn>\\n<start_of_turn>model\\n```python\\n\\nimport unittest\\n\\n\\nclass TestHasCloseElements(unittest.TestCase):\\n\\n    def setUp(self):\\n        self.numbers = None\\n\\n    def tearDown(self):\\n        self.numbers = None\\n\\n    def test_empty_list(self):\\n        self.assertEqual(has_close_elements([], 0.5), False)\\n\\n    def test_simple_list(self):\\n        self.assertEqual(has_close_elements([1, 2, 3, 4], 0.5), False)\\n\\n    def test_multiple_close_elements(self):\\n        self.assertEqual(has_close_elements([1, 2, 3, 2, 4, 3, 5], 0.3), True)\\n\\n    def test_threshold_too_high(self):\\n        self.assertEqual(has_close_elements([1, 2, 3, 4], 1.0), False)\\n\\n    def test_different_threshold(self):\\n        self.assertEqual(has_close_elements([1, 2, 3, 4], 0.2), False)\\n\\n    def test_duplicates(self):\\n        self.assertEqual(has_close_elements([1, 2, 3, 2, 4, 3, 5], 0.3), [1, 2, 3, 4])\\n\\n\\nif __name__ == \\'__main__\\':\\n    unittest.main()\\n```\\n\\nThis code snippet includes the required imports, defines a test class called `TestHasCloseElements` that contains 7 unit tests, and includes the `__main__` call to run the tests. Each test has only one assertion, which helps achieve high coverage and makes it easier to find bugs.'"
   ]
  },
  {
   "cell_type": "code",
   "execution_count": 23,
   "metadata": {},
   "outputs": [
    {
     "name": "stdout",
     "output_type": "stream",
     "text": [
      "\n",
      "\n",
      "import unittest\n",
      "\n",
      "\n",
      "class TestHasCloseElements(unittest.TestCase):\n",
      "\n",
      "    def setUp(self):\n",
      "        self.numbers = None\n",
      "\n",
      "    def tearDown(self):\n",
      "        self.numbers = None\n",
      "\n",
      "    def test_empty_list(self):\n",
      "        self.assertEqual(has_close_elements([], 0.5), False)\n",
      "\n",
      "    def test_simple_list(self):\n",
      "        self.assertEqual(has_close_elements([1, 2, 3, 4], 0.5), False)\n",
      "\n",
      "    def test_multiple_close_elements(self):\n",
      "        self.assertEqual(has_close_elements([1, 2, 3, 2, 4, 3, 5], 0.3), True)\n",
      "\n",
      "    def test_threshold_too_high(self):\n",
      "        self.assertEqual(has_close_elements([1, 2, 3, 4], 1.0), False)\n",
      "\n",
      "    def test_different_threshold(self):\n",
      "        self.assertEqual(has_close_elements([1, 2, 3, 4], 0.2), False)\n",
      "\n",
      "    def test_duplicates(self):\n",
      "        self.assertEqual(has_close_elements([1, 2, 3, 2, 4, 3, 5], 0.3), [1, 2, 3, 4])\n",
      "\n",
      "\n",
      "if __name__ == '__main__':\n",
      "    unittest.main()\n",
      "\n"
     ]
    }
   ],
   "source": [
    "import ast\n",
    "import re\n",
    "\n",
    "\n",
    "# codesearch = \"\"\"from typing import List, Any def filter_integers(values: List[Any]) -> List[int]: \\\"\\\"\\\" Filter given list of any python values only for integers >>> filter_integers(['a', 3.14, 5]) [5] >>> filter_integers([1, 2, 3, 'abc', {}, []]) [1, 2, 3] \\\"\\\"\\\"\"\"\"\n",
    "code = re.search(r\"[^\\\"](?<=```python\\n)(.*)(?=```)\", codesearch, re.DOTALL)\n",
    "print(code.group(0))\n",
    "\n",
    "\n",
    "# code = \"\"\"\n",
    "# for idx, elem in enumerate(numbers):\n",
    "#         for idx2, elem2 in enumerate(numbers):\n",
    "#             if idx != idx2:\n",
    "#                 distance = abs(elem - elem2)\n",
    "#                 if distance < threshold:\n",
    "#                     return True\n",
    "#     return False\"\"\"\n",
    "\n",
    "# res = ast.parse(code)\n",
    "# print(ast.dump(res))\n"
   ]
  }
 ],
 "metadata": {
  "kernelspec": {
   "display_name": "Python 3",
   "language": "python",
   "name": "python3"
  },
  "language_info": {
   "codemirror_mode": {
    "name": "ipython",
    "version": 3
   },
   "file_extension": ".py",
   "mimetype": "text/x-python",
   "name": "python",
   "nbconvert_exporter": "python",
   "pygments_lexer": "ipython3",
   "version": "3.10.10"
  }
 },
 "nbformat": 4,
 "nbformat_minor": 2
}
