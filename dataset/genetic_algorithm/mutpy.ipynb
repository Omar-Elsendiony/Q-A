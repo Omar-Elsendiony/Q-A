{
 "cells": [
  {
   "cell_type": "code",
   "execution_count": 1,
   "metadata": {},
   "outputs": [
    {
     "name": "stdout",
     "output_type": "stream",
     "text": [
      "Collecting mutpy\n",
      "  Downloading MutPy-0.6.1-py3-none-any.whl.metadata (10 kB)\n",
      "Requirement already satisfied: Jinja2>=2.7.1 in c:\\users\\moga\\appdata\\local\\programs\\python\\python310\\lib\\site-packages (from mutpy) (3.1.3)\n",
      "Requirement already satisfied: termcolor>=1.0.0 in c:\\users\\moga\\appdata\\local\\programs\\python\\python310\\lib\\site-packages (from mutpy) (2.3.0)\n",
      "Requirement already satisfied: astmonkey>=0.2.2 in c:\\users\\moga\\appdata\\local\\programs\\python\\python310\\lib\\site-packages (from mutpy) (0.3.6)\n",
      "Requirement already satisfied: PyYAML>=3.10 in c:\\users\\moga\\appdata\\local\\programs\\python\\python310\\lib\\site-packages (from mutpy) (6.0)\n",
      "Requirement already satisfied: pydot in c:\\users\\moga\\appdata\\local\\programs\\python\\python310\\lib\\site-packages (from astmonkey>=0.2.2->mutpy) (2.0.0)\n",
      "Requirement already satisfied: MarkupSafe>=2.0 in c:\\users\\moga\\appdata\\local\\programs\\python\\python310\\lib\\site-packages (from Jinja2>=2.7.1->mutpy) (2.1.2)\n",
      "Requirement already satisfied: pyparsing>=3 in c:\\users\\moga\\appdata\\local\\programs\\python\\python310\\lib\\site-packages (from pydot->astmonkey>=0.2.2->mutpy) (3.0.9)\n",
      "Downloading MutPy-0.6.1-py3-none-any.whl (33 kB)\n",
      "Installing collected packages: mutpy\n",
      "Successfully installed mutpy-0.6.1\n"
     ]
    },
    {
     "name": "stderr",
     "output_type": "stream",
     "text": [
      "\n",
      "[notice] A new release of pip is available: 23.3.2 -> 24.0\n",
      "[notice] To update, run: python.exe -m pip install --upgrade pip\n"
     ]
    }
   ],
   "source": [
    "!pip install mutpy"
   ]
  },
  {
   "cell_type": "code",
   "execution_count": 24,
   "metadata": {},
   "outputs": [
    {
     "name": "stdout",
     "output_type": "stream",
     "text": [
      "b''\n"
     ]
    }
   ],
   "source": [
    "import ast\n",
    "import mutpy\n",
    "\n",
    "# Define the code to mutate\n",
    "code = '''\n",
    "def add_numbers(a, b):\n",
    "    return a + b\n",
    "'''\n",
    "\n",
    "# Parse the code into an abstract syntax tree (AST)\n",
    "tree = ast.parse(code)\n",
    "\n",
    "import subprocess\n",
    "import os\n",
    "print(subprocess.Popen(\"mut.py --target calculator --unit-test test_calculator -m\", shell=True, stdout=subprocess.PIPE).stdout.read())\n",
    "# print(x)\n",
    "# print(mutpy)\n",
    "# Create a MutPy mutation operator\n",
    "# operator = mutpy.operators.ArithmeticOperator()\n",
    "\n",
    "# # Apply the mutation operator to the AST\n",
    "# mutated_tree = operator.visit(tree)\n",
    "\n",
    "# # Convert the mutated AST back to code\n",
    "# mutated_code = ast.unparse(mutated_tree)\n",
    "\n",
    "# # Print the mutated code\n",
    "# print(mutated_code)\n"
   ]
  }
 ],
 "metadata": {
  "kernelspec": {
   "display_name": "Python 3",
   "language": "python",
   "name": "python3"
  },
  "language_info": {
   "codemirror_mode": {
    "name": "ipython",
    "version": 3
   },
   "file_extension": ".py",
   "mimetype": "text/x-python",
   "name": "python",
   "nbconvert_exporter": "python",
   "pygments_lexer": "ipython3",
   "version": "3.10.10"
  }
 },
 "nbformat": 4,
 "nbformat_minor": 2
}
